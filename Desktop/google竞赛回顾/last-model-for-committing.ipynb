{
 "cells": [
  {
   "cell_type": "code",
   "execution_count": 1,
   "id": "4c453679",
   "metadata": {
    "_cell_guid": "b1076dfc-b9ad-4769-8c92-a6c4dae69d19",
    "_uuid": "8f2839f25d086af736a60e9eeb907d3b93b6e0e5",
    "execution": {
     "iopub.execute_input": "2021-08-04T06:36:53.477096Z",
     "iopub.status.busy": "2021-08-04T06:36:53.475575Z",
     "iopub.status.idle": "2021-08-04T06:36:54.367488Z",
     "shell.execute_reply": "2021-08-04T06:36:54.366926Z",
     "shell.execute_reply.started": "2021-08-04T02:42:52.553223Z"
    },
    "papermill": {
     "duration": 0.937612,
     "end_time": "2021-08-04T06:36:54.367630",
     "exception": false,
     "start_time": "2021-08-04T06:36:53.430018",
     "status": "completed"
    },
    "tags": []
   },
   "outputs": [
    {
     "name": "stdout",
     "output_type": "stream",
     "text": [
      "/kaggle/input/ssssssss/ss.pkl\n",
      "/kaggle/input/fork-of-lgb-regression-16-12-16-13/sub_lgb_after_ann_normal_tdn12_tsn16_tdan13_tsan16.csv\n",
      "/kaggle/input/fork-of-lgb-regression-16-12-16-13/model_lat_16_12_16_13.pkl\n",
      "/kaggle/input/fork-of-lgb-regression-16-12-16-13/__results__.html\n",
      "/kaggle/input/fork-of-lgb-regression-16-12-16-13/__notebook__.ipynb\n",
      "/kaggle/input/fork-of-lgb-regression-16-12-16-13/__output__.json\n",
      "/kaggle/input/fork-of-lgb-regression-16-12-16-13/model_lng_16_12_16_13.pkl\n",
      "/kaggle/input/fork-of-lgb-regression-16-12-16-13/custom.css\n",
      "/kaggle/input/google-smartphone-decimeter-challenge/sample_submission.csv\n",
      "/kaggle/input/google-smartphone-decimeter-challenge/baseline_locations_train.csv\n",
      "/kaggle/input/google-smartphone-decimeter-challenge/baseline_locations_test.csv\n",
      "/kaggle/input/google-smartphone-decimeter-challenge/metadata/constellation_type_mapping.csv\n",
      "/kaggle/input/google-smartphone-decimeter-challenge/metadata/accumulated_delta_range_state_bit_map.json\n",
      "/kaggle/input/google-smartphone-decimeter-challenge/metadata/raw_state_bit_map.json\n",
      "/kaggle/input/google-smartphone-decimeter-challenge/test/2021-04-29-US-MTV-2/SamsungS20Ultra/SamsungS20Ultra_GnssLog.txt\n",
      "/kaggle/input/google-smartphone-decimeter-challenge/test/2021-04-29-US-MTV-2/SamsungS20Ultra/SamsungS20Ultra_derived.csv\n",
      "/kaggle/input/google-smartphone-decimeter-challenge/test/2021-04-29-US-MTV-2/SamsungS20Ultra/supplemental/SamsungS20Ultra_GnssLog.21o\n",
      "/kaggle/input/google-smartphone-decimeter-challenge/test/2021-04-29-US-MTV-2/Pixel5/Pixel5_derived.csv\n",
      "/kaggle/input/google-smartphone-decimeter-challenge/test/2021-04-29-US-MTV-2/Pixel5/Pixel5_GnssLog.txt\n",
      "/kaggle/input/google-smartphone-decimeter-challenge/test/2021-04-29-US-MTV-2/Pixel5/supplemental/Pixel5_GnssLog.21o\n",
      "/kaggle/input/google-smartphone-decimeter-challenge/test/2021-04-29-US-MTV-2/Pixel4/Pixel4_derived.csv\n",
      "/kaggle/input/google-smartphone-decimeter-challenge/test/2021-04-29-US-MTV-2/Pixel4/Pixel4_GnssLog.txt\n",
      "/kaggle/input/google-smartphone-decimeter-challenge/test/2021-04-29-US-MTV-2/Pixel4/supplemental/Pixel4_GnssLog.21o\n",
      "/kaggle/input/google-smartphone-decimeter-challenge/test/2021-04-08-US-MTV-1/SamsungS20Ultra/SamsungS20Ultra_GnssLog.txt\n",
      "/kaggle/input/google-smartphone-decimeter-challenge/test/2021-04-08-US-MTV-1/SamsungS20Ultra/SamsungS20Ultra_derived.csv\n",
      "/kaggle/input/google-smartphone-decimeter-challenge/test/2021-04-08-US-MTV-1/SamsungS20Ultra/supplemental/SamsungS20Ultra_GnssLog.21o\n",
      "/kaggle/input/google-smartphone-decimeter-challenge/test/2021-04-08-US-MTV-1/Pixel5/Pixel5_derived.csv\n",
      "/kaggle/input/google-smartphone-decimeter-challenge/test/2021-04-08-US-MTV-1/Pixel5/Pixel5_GnssLog.txt\n",
      "/kaggle/input/google-smartphone-decimeter-challenge/test/2021-04-08-US-MTV-1/Pixel5/supplemental/Pixel5_GnssLog.21o\n",
      "/kaggle/input/google-smartphone-decimeter-challenge/test/2021-04-08-US-MTV-1/Pixel4/Pixel4_derived.csv\n",
      "/kaggle/input/google-smartphone-decimeter-challenge/test/2021-04-08-US-MTV-1/Pixel4/Pixel4_GnssLog.txt\n",
      "/kaggle/input/google-smartphone-decimeter-challenge/test/2021-04-08-US-MTV-1/Pixel4/supplemental/Pixel4_GnssLog.21o\n",
      "/kaggle/input/google-smartphone-decimeter-challenge/test/2021-04-08-US-MTV-1/Pixel4Modded/Pixel4Modded_GnssLog.txt\n",
      "/kaggle/input/google-smartphone-decimeter-challenge/test/2021-04-08-US-MTV-1/Pixel4Modded/Pixel4Modded_derived.csv\n",
      "/kaggle/input/google-smartphone-decimeter-challenge/test/2021-04-08-US-MTV-1/Pixel4Modded/supplemental/Pixel4Modded_GnssLog.21o\n",
      "/kaggle/input/google-smartphone-decimeter-challenge/test/2021-04-29-US-SJC-3/SamsungS20Ultra/SamsungS20Ultra_GnssLog.txt\n",
      "/kaggle/input/google-smartphone-decimeter-challenge/test/2021-04-29-US-SJC-3/SamsungS20Ultra/SamsungS20Ultra_derived.csv\n",
      "/kaggle/input/google-smartphone-decimeter-challenge/test/2021-04-29-US-SJC-3/SamsungS20Ultra/supplemental/SamsungS20Ultra_GnssLog.21o\n",
      "/kaggle/input/google-smartphone-decimeter-challenge/test/2021-04-29-US-SJC-3/Pixel4/Pixel4_derived.csv\n",
      "/kaggle/input/google-smartphone-decimeter-challenge/test/2021-04-29-US-SJC-3/Pixel4/Pixel4_GnssLog.txt\n",
      "/kaggle/input/google-smartphone-decimeter-challenge/test/2021-04-29-US-SJC-3/Pixel4/supplemental/Pixel4_GnssLog.21o\n",
      "/kaggle/input/google-smartphone-decimeter-challenge/test/2020-06-04-US-MTV-2/Pixel4XL/Pixel4XL_GnssLog.txt\n",
      "/kaggle/input/google-smartphone-decimeter-challenge/test/2020-06-04-US-MTV-2/Pixel4XL/Pixel4XL_derived.csv\n",
      "/kaggle/input/google-smartphone-decimeter-challenge/test/2020-06-04-US-MTV-2/Pixel4XL/supplemental/Pixel4XL_GnssLog.20o\n",
      "/kaggle/input/google-smartphone-decimeter-challenge/test/2020-06-04-US-MTV-2/Pixel4XLModded/Pixel4XLModded_derived.csv\n",
      "/kaggle/input/google-smartphone-decimeter-challenge/test/2020-06-04-US-MTV-2/Pixel4XLModded/Pixel4XLModded_GnssLog.txt\n",
      "/kaggle/input/google-smartphone-decimeter-challenge/test/2020-06-04-US-MTV-2/Pixel4XLModded/supplemental/Pixel4XLModded_GnssLog.20o\n",
      "/kaggle/input/google-smartphone-decimeter-challenge/test/2020-06-04-US-MTV-2/Pixel4/Pixel4_derived.csv\n",
      "/kaggle/input/google-smartphone-decimeter-challenge/test/2020-06-04-US-MTV-2/Pixel4/Pixel4_GnssLog.txt\n",
      "/kaggle/input/google-smartphone-decimeter-challenge/test/2020-06-04-US-MTV-2/Pixel4/supplemental/Pixel4_GnssLog.20o\n",
      "/kaggle/input/google-smartphone-decimeter-challenge/test/2021-04-21-US-MTV-1/Pixel4/Pixel4_derived.csv\n",
      "/kaggle/input/google-smartphone-decimeter-challenge/test/2021-04-21-US-MTV-1/Pixel4/Pixel4_GnssLog.txt\n",
      "/kaggle/input/google-smartphone-decimeter-challenge/test/2021-04-21-US-MTV-1/Pixel4/supplemental/Pixel4_GnssLog.21o\n",
      "/kaggle/input/google-smartphone-decimeter-challenge/test/2021-04-21-US-MTV-1/Pixel4Modded/Pixel4Modded_GnssLog.txt\n",
      "/kaggle/input/google-smartphone-decimeter-challenge/test/2021-04-21-US-MTV-1/Pixel4Modded/Pixel4Modded_derived.csv\n",
      "/kaggle/input/google-smartphone-decimeter-challenge/test/2021-04-21-US-MTV-1/Pixel4Modded/supplemental/Pixel4Modded_GnssLog.21o\n",
      "/kaggle/input/google-smartphone-decimeter-challenge/test/2021-03-16-US-MTV-2/SamsungS20Ultra/SamsungS20Ultra_GnssLog.txt\n",
      "/kaggle/input/google-smartphone-decimeter-challenge/test/2021-03-16-US-MTV-2/SamsungS20Ultra/SamsungS20Ultra_derived.csv\n",
      "/kaggle/input/google-smartphone-decimeter-challenge/test/2021-03-16-US-MTV-2/SamsungS20Ultra/supplemental/SamsungS20Ultra_GnssLog.21o\n",
      "/kaggle/input/google-smartphone-decimeter-challenge/test/2021-03-16-US-MTV-2/Pixel4Modded/Pixel4Modded_GnssLog.txt\n",
      "/kaggle/input/google-smartphone-decimeter-challenge/test/2021-03-16-US-MTV-2/Pixel4Modded/Pixel4Modded_derived.csv\n",
      "/kaggle/input/google-smartphone-decimeter-challenge/test/2021-03-16-US-MTV-2/Pixel4Modded/supplemental/Pixel4Modded_GnssLog.21o\n",
      "/kaggle/input/google-smartphone-decimeter-challenge/test/2021-04-28-US-MTV-2/SamsungS20Ultra/SamsungS20Ultra_GnssLog.txt\n",
      "/kaggle/input/google-smartphone-decimeter-challenge/test/2021-04-28-US-MTV-2/SamsungS20Ultra/SamsungS20Ultra_derived.csv\n",
      "/kaggle/input/google-smartphone-decimeter-challenge/test/2021-04-28-US-MTV-2/SamsungS20Ultra/supplemental/SamsungS20Ultra_GnssLog.21o\n",
      "/kaggle/input/google-smartphone-decimeter-challenge/test/2021-04-28-US-MTV-2/Pixel4/Pixel4_derived.csv\n",
      "/kaggle/input/google-smartphone-decimeter-challenge/test/2021-04-28-US-MTV-2/Pixel4/Pixel4_GnssLog.txt\n",
      "/kaggle/input/google-smartphone-decimeter-challenge/test/2021-04-28-US-MTV-2/Pixel4/supplemental/Pixel4_GnssLog.21o\n",
      "/kaggle/input/google-smartphone-decimeter-challenge/test/2021-03-16-US-RWC-2/SamsungS20Ultra/SamsungS20Ultra_GnssLog.txt\n",
      "/kaggle/input/google-smartphone-decimeter-challenge/test/2021-03-16-US-RWC-2/SamsungS20Ultra/SamsungS20Ultra_derived.csv\n",
      "/kaggle/input/google-smartphone-decimeter-challenge/test/2021-03-16-US-RWC-2/SamsungS20Ultra/supplemental/SamsungS20Ultra_GnssLog.21o\n",
      "/kaggle/input/google-smartphone-decimeter-challenge/test/2021-03-16-US-RWC-2/Pixel4XL/Pixel4XL_GnssLog.txt\n",
      "/kaggle/input/google-smartphone-decimeter-challenge/test/2021-03-16-US-RWC-2/Pixel4XL/Pixel4XL_derived.csv\n",
      "/kaggle/input/google-smartphone-decimeter-challenge/test/2021-03-16-US-RWC-2/Pixel4XL/supplemental/Pixel4XL_GnssLog.21o\n",
      "/kaggle/input/google-smartphone-decimeter-challenge/test/2021-03-16-US-RWC-2/Pixel5/Pixel5_derived.csv\n",
      "/kaggle/input/google-smartphone-decimeter-challenge/test/2021-03-16-US-RWC-2/Pixel5/Pixel5_GnssLog.txt\n",
      "/kaggle/input/google-smartphone-decimeter-challenge/test/2021-03-16-US-RWC-2/Pixel5/supplemental/Pixel5_GnssLog.21o\n",
      "/kaggle/input/google-smartphone-decimeter-challenge/test/2020-05-28-US-MTV-1/Pixel4XL/Pixel4XL_GnssLog.txt\n",
      "/kaggle/input/google-smartphone-decimeter-challenge/test/2020-05-28-US-MTV-1/Pixel4XL/Pixel4XL_derived.csv\n",
      "/kaggle/input/google-smartphone-decimeter-challenge/test/2020-05-28-US-MTV-1/Pixel4XL/supplemental/Pixel4XL_GnssLog.20o\n",
      "/kaggle/input/google-smartphone-decimeter-challenge/test/2020-05-28-US-MTV-1/Pixel4/Pixel4_derived.csv\n",
      "/kaggle/input/google-smartphone-decimeter-challenge/test/2020-05-28-US-MTV-1/Pixel4/Pixel4_GnssLog.txt\n",
      "/kaggle/input/google-smartphone-decimeter-challenge/test/2020-05-28-US-MTV-1/Pixel4/supplemental/Pixel4_GnssLog.20o\n",
      "/kaggle/input/google-smartphone-decimeter-challenge/test/2021-04-26-US-SVL-2/SamsungS20Ultra/SamsungS20Ultra_GnssLog.txt\n",
      "/kaggle/input/google-smartphone-decimeter-challenge/test/2021-04-26-US-SVL-2/SamsungS20Ultra/SamsungS20Ultra_derived.csv\n",
      "/kaggle/input/google-smartphone-decimeter-challenge/test/2021-04-26-US-SVL-2/SamsungS20Ultra/supplemental/SamsungS20Ultra_GnssLog.21o\n",
      "/kaggle/input/google-smartphone-decimeter-challenge/test/2020-08-03-US-MTV-2/Pixel4XL/console.txt\n",
      "/kaggle/input/google-smartphone-decimeter-challenge/test/2020-08-03-US-MTV-2/Pixel4XL/Pixel4XL_GnssLog.txt\n",
      "/kaggle/input/google-smartphone-decimeter-challenge/test/2020-08-03-US-MTV-2/Pixel4XL/Pixel4XL_derived.csv\n",
      "/kaggle/input/google-smartphone-decimeter-challenge/test/2020-08-03-US-MTV-2/Pixel4XL/supplemental/Pixel4XL_GnssLog.20o\n",
      "/kaggle/input/google-smartphone-decimeter-challenge/test/2020-08-03-US-MTV-2/Mi8/Mi8_derived.csv\n",
      "/kaggle/input/google-smartphone-decimeter-challenge/test/2020-08-03-US-MTV-2/Mi8/Mi8_GnssLog.txt\n",
      "/kaggle/input/google-smartphone-decimeter-challenge/test/2020-08-03-US-MTV-2/Mi8/supplemental/Mi8_GnssLog.20o\n",
      "/kaggle/input/google-smartphone-decimeter-challenge/test/2020-08-03-US-MTV-2/Pixel4/Pixel4_derived.csv\n",
      "/kaggle/input/google-smartphone-decimeter-challenge/test/2020-08-03-US-MTV-2/Pixel4/Pixel4_GnssLog.txt\n",
      "/kaggle/input/google-smartphone-decimeter-challenge/test/2020-08-03-US-MTV-2/Pixel4/supplemental/Pixel4_GnssLog.20o\n",
      "/kaggle/input/google-smartphone-decimeter-challenge/test/2020-08-13-US-MTV-1/Mi8/Mi8_derived.csv\n",
      "/kaggle/input/google-smartphone-decimeter-challenge/test/2020-08-13-US-MTV-1/Mi8/Mi8_GnssLog.txt\n",
      "/kaggle/input/google-smartphone-decimeter-challenge/test/2020-08-13-US-MTV-1/Mi8/supplemental/Mi8_GnssLog.20o\n",
      "/kaggle/input/google-smartphone-decimeter-challenge/test/2020-08-13-US-MTV-1/Pixel4/Pixel4_derived.csv\n",
      "/kaggle/input/google-smartphone-decimeter-challenge/test/2020-08-13-US-MTV-1/Pixel4/Pixel4_GnssLog.txt\n",
      "/kaggle/input/google-smartphone-decimeter-challenge/test/2020-08-13-US-MTV-1/Pixel4/supplemental/Pixel4_GnssLog.20o\n",
      "/kaggle/input/google-smartphone-decimeter-challenge/test/2021-03-25-US-PAO-1/SamsungS20Ultra/SamsungS20Ultra_GnssLog.txt\n",
      "/kaggle/input/google-smartphone-decimeter-challenge/test/2021-03-25-US-PAO-1/SamsungS20Ultra/SamsungS20Ultra_derived.csv\n",
      "/kaggle/input/google-smartphone-decimeter-challenge/test/2021-03-25-US-PAO-1/SamsungS20Ultra/supplemental/SamsungS20Ultra_GnssLog.21o\n",
      "/kaggle/input/google-smartphone-decimeter-challenge/test/2021-03-25-US-PAO-1/Pixel5/Pixel5_derived.csv\n",
      "/kaggle/input/google-smartphone-decimeter-challenge/test/2021-03-25-US-PAO-1/Pixel5/Pixel5_GnssLog.txt\n",
      "/kaggle/input/google-smartphone-decimeter-challenge/test/2021-03-25-US-PAO-1/Pixel5/supplemental/Pixel5_GnssLog.21o\n",
      "/kaggle/input/google-smartphone-decimeter-challenge/test/2021-03-25-US-PAO-1/Mi8/Mi8_derived.csv\n",
      "/kaggle/input/google-smartphone-decimeter-challenge/test/2021-03-25-US-PAO-1/Mi8/Mi8_GnssLog.txt\n",
      "/kaggle/input/google-smartphone-decimeter-challenge/test/2021-03-25-US-PAO-1/Mi8/supplemental/Mi8_GnssLog.21o\n",
      "/kaggle/input/google-smartphone-decimeter-challenge/test/2021-03-25-US-PAO-1/Pixel4/Pixel4_derived.csv\n",
      "/kaggle/input/google-smartphone-decimeter-challenge/test/2021-03-25-US-PAO-1/Pixel4/Pixel4_GnssLog.txt\n",
      "/kaggle/input/google-smartphone-decimeter-challenge/test/2021-03-25-US-PAO-1/Pixel4/supplemental/Pixel4_GnssLog.21o\n",
      "/kaggle/input/google-smartphone-decimeter-challenge/test/2021-03-25-US-PAO-1/Pixel4Modded/Pixel4Modded_GnssLog.txt\n",
      "/kaggle/input/google-smartphone-decimeter-challenge/test/2021-03-25-US-PAO-1/Pixel4Modded/Pixel4Modded_derived.csv\n",
      "/kaggle/input/google-smartphone-decimeter-challenge/test/2021-03-25-US-PAO-1/Pixel4Modded/supplemental/Pixel4Modded_GnssLog.21o\n",
      "/kaggle/input/google-smartphone-decimeter-challenge/test/2020-06-10-US-MTV-1/Pixel4XL/Pixel4XL_GnssLog.txt\n",
      "/kaggle/input/google-smartphone-decimeter-challenge/test/2020-06-10-US-MTV-1/Pixel4XL/Pixel4XL_derived.csv\n",
      "/kaggle/input/google-smartphone-decimeter-challenge/test/2020-06-10-US-MTV-1/Pixel4XL/supplemental/Pixel4XL_GnssLog.20o\n",
      "/kaggle/input/google-smartphone-decimeter-challenge/test/2020-06-10-US-MTV-1/Pixel4XLModded/Pixel4XLModded_derived.csv\n",
      "/kaggle/input/google-smartphone-decimeter-challenge/test/2020-06-10-US-MTV-1/Pixel4XLModded/Pixel4XLModded_GnssLog.txt\n",
      "/kaggle/input/google-smartphone-decimeter-challenge/test/2020-06-10-US-MTV-1/Pixel4XLModded/supplemental/Pixel4XLModded_GnssLog.20o\n",
      "/kaggle/input/google-smartphone-decimeter-challenge/test/2020-06-10-US-MTV-1/Pixel4/Pixel4_derived.csv\n",
      "/kaggle/input/google-smartphone-decimeter-challenge/test/2020-06-10-US-MTV-1/Pixel4/Pixel4_GnssLog.txt\n",
      "/kaggle/input/google-smartphone-decimeter-challenge/test/2020-06-10-US-MTV-1/Pixel4/supplemental/Pixel4_GnssLog.20o\n",
      "/kaggle/input/google-smartphone-decimeter-challenge/test/2020-06-10-US-MTV-2/Pixel4XL/Pixel4XL_GnssLog.txt\n",
      "/kaggle/input/google-smartphone-decimeter-challenge/test/2020-06-10-US-MTV-2/Pixel4XL/Pixel4XL_derived.csv\n",
      "/kaggle/input/google-smartphone-decimeter-challenge/test/2020-06-10-US-MTV-2/Pixel4XL/supplemental/Pixel4XL_GnssLog.20o\n",
      "/kaggle/input/google-smartphone-decimeter-challenge/test/2020-06-10-US-MTV-2/Pixel4XLModded/Pixel4XLModded_derived.csv\n",
      "/kaggle/input/google-smartphone-decimeter-challenge/test/2020-06-10-US-MTV-2/Pixel4XLModded/Pixel4XLModded_GnssLog.txt\n",
      "/kaggle/input/google-smartphone-decimeter-challenge/test/2020-06-10-US-MTV-2/Pixel4XLModded/supplemental/Pixel4XLModded_GnssLog.20o\n",
      "/kaggle/input/google-smartphone-decimeter-challenge/test/2020-06-10-US-MTV-2/Pixel4/Pixel4_derived.csv\n",
      "/kaggle/input/google-smartphone-decimeter-challenge/test/2020-06-10-US-MTV-2/Pixel4/Pixel4_GnssLog.txt\n",
      "/kaggle/input/google-smartphone-decimeter-challenge/test/2020-06-10-US-MTV-2/Pixel4/supplemental/Pixel4_GnssLog.20o\n",
      "/kaggle/input/google-smartphone-decimeter-challenge/test/2021-04-02-US-SJC-1/Pixel5/Pixel5_derived.csv\n",
      "/kaggle/input/google-smartphone-decimeter-challenge/test/2021-04-02-US-SJC-1/Pixel5/Pixel5_GnssLog.txt\n",
      "/kaggle/input/google-smartphone-decimeter-challenge/test/2021-04-02-US-SJC-1/Pixel5/supplemental/Pixel5_GnssLog.21o\n",
      "/kaggle/input/google-smartphone-decimeter-challenge/test/2021-04-02-US-SJC-1/Pixel4/Pixel4_derived.csv\n",
      "/kaggle/input/google-smartphone-decimeter-challenge/test/2021-04-02-US-SJC-1/Pixel4/Pixel4_GnssLog.txt\n",
      "/kaggle/input/google-smartphone-decimeter-challenge/test/2021-04-02-US-SJC-1/Pixel4/supplemental/Pixel4_GnssLog.21o\n",
      "/kaggle/input/google-smartphone-decimeter-challenge/test/2020-05-28-US-MTV-2/Pixel4XL/Pixel4XL_GnssLog.txt\n",
      "/kaggle/input/google-smartphone-decimeter-challenge/test/2020-05-28-US-MTV-2/Pixel4XL/Pixel4XL_derived.csv\n",
      "/kaggle/input/google-smartphone-decimeter-challenge/test/2020-05-28-US-MTV-2/Pixel4XL/supplemental/Pixel4XL_GnssLog.20o\n",
      "/kaggle/input/google-smartphone-decimeter-challenge/test/2020-05-28-US-MTV-2/Pixel4XLModded/Pixel4XLModded_derived.csv\n",
      "/kaggle/input/google-smartphone-decimeter-challenge/test/2020-05-28-US-MTV-2/Pixel4XLModded/Pixel4XLModded_GnssLog.txt\n",
      "/kaggle/input/google-smartphone-decimeter-challenge/test/2020-05-28-US-MTV-2/Pixel4XLModded/supplemental/Pixel4XLModded_GnssLog.20o\n",
      "/kaggle/input/google-smartphone-decimeter-challenge/test/2020-05-28-US-MTV-2/Pixel4/Pixel4_derived.csv\n",
      "/kaggle/input/google-smartphone-decimeter-challenge/test/2020-05-28-US-MTV-2/Pixel4/Pixel4_GnssLog.txt\n",
      "/kaggle/input/google-smartphone-decimeter-challenge/test/2020-05-28-US-MTV-2/Pixel4/supplemental/Pixel4_GnssLog.20o\n",
      "/kaggle/input/google-smartphone-decimeter-challenge/test/2020-05-15-US-MTV-1/Pixel4XL/Pixel4XL_GnssLog.txt\n",
      "/kaggle/input/google-smartphone-decimeter-challenge/test/2020-05-15-US-MTV-1/Pixel4XL/Pixel4XL_derived.csv\n",
      "/kaggle/input/google-smartphone-decimeter-challenge/test/2020-05-15-US-MTV-1/Pixel4XL/supplemental/Pixel4XL_GnssLog.20o\n",
      "/kaggle/input/google-smartphone-decimeter-challenge/test/2020-05-15-US-MTV-1/Pixel4/Pixel4_derived.csv\n",
      "/kaggle/input/google-smartphone-decimeter-challenge/test/2020-05-15-US-MTV-1/Pixel4/Pixel4_GnssLog.txt\n",
      "/kaggle/input/google-smartphone-decimeter-challenge/test/2020-05-15-US-MTV-1/Pixel4/supplemental/Pixel4_GnssLog.20o\n",
      "/kaggle/input/google-smartphone-decimeter-challenge/test/2021-04-22-US-SJC-2/SamsungS20Ultra/SamsungS20Ultra_GnssLog.txt\n",
      "/kaggle/input/google-smartphone-decimeter-challenge/test/2021-04-22-US-SJC-2/SamsungS20Ultra/SamsungS20Ultra_derived.csv\n",
      "/kaggle/input/google-smartphone-decimeter-challenge/test/2021-04-22-US-SJC-2/SamsungS20Ultra/supplemental/SamsungS20Ultra_GnssLog.21o\n",
      "/kaggle/input/google-smartphone-decimeter-challenge/train/2020-07-17-US-MTV-1/Mi8/Mi8_derived.csv\n",
      "/kaggle/input/google-smartphone-decimeter-challenge/train/2020-07-17-US-MTV-1/Mi8/ground_truth.csv\n",
      "/kaggle/input/google-smartphone-decimeter-challenge/train/2020-07-17-US-MTV-1/Mi8/Mi8_GnssLog.txt\n",
      "/kaggle/input/google-smartphone-decimeter-challenge/train/2020-07-17-US-MTV-1/Mi8/supplemental/Mi8_GnssLog.20o\n",
      "/kaggle/input/google-smartphone-decimeter-challenge/train/2020-07-17-US-MTV-1/Mi8/supplemental/SPAN_Mi8_10Hz.nmea\n",
      "/kaggle/input/google-smartphone-decimeter-challenge/train/2020-08-06-US-MTV-2/Pixel4XL/Pixel4XL_GnssLog.txt\n",
      "/kaggle/input/google-smartphone-decimeter-challenge/train/2020-08-06-US-MTV-2/Pixel4XL/ground_truth.csv\n",
      "/kaggle/input/google-smartphone-decimeter-challenge/train/2020-08-06-US-MTV-2/Pixel4XL/Pixel4XL_derived.csv\n",
      "/kaggle/input/google-smartphone-decimeter-challenge/train/2020-08-06-US-MTV-2/Pixel4XL/supplemental/SPAN_Pixel4XL_10Hz.nmea\n",
      "/kaggle/input/google-smartphone-decimeter-challenge/train/2020-08-06-US-MTV-2/Pixel4XL/supplemental/Pixel4XL_GnssLog.20o\n",
      "/kaggle/input/google-smartphone-decimeter-challenge/train/2020-08-06-US-MTV-2/Mi8/Mi8_derived.csv\n",
      "/kaggle/input/google-smartphone-decimeter-challenge/train/2020-08-06-US-MTV-2/Mi8/ground_truth.csv\n",
      "/kaggle/input/google-smartphone-decimeter-challenge/train/2020-08-06-US-MTV-2/Mi8/Mi8_GnssLog.txt\n",
      "/kaggle/input/google-smartphone-decimeter-challenge/train/2020-08-06-US-MTV-2/Mi8/supplemental/Mi8_GnssLog.20o\n",
      "/kaggle/input/google-smartphone-decimeter-challenge/train/2020-08-06-US-MTV-2/Mi8/supplemental/SPAN_Mi8_10Hz.nmea\n",
      "/kaggle/input/google-smartphone-decimeter-challenge/train/2020-08-06-US-MTV-2/Pixel4/Pixel4_derived.csv\n",
      "/kaggle/input/google-smartphone-decimeter-challenge/train/2020-08-06-US-MTV-2/Pixel4/Pixel4_GnssLog.txt\n",
      "/kaggle/input/google-smartphone-decimeter-challenge/train/2020-08-06-US-MTV-2/Pixel4/ground_truth.csv\n",
      "/kaggle/input/google-smartphone-decimeter-challenge/train/2020-08-06-US-MTV-2/Pixel4/supplemental/Pixel4_GnssLog.20o\n",
      "/kaggle/input/google-smartphone-decimeter-challenge/train/2020-08-06-US-MTV-2/Pixel4/supplemental/SPAN_Pixel4_10Hz.nmea\n",
      "/kaggle/input/google-smartphone-decimeter-challenge/train/2020-05-14-US-MTV-1/Pixel4XLModded/ground_truth.csv\n",
      "/kaggle/input/google-smartphone-decimeter-challenge/train/2020-05-14-US-MTV-1/Pixel4XLModded/Pixel4XLModded_derived.csv\n",
      "/kaggle/input/google-smartphone-decimeter-challenge/train/2020-05-14-US-MTV-1/Pixel4XLModded/Pixel4XLModded_GnssLog.txt\n",
      "/kaggle/input/google-smartphone-decimeter-challenge/train/2020-05-14-US-MTV-1/Pixel4XLModded/supplemental/Pixel4XLModded_GnssLog.20o\n",
      "/kaggle/input/google-smartphone-decimeter-challenge/train/2020-05-14-US-MTV-1/Pixel4XLModded/supplemental/SPAN_Pixel4XLModded_10Hz.nmea\n",
      "/kaggle/input/google-smartphone-decimeter-challenge/train/2020-05-14-US-MTV-1/Pixel4/Pixel4_derived.csv\n",
      "/kaggle/input/google-smartphone-decimeter-challenge/train/2020-05-14-US-MTV-1/Pixel4/Pixel4_GnssLog.txt\n",
      "/kaggle/input/google-smartphone-decimeter-challenge/train/2020-05-14-US-MTV-1/Pixel4/ground_truth.csv\n",
      "/kaggle/input/google-smartphone-decimeter-challenge/train/2020-05-14-US-MTV-1/Pixel4/supplemental/Pixel4_GnssLog.20o\n",
      "/kaggle/input/google-smartphone-decimeter-challenge/train/2020-05-14-US-MTV-1/Pixel4/supplemental/SPAN_Pixel4_10Hz.nmea\n",
      "/kaggle/input/google-smartphone-decimeter-challenge/train/2020-05-21-US-MTV-2/Pixel4XL/Pixel4XL_GnssLog.txt\n",
      "/kaggle/input/google-smartphone-decimeter-challenge/train/2020-05-21-US-MTV-2/Pixel4XL/ground_truth.csv\n",
      "/kaggle/input/google-smartphone-decimeter-challenge/train/2020-05-21-US-MTV-2/Pixel4XL/Pixel4XL_derived.csv\n",
      "/kaggle/input/google-smartphone-decimeter-challenge/train/2020-05-21-US-MTV-2/Pixel4XL/supplemental/SPAN_Pixel4XL_10Hz.nmea\n",
      "/kaggle/input/google-smartphone-decimeter-challenge/train/2020-05-21-US-MTV-2/Pixel4XL/supplemental/Pixel4XL_GnssLog.20o\n",
      "/kaggle/input/google-smartphone-decimeter-challenge/train/2020-05-21-US-MTV-2/Pixel4/Pixel4_derived.csv\n",
      "/kaggle/input/google-smartphone-decimeter-challenge/train/2020-05-21-US-MTV-2/Pixel4/Pixel4_GnssLog.txt\n",
      "/kaggle/input/google-smartphone-decimeter-challenge/train/2020-05-21-US-MTV-2/Pixel4/ground_truth.csv\n",
      "/kaggle/input/google-smartphone-decimeter-challenge/train/2020-05-21-US-MTV-2/Pixel4/supplemental/Pixel4_GnssLog.20o\n",
      "/kaggle/input/google-smartphone-decimeter-challenge/train/2020-05-21-US-MTV-2/Pixel4/supplemental/SPAN_Pixel4_10Hz.nmea\n",
      "/kaggle/input/google-smartphone-decimeter-challenge/train/2021-04-26-US-SVL-1/Pixel5/ground_truth.csv\n",
      "/kaggle/input/google-smartphone-decimeter-challenge/train/2021-04-26-US-SVL-1/Pixel5/Pixel5_derived.csv\n",
      "/kaggle/input/google-smartphone-decimeter-challenge/train/2021-04-26-US-SVL-1/Pixel5/Pixel5_GnssLog.txt\n",
      "/kaggle/input/google-smartphone-decimeter-challenge/train/2021-04-26-US-SVL-1/Pixel5/supplemental/SPAN_Pixel5_10Hz.nmea\n",
      "/kaggle/input/google-smartphone-decimeter-challenge/train/2021-04-26-US-SVL-1/Pixel5/supplemental/Pixel5_GnssLog.21o\n",
      "/kaggle/input/google-smartphone-decimeter-challenge/train/2021-04-26-US-SVL-1/Mi8/Mi8_derived.csv\n",
      "/kaggle/input/google-smartphone-decimeter-challenge/train/2021-04-26-US-SVL-1/Mi8/ground_truth.csv\n",
      "/kaggle/input/google-smartphone-decimeter-challenge/train/2021-04-26-US-SVL-1/Mi8/Mi8_GnssLog.txt\n",
      "/kaggle/input/google-smartphone-decimeter-challenge/train/2021-04-26-US-SVL-1/Mi8/supplemental/SPAN_Mi8_10Hz.nmea\n",
      "/kaggle/input/google-smartphone-decimeter-challenge/train/2021-04-26-US-SVL-1/Mi8/supplemental/Mi8_GnssLog.21o\n",
      "/kaggle/input/google-smartphone-decimeter-challenge/train/2021-01-05-US-SVL-1/Pixel4XL/Pixel4XL_GnssLog.txt\n",
      "/kaggle/input/google-smartphone-decimeter-challenge/train/2021-01-05-US-SVL-1/Pixel4XL/ground_truth.csv\n",
      "/kaggle/input/google-smartphone-decimeter-challenge/train/2021-01-05-US-SVL-1/Pixel4XL/Pixel4XL_derived.csv\n",
      "/kaggle/input/google-smartphone-decimeter-challenge/train/2021-01-05-US-SVL-1/Pixel4XL/supplemental/Pixel4XL_GnssLog.21o\n",
      "/kaggle/input/google-smartphone-decimeter-challenge/train/2021-01-05-US-SVL-1/Pixel4XL/supplemental/SPAN_Pixel4XL_10Hz.nmea\n",
      "/kaggle/input/google-smartphone-decimeter-challenge/train/2021-01-05-US-SVL-1/Pixel5/ground_truth.csv\n",
      "/kaggle/input/google-smartphone-decimeter-challenge/train/2021-01-05-US-SVL-1/Pixel5/Pixel5_derived.csv\n",
      "/kaggle/input/google-smartphone-decimeter-challenge/train/2021-01-05-US-SVL-1/Pixel5/Pixel5_GnssLog.txt\n",
      "/kaggle/input/google-smartphone-decimeter-challenge/train/2021-01-05-US-SVL-1/Pixel5/supplemental/SPAN_Pixel5_10Hz.nmea\n",
      "/kaggle/input/google-smartphone-decimeter-challenge/train/2021-01-05-US-SVL-1/Pixel5/supplemental/Pixel5_GnssLog.21o\n",
      "/kaggle/input/google-smartphone-decimeter-challenge/train/2021-01-05-US-SVL-1/Mi8/Mi8_derived.csv\n",
      "/kaggle/input/google-smartphone-decimeter-challenge/train/2021-01-05-US-SVL-1/Mi8/ground_truth.csv\n",
      "/kaggle/input/google-smartphone-decimeter-challenge/train/2021-01-05-US-SVL-1/Mi8/Mi8_GnssLog.txt\n",
      "/kaggle/input/google-smartphone-decimeter-challenge/train/2021-01-05-US-SVL-1/Mi8/supplemental/SPAN_Mi8_10Hz.nmea\n",
      "/kaggle/input/google-smartphone-decimeter-challenge/train/2021-01-05-US-SVL-1/Mi8/supplemental/Mi8_GnssLog.21o\n",
      "/kaggle/input/google-smartphone-decimeter-challenge/train/2021-01-05-US-SVL-1/Pixel4/Pixel4_derived.csv\n",
      "/kaggle/input/google-smartphone-decimeter-challenge/train/2021-01-05-US-SVL-1/Pixel4/Pixel4_GnssLog.txt\n",
      "/kaggle/input/google-smartphone-decimeter-challenge/train/2021-01-05-US-SVL-1/Pixel4/ground_truth.csv\n",
      "/kaggle/input/google-smartphone-decimeter-challenge/train/2021-01-05-US-SVL-1/Pixel4/supplemental/Pixel4_GnssLog.21o\n",
      "/kaggle/input/google-smartphone-decimeter-challenge/train/2021-01-05-US-SVL-1/Pixel4/supplemental/SPAN_Pixel4_10Hz.nmea\n",
      "/kaggle/input/google-smartphone-decimeter-challenge/train/2021-04-28-US-MTV-1/SamsungS20Ultra/SamsungS20Ultra_GnssLog.txt\n",
      "/kaggle/input/google-smartphone-decimeter-challenge/train/2021-04-28-US-MTV-1/SamsungS20Ultra/ground_truth.csv\n",
      "/kaggle/input/google-smartphone-decimeter-challenge/train/2021-04-28-US-MTV-1/SamsungS20Ultra/SamsungS20Ultra_derived.csv\n",
      "/kaggle/input/google-smartphone-decimeter-challenge/train/2021-04-28-US-MTV-1/SamsungS20Ultra/supplemental/SamsungS20Ultra_GnssLog.21o\n",
      "/kaggle/input/google-smartphone-decimeter-challenge/train/2021-04-28-US-MTV-1/SamsungS20Ultra/supplemental/SPAN_SamsungS20Ultra_10Hz.nmea\n",
      "/kaggle/input/google-smartphone-decimeter-challenge/train/2021-04-28-US-MTV-1/Pixel5/ground_truth.csv\n",
      "/kaggle/input/google-smartphone-decimeter-challenge/train/2021-04-28-US-MTV-1/Pixel5/Pixel5_derived.csv\n",
      "/kaggle/input/google-smartphone-decimeter-challenge/train/2021-04-28-US-MTV-1/Pixel5/Pixel5_GnssLog.txt\n",
      "/kaggle/input/google-smartphone-decimeter-challenge/train/2021-04-28-US-MTV-1/Pixel5/supplemental/SPAN_Pixel5_10Hz.nmea\n",
      "/kaggle/input/google-smartphone-decimeter-challenge/train/2021-04-28-US-MTV-1/Pixel5/supplemental/Pixel5_GnssLog.21o\n",
      "/kaggle/input/google-smartphone-decimeter-challenge/train/2021-04-28-US-MTV-1/Pixel4/Pixel4_derived.csv\n",
      "/kaggle/input/google-smartphone-decimeter-challenge/train/2021-04-28-US-MTV-1/Pixel4/Pixel4_GnssLog.txt\n",
      "/kaggle/input/google-smartphone-decimeter-challenge/train/2021-04-28-US-MTV-1/Pixel4/ground_truth.csv\n",
      "/kaggle/input/google-smartphone-decimeter-challenge/train/2021-04-28-US-MTV-1/Pixel4/supplemental/Pixel4_GnssLog.21o\n",
      "/kaggle/input/google-smartphone-decimeter-challenge/train/2021-04-28-US-MTV-1/Pixel4/supplemental/SPAN_Pixel4_10Hz.nmea\n",
      "/kaggle/input/google-smartphone-decimeter-challenge/train/2021-01-04-US-RWC-2/Pixel4XL/Pixel4XL_GnssLog.txt\n",
      "/kaggle/input/google-smartphone-decimeter-challenge/train/2021-01-04-US-RWC-2/Pixel4XL/ground_truth.csv\n",
      "/kaggle/input/google-smartphone-decimeter-challenge/train/2021-01-04-US-RWC-2/Pixel4XL/Pixel4XL_derived.csv\n",
      "/kaggle/input/google-smartphone-decimeter-challenge/train/2021-01-04-US-RWC-2/Pixel4XL/supplemental/Pixel4XL_GnssLog.21o\n",
      "/kaggle/input/google-smartphone-decimeter-challenge/train/2021-01-04-US-RWC-2/Pixel4XL/supplemental/SPAN_Pixel4XL_10Hz.nmea\n",
      "/kaggle/input/google-smartphone-decimeter-challenge/train/2021-01-04-US-RWC-2/Pixel5/ground_truth.csv\n",
      "/kaggle/input/google-smartphone-decimeter-challenge/train/2021-01-04-US-RWC-2/Pixel5/Pixel5_derived.csv\n",
      "/kaggle/input/google-smartphone-decimeter-challenge/train/2021-01-04-US-RWC-2/Pixel5/Pixel5_GnssLog.txt\n",
      "/kaggle/input/google-smartphone-decimeter-challenge/train/2021-01-04-US-RWC-2/Pixel5/supplemental/SPAN_Pixel5_10Hz.nmea\n",
      "/kaggle/input/google-smartphone-decimeter-challenge/train/2021-01-04-US-RWC-2/Pixel5/supplemental/Pixel5_GnssLog.21o\n",
      "/kaggle/input/google-smartphone-decimeter-challenge/train/2021-01-04-US-RWC-2/Pixel4/Pixel4_derived.csv\n",
      "/kaggle/input/google-smartphone-decimeter-challenge/train/2021-01-04-US-RWC-2/Pixel4/Pixel4_GnssLog.txt\n",
      "/kaggle/input/google-smartphone-decimeter-challenge/train/2021-01-04-US-RWC-2/Pixel4/ground_truth.csv\n",
      "/kaggle/input/google-smartphone-decimeter-challenge/train/2021-01-04-US-RWC-2/Pixel4/supplemental/Pixel4_GnssLog.21o\n",
      "/kaggle/input/google-smartphone-decimeter-challenge/train/2021-01-04-US-RWC-2/Pixel4/supplemental/SPAN_Pixel4_10Hz.nmea\n",
      "/kaggle/input/google-smartphone-decimeter-challenge/train/2021-01-04-US-RWC-2/Pixel4Modded/ground_truth.csv\n",
      "/kaggle/input/google-smartphone-decimeter-challenge/train/2021-01-04-US-RWC-2/Pixel4Modded/Pixel4Modded_GnssLog.txt\n",
      "/kaggle/input/google-smartphone-decimeter-challenge/train/2021-01-04-US-RWC-2/Pixel4Modded/Pixel4Modded_derived.csv\n",
      "/kaggle/input/google-smartphone-decimeter-challenge/train/2021-01-04-US-RWC-2/Pixel4Modded/supplemental/SPAN_Pixel4Modded_10Hz.nmea\n",
      "/kaggle/input/google-smartphone-decimeter-challenge/train/2021-01-04-US-RWC-2/Pixel4Modded/supplemental/Pixel4Modded_GnssLog.21o\n",
      "/kaggle/input/google-smartphone-decimeter-challenge/train/2020-05-29-US-MTV-2/Pixel4XL/Pixel4XL_GnssLog.txt\n",
      "/kaggle/input/google-smartphone-decimeter-challenge/train/2020-05-29-US-MTV-2/Pixel4XL/ground_truth.csv\n",
      "/kaggle/input/google-smartphone-decimeter-challenge/train/2020-05-29-US-MTV-2/Pixel4XL/Pixel4XL_derived.csv\n",
      "/kaggle/input/google-smartphone-decimeter-challenge/train/2020-05-29-US-MTV-2/Pixel4XL/supplemental/SPAN_Pixel4XL_10Hz.nmea\n",
      "/kaggle/input/google-smartphone-decimeter-challenge/train/2020-05-29-US-MTV-2/Pixel4XL/supplemental/Pixel4XL_GnssLog.20o\n",
      "/kaggle/input/google-smartphone-decimeter-challenge/train/2020-05-29-US-MTV-2/Pixel4/Pixel4_derived.csv\n",
      "/kaggle/input/google-smartphone-decimeter-challenge/train/2020-05-29-US-MTV-2/Pixel4/Pixel4_GnssLog.txt\n",
      "/kaggle/input/google-smartphone-decimeter-challenge/train/2020-05-29-US-MTV-2/Pixel4/ground_truth.csv\n",
      "/kaggle/input/google-smartphone-decimeter-challenge/train/2020-05-29-US-MTV-2/Pixel4/supplemental/Pixel4_GnssLog.20o\n",
      "/kaggle/input/google-smartphone-decimeter-challenge/train/2020-05-29-US-MTV-2/Pixel4/supplemental/SPAN_Pixel4_10Hz.nmea\n",
      "/kaggle/input/google-smartphone-decimeter-challenge/train/2020-06-05-US-MTV-1/Pixel4XL/Pixel4XL_GnssLog.txt\n",
      "/kaggle/input/google-smartphone-decimeter-challenge/train/2020-06-05-US-MTV-1/Pixel4XL/ground_truth.csv\n",
      "/kaggle/input/google-smartphone-decimeter-challenge/train/2020-06-05-US-MTV-1/Pixel4XL/Pixel4XL_derived.csv\n",
      "/kaggle/input/google-smartphone-decimeter-challenge/train/2020-06-05-US-MTV-1/Pixel4XL/supplemental/SPAN_Pixel4XL_10Hz.nmea\n",
      "/kaggle/input/google-smartphone-decimeter-challenge/train/2020-06-05-US-MTV-1/Pixel4XL/supplemental/Pixel4XL_GnssLog.20o\n",
      "/kaggle/input/google-smartphone-decimeter-challenge/train/2020-06-05-US-MTV-1/Pixel4XLModded/ground_truth.csv\n",
      "/kaggle/input/google-smartphone-decimeter-challenge/train/2020-06-05-US-MTV-1/Pixel4XLModded/Pixel4XLModded_derived.csv\n",
      "/kaggle/input/google-smartphone-decimeter-challenge/train/2020-06-05-US-MTV-1/Pixel4XLModded/Pixel4XLModded_GnssLog.txt\n",
      "/kaggle/input/google-smartphone-decimeter-challenge/train/2020-06-05-US-MTV-1/Pixel4XLModded/supplemental/Pixel4XLModded_GnssLog.20o\n",
      "/kaggle/input/google-smartphone-decimeter-challenge/train/2020-06-05-US-MTV-1/Pixel4XLModded/supplemental/SPAN_Pixel4XLModded_10Hz.nmea\n",
      "/kaggle/input/google-smartphone-decimeter-challenge/train/2020-06-05-US-MTV-1/Pixel4/Pixel4_derived.csv\n",
      "/kaggle/input/google-smartphone-decimeter-challenge/train/2020-06-05-US-MTV-1/Pixel4/Pixel4_GnssLog.txt\n",
      "/kaggle/input/google-smartphone-decimeter-challenge/train/2020-06-05-US-MTV-1/Pixel4/ground_truth.csv\n",
      "/kaggle/input/google-smartphone-decimeter-challenge/train/2020-06-05-US-MTV-1/Pixel4/supplemental/Pixel4_GnssLog.20o\n",
      "/kaggle/input/google-smartphone-decimeter-challenge/train/2020-06-05-US-MTV-1/Pixel4/supplemental/SPAN_Pixel4_10Hz.nmea\n",
      "/kaggle/input/google-smartphone-decimeter-challenge/train/2020-06-04-US-MTV-1/Pixel4XL/Pixel4XL_GnssLog.txt\n",
      "/kaggle/input/google-smartphone-decimeter-challenge/train/2020-06-04-US-MTV-1/Pixel4XL/ground_truth.csv\n",
      "/kaggle/input/google-smartphone-decimeter-challenge/train/2020-06-04-US-MTV-1/Pixel4XL/Pixel4XL_derived.csv\n",
      "/kaggle/input/google-smartphone-decimeter-challenge/train/2020-06-04-US-MTV-1/Pixel4XL/supplemental/SPAN_Pixel4XL_10Hz.nmea\n",
      "/kaggle/input/google-smartphone-decimeter-challenge/train/2020-06-04-US-MTV-1/Pixel4XL/supplemental/Pixel4XL_GnssLog.20o\n",
      "/kaggle/input/google-smartphone-decimeter-challenge/train/2020-06-04-US-MTV-1/Pixel4XLModded/ground_truth.csv\n",
      "/kaggle/input/google-smartphone-decimeter-challenge/train/2020-06-04-US-MTV-1/Pixel4XLModded/Pixel4XLModded_derived.csv\n",
      "/kaggle/input/google-smartphone-decimeter-challenge/train/2020-06-04-US-MTV-1/Pixel4XLModded/Pixel4XLModded_GnssLog.txt\n",
      "/kaggle/input/google-smartphone-decimeter-challenge/train/2020-06-04-US-MTV-1/Pixel4XLModded/supplemental/Pixel4XLModded_GnssLog.20o\n",
      "/kaggle/input/google-smartphone-decimeter-challenge/train/2020-06-04-US-MTV-1/Pixel4XLModded/supplemental/SPAN_Pixel4XLModded_10Hz.nmea\n",
      "/kaggle/input/google-smartphone-decimeter-challenge/train/2020-06-04-US-MTV-1/Pixel4/Pixel4_derived.csv\n",
      "/kaggle/input/google-smartphone-decimeter-challenge/train/2020-06-04-US-MTV-1/Pixel4/Pixel4_GnssLog.txt\n",
      "/kaggle/input/google-smartphone-decimeter-challenge/train/2020-06-04-US-MTV-1/Pixel4/ground_truth.csv\n",
      "/kaggle/input/google-smartphone-decimeter-challenge/train/2020-06-04-US-MTV-1/Pixel4/supplemental/Pixel4_GnssLog.20o\n",
      "/kaggle/input/google-smartphone-decimeter-challenge/train/2020-06-04-US-MTV-1/Pixel4/supplemental/SPAN_Pixel4_10Hz.nmea\n",
      "/kaggle/input/google-smartphone-decimeter-challenge/train/2020-07-17-US-MTV-2/Mi8/Mi8_derived.csv\n",
      "/kaggle/input/google-smartphone-decimeter-challenge/train/2020-07-17-US-MTV-2/Mi8/ground_truth.csv\n",
      "/kaggle/input/google-smartphone-decimeter-challenge/train/2020-07-17-US-MTV-2/Mi8/Mi8_GnssLog.txt\n",
      "/kaggle/input/google-smartphone-decimeter-challenge/train/2020-07-17-US-MTV-2/Mi8/supplemental/Mi8_GnssLog.20o\n",
      "/kaggle/input/google-smartphone-decimeter-challenge/train/2020-07-17-US-MTV-2/Mi8/supplemental/SPAN_Mi8_10Hz.nmea\n",
      "/kaggle/input/google-smartphone-decimeter-challenge/train/2021-04-29-US-SJC-2/SamsungS20Ultra/SamsungS20Ultra_GnssLog.txt\n",
      "/kaggle/input/google-smartphone-decimeter-challenge/train/2021-04-29-US-SJC-2/SamsungS20Ultra/ground_truth.csv\n",
      "/kaggle/input/google-smartphone-decimeter-challenge/train/2021-04-29-US-SJC-2/SamsungS20Ultra/SamsungS20Ultra_derived.csv\n",
      "/kaggle/input/google-smartphone-decimeter-challenge/train/2021-04-29-US-SJC-2/SamsungS20Ultra/supplemental/SamsungS20Ultra_GnssLog.21o\n",
      "/kaggle/input/google-smartphone-decimeter-challenge/train/2021-04-29-US-SJC-2/SamsungS20Ultra/supplemental/SPAN_SamsungS20Ultra_10Hz.nmea\n",
      "/kaggle/input/google-smartphone-decimeter-challenge/train/2021-04-29-US-SJC-2/Pixel4/Pixel4_derived.csv\n",
      "/kaggle/input/google-smartphone-decimeter-challenge/train/2021-04-29-US-SJC-2/Pixel4/Pixel4_GnssLog.txt\n",
      "/kaggle/input/google-smartphone-decimeter-challenge/train/2021-04-29-US-SJC-2/Pixel4/ground_truth.csv\n",
      "/kaggle/input/google-smartphone-decimeter-challenge/train/2021-04-29-US-SJC-2/Pixel4/supplemental/Pixel4_GnssLog.21o\n",
      "/kaggle/input/google-smartphone-decimeter-challenge/train/2021-04-29-US-SJC-2/Pixel4/supplemental/SPAN_Pixel4_10Hz.nmea\n",
      "/kaggle/input/google-smartphone-decimeter-challenge/train/2021-03-10-US-SVL-1/SamsungS20Ultra/SamsungS20Ultra_GnssLog.txt\n",
      "/kaggle/input/google-smartphone-decimeter-challenge/train/2021-03-10-US-SVL-1/SamsungS20Ultra/ground_truth.csv\n",
      "/kaggle/input/google-smartphone-decimeter-challenge/train/2021-03-10-US-SVL-1/SamsungS20Ultra/SamsungS20Ultra_derived.csv\n",
      "/kaggle/input/google-smartphone-decimeter-challenge/train/2021-03-10-US-SVL-1/SamsungS20Ultra/supplemental/SamsungS20Ultra_GnssLog.21o\n",
      "/kaggle/input/google-smartphone-decimeter-challenge/train/2021-03-10-US-SVL-1/SamsungS20Ultra/supplemental/SPAN_SamsungS20Ultra_10Hz.nmea\n",
      "/kaggle/input/google-smartphone-decimeter-challenge/train/2021-03-10-US-SVL-1/Pixel4XL/Pixel4XL_GnssLog.txt\n",
      "/kaggle/input/google-smartphone-decimeter-challenge/train/2021-03-10-US-SVL-1/Pixel4XL/ground_truth.csv\n",
      "/kaggle/input/google-smartphone-decimeter-challenge/train/2021-03-10-US-SVL-1/Pixel4XL/Pixel4XL_derived.csv\n",
      "/kaggle/input/google-smartphone-decimeter-challenge/train/2021-03-10-US-SVL-1/Pixel4XL/supplemental/Pixel4XL_GnssLog.21o\n",
      "/kaggle/input/google-smartphone-decimeter-challenge/train/2021-03-10-US-SVL-1/Pixel4XL/supplemental/SPAN_Pixel4XL_10Hz.nmea\n",
      "/kaggle/input/google-smartphone-decimeter-challenge/train/2020-05-29-US-MTV-1/Pixel4XL/Pixel4XL_GnssLog.txt\n",
      "/kaggle/input/google-smartphone-decimeter-challenge/train/2020-05-29-US-MTV-1/Pixel4XL/ground_truth.csv\n",
      "/kaggle/input/google-smartphone-decimeter-challenge/train/2020-05-29-US-MTV-1/Pixel4XL/Pixel4XL_derived.csv\n",
      "/kaggle/input/google-smartphone-decimeter-challenge/train/2020-05-29-US-MTV-1/Pixel4XL/supplemental/SPAN_Pixel4XL_10Hz.nmea\n",
      "/kaggle/input/google-smartphone-decimeter-challenge/train/2020-05-29-US-MTV-1/Pixel4XL/supplemental/Pixel4XL_GnssLog.20o\n",
      "/kaggle/input/google-smartphone-decimeter-challenge/train/2020-05-29-US-MTV-1/Pixel4XLModded/ground_truth.csv\n",
      "/kaggle/input/google-smartphone-decimeter-challenge/train/2020-05-29-US-MTV-1/Pixel4XLModded/Pixel4XLModded_derived.csv\n",
      "/kaggle/input/google-smartphone-decimeter-challenge/train/2020-05-29-US-MTV-1/Pixel4XLModded/Pixel4XLModded_GnssLog.txt\n",
      "/kaggle/input/google-smartphone-decimeter-challenge/train/2020-05-29-US-MTV-1/Pixel4XLModded/supplemental/Pixel4XLModded_GnssLog.20o\n",
      "/kaggle/input/google-smartphone-decimeter-challenge/train/2020-05-29-US-MTV-1/Pixel4XLModded/supplemental/SPAN_Pixel4XLModded_10Hz.nmea\n",
      "/kaggle/input/google-smartphone-decimeter-challenge/train/2020-05-29-US-MTV-1/Pixel4/Pixel4_derived.csv\n",
      "/kaggle/input/google-smartphone-decimeter-challenge/train/2020-05-29-US-MTV-1/Pixel4/Pixel4_GnssLog.txt\n",
      "/kaggle/input/google-smartphone-decimeter-challenge/train/2020-05-29-US-MTV-1/Pixel4/ground_truth.csv\n",
      "/kaggle/input/google-smartphone-decimeter-challenge/train/2020-05-29-US-MTV-1/Pixel4/supplemental/Pixel4_GnssLog.20o\n",
      "/kaggle/input/google-smartphone-decimeter-challenge/train/2020-05-29-US-MTV-1/Pixel4/supplemental/SPAN_Pixel4_10Hz.nmea\n",
      "/kaggle/input/google-smartphone-decimeter-challenge/train/2020-09-04-US-SF-1/Pixel4XL/Pixel4XL_GnssLog.txt\n",
      "/kaggle/input/google-smartphone-decimeter-challenge/train/2020-09-04-US-SF-1/Pixel4XL/ground_truth.csv\n",
      "/kaggle/input/google-smartphone-decimeter-challenge/train/2020-09-04-US-SF-1/Pixel4XL/Pixel4XL_derived.csv\n",
      "/kaggle/input/google-smartphone-decimeter-challenge/train/2020-09-04-US-SF-1/Pixel4XL/supplemental/SPAN_Pixel4XL_10Hz.nmea\n",
      "/kaggle/input/google-smartphone-decimeter-challenge/train/2020-09-04-US-SF-1/Pixel4XL/supplemental/Pixel4XL_GnssLog.20o\n",
      "/kaggle/input/google-smartphone-decimeter-challenge/train/2020-09-04-US-SF-1/Mi8/Mi8_derived.csv\n",
      "/kaggle/input/google-smartphone-decimeter-challenge/train/2020-09-04-US-SF-1/Mi8/ground_truth.csv\n",
      "/kaggle/input/google-smartphone-decimeter-challenge/train/2020-09-04-US-SF-1/Mi8/Mi8_GnssLog.txt\n",
      "/kaggle/input/google-smartphone-decimeter-challenge/train/2020-09-04-US-SF-1/Mi8/supplemental/Mi8_GnssLog.20o\n",
      "/kaggle/input/google-smartphone-decimeter-challenge/train/2020-09-04-US-SF-1/Mi8/supplemental/SPAN_Mi8_10Hz.nmea\n",
      "/kaggle/input/google-smartphone-decimeter-challenge/train/2020-09-04-US-SF-1/Pixel4/Pixel4_derived.csv\n",
      "/kaggle/input/google-smartphone-decimeter-challenge/train/2020-09-04-US-SF-1/Pixel4/Pixel4_GnssLog.txt\n",
      "/kaggle/input/google-smartphone-decimeter-challenge/train/2020-09-04-US-SF-1/Pixel4/ground_truth.csv\n",
      "/kaggle/input/google-smartphone-decimeter-challenge/train/2020-09-04-US-SF-1/Pixel4/supplemental/Pixel4_GnssLog.20o\n",
      "/kaggle/input/google-smartphone-decimeter-challenge/train/2020-09-04-US-SF-1/Pixel4/supplemental/SPAN_Pixel4_10Hz.nmea\n",
      "/kaggle/input/google-smartphone-decimeter-challenge/train/2020-09-04-US-SF-2/Pixel4XL/Pixel4XL_GnssLog.txt\n",
      "/kaggle/input/google-smartphone-decimeter-challenge/train/2020-09-04-US-SF-2/Pixel4XL/ground_truth.csv\n",
      "/kaggle/input/google-smartphone-decimeter-challenge/train/2020-09-04-US-SF-2/Pixel4XL/Pixel4XL_derived.csv\n",
      "/kaggle/input/google-smartphone-decimeter-challenge/train/2020-09-04-US-SF-2/Pixel4XL/supplemental/SPAN_Pixel4XL_10Hz.nmea\n",
      "/kaggle/input/google-smartphone-decimeter-challenge/train/2020-09-04-US-SF-2/Pixel4XL/supplemental/Pixel4XL_GnssLog.20o\n",
      "/kaggle/input/google-smartphone-decimeter-challenge/train/2020-09-04-US-SF-2/Mi8/Mi8_derived.csv\n",
      "/kaggle/input/google-smartphone-decimeter-challenge/train/2020-09-04-US-SF-2/Mi8/ground_truth.csv\n",
      "/kaggle/input/google-smartphone-decimeter-challenge/train/2020-09-04-US-SF-2/Mi8/Mi8_GnssLog.txt\n",
      "/kaggle/input/google-smartphone-decimeter-challenge/train/2020-09-04-US-SF-2/Mi8/supplemental/Mi8_GnssLog.20o\n",
      "/kaggle/input/google-smartphone-decimeter-challenge/train/2020-09-04-US-SF-2/Mi8/supplemental/SPAN_Mi8_10Hz.nmea\n",
      "/kaggle/input/google-smartphone-decimeter-challenge/train/2020-09-04-US-SF-2/Pixel4/Pixel4_derived.csv\n",
      "/kaggle/input/google-smartphone-decimeter-challenge/train/2020-09-04-US-SF-2/Pixel4/Pixel4_GnssLog.txt\n",
      "/kaggle/input/google-smartphone-decimeter-challenge/train/2020-09-04-US-SF-2/Pixel4/ground_truth.csv\n",
      "/kaggle/input/google-smartphone-decimeter-challenge/train/2020-09-04-US-SF-2/Pixel4/supplemental/Pixel4_GnssLog.20o\n",
      "/kaggle/input/google-smartphone-decimeter-challenge/train/2020-09-04-US-SF-2/Pixel4/supplemental/SPAN_Pixel4_10Hz.nmea\n",
      "/kaggle/input/google-smartphone-decimeter-challenge/train/2021-01-04-US-RWC-1/Pixel4XL/Pixel4XL_GnssLog.txt\n",
      "/kaggle/input/google-smartphone-decimeter-challenge/train/2021-01-04-US-RWC-1/Pixel4XL/ground_truth.csv\n",
      "/kaggle/input/google-smartphone-decimeter-challenge/train/2021-01-04-US-RWC-1/Pixel4XL/Pixel4XL_derived.csv\n",
      "/kaggle/input/google-smartphone-decimeter-challenge/train/2021-01-04-US-RWC-1/Pixel4XL/supplemental/Pixel4XL_GnssLog.21o\n",
      "/kaggle/input/google-smartphone-decimeter-challenge/train/2021-01-04-US-RWC-1/Pixel4XL/supplemental/SPAN_Pixel4XL_10Hz.nmea\n",
      "/kaggle/input/google-smartphone-decimeter-challenge/train/2021-01-04-US-RWC-1/Pixel5/ground_truth.csv\n",
      "/kaggle/input/google-smartphone-decimeter-challenge/train/2021-01-04-US-RWC-1/Pixel5/Pixel5_derived.csv\n",
      "/kaggle/input/google-smartphone-decimeter-challenge/train/2021-01-04-US-RWC-1/Pixel5/Pixel5_GnssLog.txt\n",
      "/kaggle/input/google-smartphone-decimeter-challenge/train/2021-01-04-US-RWC-1/Pixel5/supplemental/SPAN_Pixel5_10Hz.nmea\n",
      "/kaggle/input/google-smartphone-decimeter-challenge/train/2021-01-04-US-RWC-1/Pixel5/supplemental/Pixel5_GnssLog.21o\n",
      "/kaggle/input/google-smartphone-decimeter-challenge/train/2021-01-04-US-RWC-1/Pixel4/Pixel4_derived.csv\n",
      "/kaggle/input/google-smartphone-decimeter-challenge/train/2021-01-04-US-RWC-1/Pixel4/Pixel4_GnssLog.txt\n",
      "/kaggle/input/google-smartphone-decimeter-challenge/train/2021-01-04-US-RWC-1/Pixel4/ground_truth.csv\n",
      "/kaggle/input/google-smartphone-decimeter-challenge/train/2021-01-04-US-RWC-1/Pixel4/supplemental/Pixel4_GnssLog.21o\n",
      "/kaggle/input/google-smartphone-decimeter-challenge/train/2021-01-04-US-RWC-1/Pixel4/supplemental/SPAN_Pixel4_10Hz.nmea\n",
      "/kaggle/input/google-smartphone-decimeter-challenge/train/2021-01-04-US-RWC-1/Pixel4Modded/ground_truth.csv\n",
      "/kaggle/input/google-smartphone-decimeter-challenge/train/2021-01-04-US-RWC-1/Pixel4Modded/Pixel4Modded_GnssLog.txt\n",
      "/kaggle/input/google-smartphone-decimeter-challenge/train/2021-01-04-US-RWC-1/Pixel4Modded/Pixel4Modded_derived.csv\n",
      "/kaggle/input/google-smartphone-decimeter-challenge/train/2021-01-04-US-RWC-1/Pixel4Modded/supplemental/SPAN_Pixel4Modded_10Hz.nmea\n",
      "/kaggle/input/google-smartphone-decimeter-challenge/train/2021-01-04-US-RWC-1/Pixel4Modded/supplemental/Pixel4Modded_GnssLog.21o\n",
      "/kaggle/input/google-smartphone-decimeter-challenge/train/2021-04-15-US-MTV-1/SamsungS20Ultra/SamsungS20Ultra_GnssLog.txt\n",
      "/kaggle/input/google-smartphone-decimeter-challenge/train/2021-04-15-US-MTV-1/SamsungS20Ultra/ground_truth.csv\n",
      "/kaggle/input/google-smartphone-decimeter-challenge/train/2021-04-15-US-MTV-1/SamsungS20Ultra/SamsungS20Ultra_derived.csv\n",
      "/kaggle/input/google-smartphone-decimeter-challenge/train/2021-04-15-US-MTV-1/SamsungS20Ultra/supplemental/SamsungS20Ultra_GnssLog.21o\n",
      "/kaggle/input/google-smartphone-decimeter-challenge/train/2021-04-15-US-MTV-1/SamsungS20Ultra/supplemental/SPAN_SamsungS20Ultra_10Hz.nmea\n",
      "/kaggle/input/google-smartphone-decimeter-challenge/train/2021-04-15-US-MTV-1/Pixel5/ground_truth.csv\n",
      "/kaggle/input/google-smartphone-decimeter-challenge/train/2021-04-15-US-MTV-1/Pixel5/Pixel5_derived.csv\n",
      "/kaggle/input/google-smartphone-decimeter-challenge/train/2021-04-15-US-MTV-1/Pixel5/Pixel5_GnssLog.txt\n",
      "/kaggle/input/google-smartphone-decimeter-challenge/train/2021-04-15-US-MTV-1/Pixel5/supplemental/SPAN_Pixel5_10Hz.nmea\n",
      "/kaggle/input/google-smartphone-decimeter-challenge/train/2021-04-15-US-MTV-1/Pixel5/supplemental/Pixel5_GnssLog.21o\n",
      "/kaggle/input/google-smartphone-decimeter-challenge/train/2021-04-15-US-MTV-1/Pixel4/Pixel4_derived.csv\n",
      "/kaggle/input/google-smartphone-decimeter-challenge/train/2021-04-15-US-MTV-1/Pixel4/Pixel4_GnssLog.txt\n",
      "/kaggle/input/google-smartphone-decimeter-challenge/train/2021-04-15-US-MTV-1/Pixel4/ground_truth.csv\n",
      "/kaggle/input/google-smartphone-decimeter-challenge/train/2021-04-15-US-MTV-1/Pixel4/supplemental/Pixel4_GnssLog.21o\n",
      "/kaggle/input/google-smartphone-decimeter-challenge/train/2021-04-15-US-MTV-1/Pixel4/supplemental/SPAN_Pixel4_10Hz.nmea\n",
      "/kaggle/input/google-smartphone-decimeter-challenge/train/2021-04-15-US-MTV-1/Pixel4Modded/ground_truth.csv\n",
      "/kaggle/input/google-smartphone-decimeter-challenge/train/2021-04-15-US-MTV-1/Pixel4Modded/Pixel4Modded_GnssLog.txt\n",
      "/kaggle/input/google-smartphone-decimeter-challenge/train/2021-04-15-US-MTV-1/Pixel4Modded/Pixel4Modded_derived.csv\n",
      "/kaggle/input/google-smartphone-decimeter-challenge/train/2021-04-15-US-MTV-1/Pixel4Modded/supplemental/SPAN_Pixel4Modded_10Hz.nmea\n",
      "/kaggle/input/google-smartphone-decimeter-challenge/train/2021-04-15-US-MTV-1/Pixel4Modded/supplemental/Pixel4Modded_GnssLog.21o\n",
      "/kaggle/input/google-smartphone-decimeter-challenge/train/2020-07-08-US-MTV-1/Pixel4XL/Pixel4XL_GnssLog.txt\n",
      "/kaggle/input/google-smartphone-decimeter-challenge/train/2020-07-08-US-MTV-1/Pixel4XL/ground_truth.csv\n",
      "/kaggle/input/google-smartphone-decimeter-challenge/train/2020-07-08-US-MTV-1/Pixel4XL/Pixel4XL_derived.csv\n",
      "/kaggle/input/google-smartphone-decimeter-challenge/train/2020-07-08-US-MTV-1/Pixel4XL/supplemental/SPAN_Pixel4XL_10Hz.nmea\n",
      "/kaggle/input/google-smartphone-decimeter-challenge/train/2020-07-08-US-MTV-1/Pixel4XL/supplemental/Pixel4XL_GnssLog.20o\n",
      "/kaggle/input/google-smartphone-decimeter-challenge/train/2020-07-08-US-MTV-1/Pixel4XLModded/ground_truth.csv\n",
      "/kaggle/input/google-smartphone-decimeter-challenge/train/2020-07-08-US-MTV-1/Pixel4XLModded/Pixel4XLModded_derived.csv\n",
      "/kaggle/input/google-smartphone-decimeter-challenge/train/2020-07-08-US-MTV-1/Pixel4XLModded/Pixel4XLModded_GnssLog.txt\n",
      "/kaggle/input/google-smartphone-decimeter-challenge/train/2020-07-08-US-MTV-1/Pixel4XLModded/supplemental/Pixel4XLModded_GnssLog.20o\n",
      "/kaggle/input/google-smartphone-decimeter-challenge/train/2020-07-08-US-MTV-1/Pixel4XLModded/supplemental/SPAN_Pixel4XLModded_10Hz.nmea\n",
      "/kaggle/input/google-smartphone-decimeter-challenge/train/2020-07-08-US-MTV-1/Pixel4/Pixel4_derived.csv\n",
      "/kaggle/input/google-smartphone-decimeter-challenge/train/2020-07-08-US-MTV-1/Pixel4/Pixel4_GnssLog.txt\n",
      "/kaggle/input/google-smartphone-decimeter-challenge/train/2020-07-08-US-MTV-1/Pixel4/ground_truth.csv\n",
      "/kaggle/input/google-smartphone-decimeter-challenge/train/2020-07-08-US-MTV-1/Pixel4/supplemental/Pixel4_GnssLog.20o\n",
      "/kaggle/input/google-smartphone-decimeter-challenge/train/2020-07-08-US-MTV-1/Pixel4/supplemental/SPAN_Pixel4_10Hz.nmea\n",
      "/kaggle/input/google-smartphone-decimeter-challenge/train/2020-05-21-US-MTV-1/Pixel4/Pixel4_derived.csv\n",
      "/kaggle/input/google-smartphone-decimeter-challenge/train/2020-05-21-US-MTV-1/Pixel4/Pixel4_GnssLog.txt\n",
      "/kaggle/input/google-smartphone-decimeter-challenge/train/2020-05-21-US-MTV-1/Pixel4/ground_truth.csv\n",
      "/kaggle/input/google-smartphone-decimeter-challenge/train/2020-05-21-US-MTV-1/Pixel4/supplemental/Pixel4_GnssLog.20o\n",
      "/kaggle/input/google-smartphone-decimeter-challenge/train/2020-05-21-US-MTV-1/Pixel4/supplemental/SPAN_Pixel4_10Hz.nmea\n",
      "/kaggle/input/google-smartphone-decimeter-challenge/train/2021-04-22-US-SJC-1/SamsungS20Ultra/SamsungS20Ultra_GnssLog.txt\n",
      "/kaggle/input/google-smartphone-decimeter-challenge/train/2021-04-22-US-SJC-1/SamsungS20Ultra/ground_truth.csv\n",
      "/kaggle/input/google-smartphone-decimeter-challenge/train/2021-04-22-US-SJC-1/SamsungS20Ultra/SamsungS20Ultra_derived.csv\n",
      "/kaggle/input/google-smartphone-decimeter-challenge/train/2021-04-22-US-SJC-1/SamsungS20Ultra/supplemental/SamsungS20Ultra_GnssLog.21o\n",
      "/kaggle/input/google-smartphone-decimeter-challenge/train/2021-04-22-US-SJC-1/SamsungS20Ultra/supplemental/SPAN_SamsungS20Ultra_10Hz.nmea\n",
      "/kaggle/input/google-smartphone-decimeter-challenge/train/2021-04-22-US-SJC-1/Pixel4/Pixel4_derived.csv\n",
      "/kaggle/input/google-smartphone-decimeter-challenge/train/2021-04-22-US-SJC-1/Pixel4/Pixel4_GnssLog.txt\n",
      "/kaggle/input/google-smartphone-decimeter-challenge/train/2021-04-22-US-SJC-1/Pixel4/ground_truth.csv\n",
      "/kaggle/input/google-smartphone-decimeter-challenge/train/2021-04-22-US-SJC-1/Pixel4/supplemental/Pixel4_GnssLog.21o\n",
      "/kaggle/input/google-smartphone-decimeter-challenge/train/2021-04-22-US-SJC-1/Pixel4/supplemental/SPAN_Pixel4_10Hz.nmea\n",
      "/kaggle/input/google-smartphone-decimeter-challenge/train/2021-01-05-US-SVL-2/Pixel4XL/Pixel4XL_GnssLog.txt\n",
      "/kaggle/input/google-smartphone-decimeter-challenge/train/2021-01-05-US-SVL-2/Pixel4XL/ground_truth.csv\n",
      "/kaggle/input/google-smartphone-decimeter-challenge/train/2021-01-05-US-SVL-2/Pixel4XL/Pixel4XL_derived.csv\n",
      "/kaggle/input/google-smartphone-decimeter-challenge/train/2021-01-05-US-SVL-2/Pixel4XL/supplemental/Pixel4XL_GnssLog.21o\n",
      "/kaggle/input/google-smartphone-decimeter-challenge/train/2021-01-05-US-SVL-2/Pixel4XL/supplemental/SPAN_Pixel4XL_10Hz.nmea\n",
      "/kaggle/input/google-smartphone-decimeter-challenge/train/2021-01-05-US-SVL-2/Pixel4/Pixel4_derived.csv\n",
      "/kaggle/input/google-smartphone-decimeter-challenge/train/2021-01-05-US-SVL-2/Pixel4/Pixel4_GnssLog.txt\n",
      "/kaggle/input/google-smartphone-decimeter-challenge/train/2021-01-05-US-SVL-2/Pixel4/ground_truth.csv\n",
      "/kaggle/input/google-smartphone-decimeter-challenge/train/2021-01-05-US-SVL-2/Pixel4/supplemental/Pixel4_GnssLog.21o\n",
      "/kaggle/input/google-smartphone-decimeter-challenge/train/2021-01-05-US-SVL-2/Pixel4/supplemental/SPAN_Pixel4_10Hz.nmea\n",
      "/kaggle/input/google-smartphone-decimeter-challenge/train/2021-01-05-US-SVL-2/Pixel4Modded/ground_truth.csv\n",
      "/kaggle/input/google-smartphone-decimeter-challenge/train/2021-01-05-US-SVL-2/Pixel4Modded/Pixel4Modded_GnssLog.txt\n",
      "/kaggle/input/google-smartphone-decimeter-challenge/train/2021-01-05-US-SVL-2/Pixel4Modded/Pixel4Modded_derived.csv\n",
      "/kaggle/input/google-smartphone-decimeter-challenge/train/2021-01-05-US-SVL-2/Pixel4Modded/supplemental/SPAN_Pixel4Modded_10Hz.nmea\n",
      "/kaggle/input/google-smartphone-decimeter-challenge/train/2021-01-05-US-SVL-2/Pixel4Modded/supplemental/Pixel4Modded_GnssLog.21o\n",
      "/kaggle/input/google-smartphone-decimeter-challenge/train/2021-04-28-US-SJC-1/SamsungS20Ultra/SamsungS20Ultra_GnssLog.txt\n",
      "/kaggle/input/google-smartphone-decimeter-challenge/train/2021-04-28-US-SJC-1/SamsungS20Ultra/ground_truth.csv\n",
      "/kaggle/input/google-smartphone-decimeter-challenge/train/2021-04-28-US-SJC-1/SamsungS20Ultra/SamsungS20Ultra_derived.csv\n",
      "/kaggle/input/google-smartphone-decimeter-challenge/train/2021-04-28-US-SJC-1/SamsungS20Ultra/supplemental/SamsungS20Ultra_GnssLog.21o\n",
      "/kaggle/input/google-smartphone-decimeter-challenge/train/2021-04-28-US-SJC-1/SamsungS20Ultra/supplemental/SPAN_SamsungS20Ultra_10Hz.nmea\n",
      "/kaggle/input/google-smartphone-decimeter-challenge/train/2021-04-28-US-SJC-1/Pixel4/Pixel4_derived.csv\n",
      "/kaggle/input/google-smartphone-decimeter-challenge/train/2021-04-28-US-SJC-1/Pixel4/Pixel4_GnssLog.txt\n",
      "/kaggle/input/google-smartphone-decimeter-challenge/train/2021-04-28-US-SJC-1/Pixel4/ground_truth.csv\n",
      "/kaggle/input/google-smartphone-decimeter-challenge/train/2021-04-28-US-SJC-1/Pixel4/supplemental/Pixel4_GnssLog.21o\n",
      "/kaggle/input/google-smartphone-decimeter-challenge/train/2021-04-28-US-SJC-1/Pixel4/supplemental/SPAN_Pixel4_10Hz.nmea\n",
      "/kaggle/input/google-smartphone-decimeter-challenge/train/2020-06-11-US-MTV-1/Pixel4XL/Pixel4XL_GnssLog.txt\n",
      "/kaggle/input/google-smartphone-decimeter-challenge/train/2020-06-11-US-MTV-1/Pixel4XL/ground_truth.csv\n",
      "/kaggle/input/google-smartphone-decimeter-challenge/train/2020-06-11-US-MTV-1/Pixel4XL/Pixel4XL_derived.csv\n",
      "/kaggle/input/google-smartphone-decimeter-challenge/train/2020-06-11-US-MTV-1/Pixel4XL/supplemental/SPAN_Pixel4XL_10Hz.nmea\n",
      "/kaggle/input/google-smartphone-decimeter-challenge/train/2020-06-11-US-MTV-1/Pixel4XL/supplemental/Pixel4XL_GnssLog.20o\n",
      "/kaggle/input/google-smartphone-decimeter-challenge/train/2020-06-11-US-MTV-1/Pixel4/Pixel4_derived.csv\n",
      "/kaggle/input/google-smartphone-decimeter-challenge/train/2020-06-11-US-MTV-1/Pixel4/Pixel4_GnssLog.txt\n",
      "/kaggle/input/google-smartphone-decimeter-challenge/train/2020-06-11-US-MTV-1/Pixel4/ground_truth.csv\n",
      "/kaggle/input/google-smartphone-decimeter-challenge/train/2020-06-11-US-MTV-1/Pixel4/supplemental/Pixel4_GnssLog.20o\n",
      "/kaggle/input/google-smartphone-decimeter-challenge/train/2020-06-11-US-MTV-1/Pixel4/supplemental/SPAN_Pixel4_10Hz.nmea\n",
      "/kaggle/input/google-smartphone-decimeter-challenge/train/2021-04-29-US-MTV-1/SamsungS20Ultra/SamsungS20Ultra_GnssLog.txt\n",
      "/kaggle/input/google-smartphone-decimeter-challenge/train/2021-04-29-US-MTV-1/SamsungS20Ultra/ground_truth.csv\n",
      "/kaggle/input/google-smartphone-decimeter-challenge/train/2021-04-29-US-MTV-1/SamsungS20Ultra/SamsungS20Ultra_derived.csv\n",
      "/kaggle/input/google-smartphone-decimeter-challenge/train/2021-04-29-US-MTV-1/SamsungS20Ultra/supplemental/SamsungS20Ultra_GnssLog.21o\n",
      "/kaggle/input/google-smartphone-decimeter-challenge/train/2021-04-29-US-MTV-1/SamsungS20Ultra/supplemental/SPAN_SamsungS20Ultra_10Hz.nmea\n",
      "/kaggle/input/google-smartphone-decimeter-challenge/train/2021-04-29-US-MTV-1/Pixel5/ground_truth.csv\n",
      "/kaggle/input/google-smartphone-decimeter-challenge/train/2021-04-29-US-MTV-1/Pixel5/Pixel5_derived.csv\n",
      "/kaggle/input/google-smartphone-decimeter-challenge/train/2021-04-29-US-MTV-1/Pixel5/Pixel5_GnssLog.txt\n",
      "/kaggle/input/google-smartphone-decimeter-challenge/train/2021-04-29-US-MTV-1/Pixel5/supplemental/SPAN_Pixel5_10Hz.nmea\n",
      "/kaggle/input/google-smartphone-decimeter-challenge/train/2021-04-29-US-MTV-1/Pixel5/supplemental/Pixel5_GnssLog.21o\n",
      "/kaggle/input/google-smartphone-decimeter-challenge/train/2021-04-29-US-MTV-1/Pixel4/Pixel4_derived.csv\n",
      "/kaggle/input/google-smartphone-decimeter-challenge/train/2021-04-29-US-MTV-1/Pixel4/Pixel4_GnssLog.txt\n",
      "/kaggle/input/google-smartphone-decimeter-challenge/train/2021-04-29-US-MTV-1/Pixel4/ground_truth.csv\n",
      "/kaggle/input/google-smartphone-decimeter-challenge/train/2021-04-29-US-MTV-1/Pixel4/supplemental/Pixel4_GnssLog.21o\n",
      "/kaggle/input/google-smartphone-decimeter-challenge/train/2021-04-29-US-MTV-1/Pixel4/supplemental/SPAN_Pixel4_10Hz.nmea\n",
      "/kaggle/input/google-smartphone-decimeter-challenge/train/2020-06-05-US-MTV-2/Pixel4XL/Pixel4XL_GnssLog.txt\n",
      "/kaggle/input/google-smartphone-decimeter-challenge/train/2020-06-05-US-MTV-2/Pixel4XL/ground_truth.csv\n",
      "/kaggle/input/google-smartphone-decimeter-challenge/train/2020-06-05-US-MTV-2/Pixel4XL/Pixel4XL_derived.csv\n",
      "/kaggle/input/google-smartphone-decimeter-challenge/train/2020-06-05-US-MTV-2/Pixel4XL/supplemental/SPAN_Pixel4XL_10Hz.nmea\n",
      "/kaggle/input/google-smartphone-decimeter-challenge/train/2020-06-05-US-MTV-2/Pixel4XL/supplemental/Pixel4XL_GnssLog.20o\n",
      "/kaggle/input/google-smartphone-decimeter-challenge/train/2020-06-05-US-MTV-2/Pixel4/Pixel4_derived.csv\n",
      "/kaggle/input/google-smartphone-decimeter-challenge/train/2020-06-05-US-MTV-2/Pixel4/Pixel4_GnssLog.txt\n",
      "/kaggle/input/google-smartphone-decimeter-challenge/train/2020-06-05-US-MTV-2/Pixel4/ground_truth.csv\n",
      "/kaggle/input/google-smartphone-decimeter-challenge/train/2020-06-05-US-MTV-2/Pixel4/supplemental/Pixel4_GnssLog.20o\n",
      "/kaggle/input/google-smartphone-decimeter-challenge/train/2020-06-05-US-MTV-2/Pixel4/supplemental/SPAN_Pixel4_10Hz.nmea\n",
      "/kaggle/input/google-smartphone-decimeter-challenge/train/2020-05-14-US-MTV-2/Pixel4XLModded/ground_truth.csv\n",
      "/kaggle/input/google-smartphone-decimeter-challenge/train/2020-05-14-US-MTV-2/Pixel4XLModded/Pixel4XLModded_derived.csv\n",
      "/kaggle/input/google-smartphone-decimeter-challenge/train/2020-05-14-US-MTV-2/Pixel4XLModded/Pixel4XLModded_GnssLog.txt\n",
      "/kaggle/input/google-smartphone-decimeter-challenge/train/2020-05-14-US-MTV-2/Pixel4XLModded/supplemental/Pixel4XLModded_GnssLog.20o\n",
      "/kaggle/input/google-smartphone-decimeter-challenge/train/2020-05-14-US-MTV-2/Pixel4XLModded/supplemental/SPAN_Pixel4XLModded_10Hz.nmea\n",
      "/kaggle/input/google-smartphone-decimeter-challenge/train/2020-05-14-US-MTV-2/Pixel4/Pixel4_derived.csv\n",
      "/kaggle/input/google-smartphone-decimeter-challenge/train/2020-05-14-US-MTV-2/Pixel4/Pixel4_GnssLog.txt\n",
      "/kaggle/input/google-smartphone-decimeter-challenge/train/2020-05-14-US-MTV-2/Pixel4/ground_truth.csv\n",
      "/kaggle/input/google-smartphone-decimeter-challenge/train/2020-05-14-US-MTV-2/Pixel4/supplemental/Pixel4_GnssLog.20o\n",
      "/kaggle/input/google-smartphone-decimeter-challenge/train/2020-05-14-US-MTV-2/Pixel4/supplemental/SPAN_Pixel4_10Hz.nmea\n",
      "/kaggle/input/google-smartphone-decimeter-challenge/train/2020-08-03-US-MTV-1/Mi8/Mi8_derived.csv\n",
      "/kaggle/input/google-smartphone-decimeter-challenge/train/2020-08-03-US-MTV-1/Mi8/ground_truth.csv\n",
      "/kaggle/input/google-smartphone-decimeter-challenge/train/2020-08-03-US-MTV-1/Mi8/Mi8_GnssLog.txt\n",
      "/kaggle/input/google-smartphone-decimeter-challenge/train/2020-08-03-US-MTV-1/Mi8/supplemental/Mi8_GnssLog.20o\n",
      "/kaggle/input/google-smartphone-decimeter-challenge/train/2020-08-03-US-MTV-1/Mi8/supplemental/SPAN_Mi8_10Hz.nmea\n",
      "/kaggle/input/google-smartphone-decimeter-challenge/train/2020-08-03-US-MTV-1/Pixel4/Pixel4_derived.csv\n",
      "/kaggle/input/google-smartphone-decimeter-challenge/train/2020-08-03-US-MTV-1/Pixel4/Pixel4_GnssLog.txt\n",
      "/kaggle/input/google-smartphone-decimeter-challenge/train/2020-08-03-US-MTV-1/Pixel4/ground_truth.csv\n",
      "/kaggle/input/google-smartphone-decimeter-challenge/train/2020-08-03-US-MTV-1/Pixel4/supplemental/Pixel4_GnssLog.20o\n",
      "/kaggle/input/google-smartphone-decimeter-challenge/train/2020-08-03-US-MTV-1/Pixel4/supplemental/SPAN_Pixel4_10Hz.nmea\n",
      "/kaggle/input/lgb-regression-16-13-16-13/sub_lgb_after_ann_normal_tdn13_tsn16_tdan13_tsan16.csv\n",
      "/kaggle/input/lgb-regression-16-13-16-13/model_lng_16_13_16_13.pkl\n",
      "/kaggle/input/lgb-regression-16-13-16-13/model_lat_16_13_16_13.pkl\n",
      "/kaggle/input/lgb-regression-16-13-16-13/__results__.html\n",
      "/kaggle/input/lgb-regression-16-13-16-13/__notebook__.ipynb\n",
      "/kaggle/input/lgb-regression-16-13-16-13/__output__.json\n",
      "/kaggle/input/lgb-regression-16-13-16-13/custom.css\n",
      "/kaggle/input/forest-model/model_lat_forest.pkl\n",
      "/kaggle/input/forest-model/model_lng_forest.pkl\n",
      "/kaggle/input/test-model/model_lng.pkl\n",
      "/kaggle/input/test-model/model_lat.pkl\n",
      "/kaggle/input/test-model/dis_ann.hdf5\n",
      "/kaggle/input/test-model/speed_ann.hdf5\n",
      "/kaggle/input/lgb-regression-after-keras-ann-dist-speed/model_lng.pkl\n",
      "/kaggle/input/lgb-regression-after-keras-ann-dist-speed/__results__.html\n",
      "/kaggle/input/lgb-regression-after-keras-ann-dist-speed/__notebook__.ipynb\n",
      "/kaggle/input/lgb-regression-after-keras-ann-dist-speed/__output__.json\n",
      "/kaggle/input/lgb-regression-after-keras-ann-dist-speed/model_lat.pkl\n",
      "/kaggle/input/lgb-regression-after-keras-ann-dist-speed/sub_lgb_after_ann_normal_tdn14.25_tsn7.125_tdan13_tsan16.csv\n",
      "/kaggle/input/lgb-regression-after-keras-ann-dist-speed/custom.css\n",
      "/kaggle/input/bucket-traindata/train_data.csv\n"
     ]
    }
   ],
   "source": [
    "# This Python 3 environment comes with many helpful analytics libraries installed\n",
    "# It is defined by the kaggle/python Docker image: https://github.com/kaggle/docker-python\n",
    "# For example, here's several helpful packages to load\n",
    "\n",
    "import numpy as np # linear algebra\n",
    "import pandas as pd # data processing, CSV file I/O (e.g. pd.read_csv)\n",
    "\n",
    "# Input data files are available in the read-only \"../input/\" directory\n",
    "# For example, running this (by clicking run or pressing Shift+Enter) will list all files under the input directory\n",
    "\n",
    "import os\n",
    "for dirname, _, filenames in os.walk('/kaggle/input'):\n",
    "    for filename in filenames:\n",
    "        print(os.path.join(dirname, filename))\n",
    "\n",
    "# You can write up to 20GB to the current directory (/kaggle/working/) that gets preserved as output when you create a version using \"Save & Run All\" \n",
    "# You can also write temporary files to /kaggle/temp/, but they won't be saved outside of the current session"
   ]
  },
  {
   "cell_type": "code",
   "execution_count": 2,
   "id": "4838e7ed",
   "metadata": {
    "execution": {
     "iopub.execute_input": "2021-08-04T06:36:54.504961Z",
     "iopub.status.busy": "2021-08-04T06:36:54.504312Z",
     "iopub.status.idle": "2021-08-04T06:37:08.877030Z",
     "shell.execute_reply": "2021-08-04T06:37:08.875883Z",
     "shell.execute_reply.started": "2021-08-04T02:42:59.858833Z"
    },
    "papermill": {
     "duration": 14.444195,
     "end_time": "2021-08-04T06:37:08.877198",
     "exception": false,
     "start_time": "2021-08-04T06:36:54.433003",
     "status": "completed"
    },
    "tags": []
   },
   "outputs": [
    {
     "name": "stdout",
     "output_type": "stream",
     "text": [
      "Collecting simdkalman\r\n",
      "  Downloading simdkalman-1.0.1-py2.py3-none-any.whl (11 kB)\r\n",
      "Requirement already satisfied: numpy>=1.9.0 in /opt/conda/lib/python3.7/site-packages (from simdkalman) (1.19.5)\r\n",
      "Installing collected packages: simdkalman\r\n",
      "Successfully installed simdkalman-1.0.1\r\n",
      "\u001b[33mWARNING: Running pip as root will break packages and permissions. You should install packages reliably by using venv: https://pip.pypa.io/warnings/venv\u001b[0m\r\n"
     ]
    },
    {
     "data": {
      "text/html": [
       "<style type='text/css'>\n",
       ".datatable table.frame { margin-bottom: 0; }\n",
       ".datatable table.frame thead { border-bottom: none; }\n",
       ".datatable table.frame tr.coltypes td {  color: #FFFFFF;  line-height: 6px;  padding: 0 0.5em;}\n",
       ".datatable .bool    { background: #DDDD99; }\n",
       ".datatable .object  { background: #565656; }\n",
       ".datatable .int     { background: #5D9E5D; }\n",
       ".datatable .float   { background: #4040CC; }\n",
       ".datatable .str     { background: #CC4040; }\n",
       ".datatable .time    { background: #40CC40; }\n",
       ".datatable .row_index {  background: var(--jp-border-color3);  border-right: 1px solid var(--jp-border-color0);  color: var(--jp-ui-font-color3);  font-size: 9px;}\n",
       ".datatable .frame tbody td { text-align: left; }\n",
       ".datatable .frame tr.coltypes .row_index {  background: var(--jp-border-color0);}\n",
       ".datatable th:nth-child(2) { padding-left: 12px; }\n",
       ".datatable .hellipsis {  color: var(--jp-cell-editor-border-color);}\n",
       ".datatable .vellipsis {  background: var(--jp-layout-color0);  color: var(--jp-cell-editor-border-color);}\n",
       ".datatable .na {  color: var(--jp-cell-editor-border-color);  font-size: 80%;}\n",
       ".datatable .sp {  opacity: 0.25;}\n",
       ".datatable .footer { font-size: 9px; }\n",
       ".datatable .frame_dimensions {  background: var(--jp-border-color3);  border-top: 1px solid var(--jp-border-color0);  color: var(--jp-ui-font-color3);  display: inline-block;  opacity: 0.6;  padding: 1px 10px 1px 5px;}\n",
       "</style>\n"
      ],
      "text/plain": [
       "<IPython.core.display.HTML object>"
      ]
     },
     "metadata": {},
     "output_type": "display_data"
    }
   ],
   "source": [
    "! pip3 install simdkalman\n",
    "from pathlib import Path\n",
    "import random \n",
    "from tqdm import tqdm\n",
    "import joblib\n",
    "import tensorflow as tf\n",
    "from scipy.interpolate import interp1d \n",
    "import simdkalman \n",
    "from sklearn.ensemble import RandomForestRegressor\n",
    "from sklearn.metrics import mean_squared_error # 均方误差\n",
    "from sklearn.metrics import mean_absolute_error # 平方绝对误差\n",
    "import lightgbm as lgb \n",
    "import pandas as pd\n",
    "import numpy as np"
   ]
  },
  {
   "cell_type": "code",
   "execution_count": 3,
   "id": "a37706c9",
   "metadata": {
    "execution": {
     "iopub.execute_input": "2021-08-04T06:37:08.979589Z",
     "iopub.status.busy": "2021-08-04T06:37:08.978983Z",
     "iopub.status.idle": "2021-08-04T06:37:10.322588Z",
     "shell.execute_reply": "2021-08-04T06:37:10.322025Z",
     "shell.execute_reply.started": "2021-08-04T02:43:33.831698Z"
    },
    "papermill": {
     "duration": 1.40001,
     "end_time": "2021-08-04T06:37:10.322731",
     "exception": false,
     "start_time": "2021-08-04T06:37:08.922721",
     "status": "completed"
    },
    "tags": []
   },
   "outputs": [],
   "source": [
    "import keras \n",
    "import os\n",
    "import haversine \n",
    "import matplotlib.pyplot as plt\n",
    "from matplotlib_venn import venn2, venn2_circles\n",
    "import seaborn as sns\n",
    "import pathlib\n",
    "import plotly\n",
    "from datetime import datetime \n",
    "import plotly.express as px \n",
    "from sklearn.linear_model import Ridge, RidgeCV\n",
    "import matplotlib.pyplot as plt \n",
    "from sklearn import linear_model  \n",
    "from sklearn.ensemble import IsolationForest \n",
    "import warnings\n",
    "from sklearn.model_selection import KFold\n",
    "from numba import jit\n",
    "import joblib\n",
    "import numpy as np\n",
    "import pandas as pd\n",
    "# import modin.pandas as pd\n",
    "from pathlib import Path\n",
    "from tqdm import tqdm\n",
    "import matplotlib.pyplot as plt\n",
    "from sklearn.model_selection import train_test_split\n",
    "import lightgbm as lgb \n",
    "from lightgbm import LGBMRegressor\n",
    "from sklearn.metrics import mean_absolute_error, mean_squared_error\n",
    "from scipy.stats import skew\n",
    "from scipy.stats import kurtosis\n",
    "from scipy.stats import mode \n",
    "from sklearn.decomposition import PCA\n",
    "from sklearn.preprocessing import StandardScaler \n",
    "from tensorflow.keras.callbacks import ReduceLROnPlateau, ModelCheckpoint\n",
    "\n",
    "from tensorflow.keras.layers import LeakyReLU, Input, concatenate, Dense, LSTM, BatchNormalization, Dropout, Concatenate, Lambda, GaussianNoise, Activation, Reshape, Embedding, Add, Subtract, LeakyReLU, Flatten, AdditiveAttention\n",
    "from tensorflow.keras.models import Model, Sequential\n",
    "from tensorflow.keras.losses import BinaryCrossentropy\n",
    "from tensorflow.keras.optimizers import Adam\n",
    "from tensorflow.keras.callbacks import EarlyStopping\n",
    "from tensorflow.keras.layers.experimental.preprocessing import Normalization\n",
    "import tensorflow as tf\n",
    "from tensorflow_addons.optimizers import AdamW\n",
    "from tensorflow.keras.metrics import AUC \n",
    "from tensorflow.keras.activations import swish, relu\n",
    "from tensorflow.keras.backend import square \n",
    "from keras.engine.topology import Layer \n",
    "from keras import backend as K\n",
    "import warnings \n",
    "from sklearn.linear_model import Lasso, LassoCV, LassoLarsCV\n",
    "import random \n",
    "from sklearn.ensemble import IsolationForest \n",
    "from sklearn.preprocessing import StandardScaler\n",
    "import simdkalman\n",
    "from pathlib import Path\n",
    "from tqdm import tqdm\n",
    "\n",
    "from sklearn.gaussian_process import GaussianProcessRegressor\n",
    "from sklearn.ensemble import RandomForestRegressor\n",
    "import gc \n",
    "from sklearn.metrics import r2_score\n",
    "seeds = [2022]\n",
    "warnings.filterwarnings(\"ignore\")"
   ]
  },
  {
   "cell_type": "code",
   "execution_count": 4,
   "id": "ac0f2a34",
   "metadata": {
    "execution": {
     "iopub.execute_input": "2021-08-04T06:37:10.441124Z",
     "iopub.status.busy": "2021-08-04T06:37:10.421366Z",
     "iopub.status.idle": "2021-08-04T06:37:10.443548Z",
     "shell.execute_reply": "2021-08-04T06:37:10.443115Z",
     "shell.execute_reply.started": "2021-08-04T02:43:37.001508Z"
    },
    "papermill": {
     "duration": 0.075452,
     "end_time": "2021-08-04T06:37:10.443655",
     "exception": false,
     "start_time": "2021-08-04T06:37:10.368203",
     "status": "completed"
    },
    "tags": []
   },
   "outputs": [],
   "source": [
    "pd.set_option('expand_frame_repr', False)\n",
    "\n",
    "\n",
    "def get_union(dir_name, file_name):\n",
    "    print(\"Reading\", file_name, \"from\", dir_name, \"...\")\n",
    "    datas = []\n",
    "    for path in tqdm(Path(dir_name).rglob(file_name)):\n",
    "        datas.append(pd.read_csv(path, low_memory=False, index_col=False))\n",
    "    return pd.concat(datas)\n",
    "\n",
    "\n",
    "def check_random(SEED=2021):\n",
    "    os.environ['TF_DETERMINISTIC_OPS'] = '1'\n",
    "    os.environ['PYTHONHASHSEED'] = str(SEED)\n",
    "    random.seed(SEED)\n",
    "    np.random.seed(SEED)\n",
    "    tf.random.set_seed(SEED)\n",
    "\n",
    "def calc_haversine(lat1, lng1, lat2, lng2):\n",
    "    \"\"\"from\n",
    "    https://www.kaggle.com/dehokanta/baseline-post-processing-by-outlier-correction\n",
    "    \"\"\"\n",
    "    RADIUS = 6_367_000\n",
    "    lat1, lng1, lat2, lng2 = map(np.radians, [lat1, lng1, lat2, lng2])\n",
    "    dlat = lat2 - lat1\n",
    "    dlng = lng2 - lng1\n",
    "    a = np.sin(dlat / 2) ** 2 + \\\n",
    "        np.cos(lat1) * np.cos(lat2) * np.sin(dlng / 2) ** 2\n",
    "    dist = 2 * RADIUS * np.arcsin(a ** 0.5)\n",
    "    return dist\n",
    "\n",
    "\n",
    "\n",
    "class KF():\n",
    "    def __init__(self):\n",
    "        T = 1.0\n",
    "        state_transition = np.array([[1, 0, T, 0, 0.5 * T ** 2, 0],\n",
    "                                     [0, 1, 0, T, 0, 0.5 * T ** 2],\n",
    "                                     [0, 0, 1, 0, T, 0],\n",
    "                                     [0, 0, 0, 1, 0, T],\n",
    "                                     [0, 0, 0, 0, 1, 0],\n",
    "                                     [0, 0, 0, 0, 0, 1]])\n",
    "        process_noise = np.diag([1e-5, 1e-5, 5e-6, 5e-6, 1e-6, 1e-6]) + np.ones((6, 6)) * 1e-9\n",
    "        observation_model = np.array([[1, 0, 0, 0, 0, 0], [0, 1, 0, 0, 0, 0]])\n",
    "        observation_noise = np.diag([5e-5, 5e-5]) + np.ones((2, 2)) * 1e-9\n",
    "        self.kf = simdkalman.KalmanFilter(\n",
    "            state_transition=state_transition,\n",
    "            process_noise=process_noise,\n",
    "            observation_model=observation_model,\n",
    "            observation_noise=observation_noise)\n",
    "\n",
    "    def apply_kf_smoothing(self, df, suffix):\n",
    "        phones = df[\"phone\"].drop_duplicates().tolist()\n",
    "        for phone in tqdm(phones):\n",
    "            cond = df['phone'] == phone\n",
    "            tmp = df[cond].copy()\n",
    "            tmp[0] = tmp[\"millisSinceGpsEpoch\"] // 1000\n",
    "            tmp = tmp.merge(pd.DataFrame(range(tmp[0].min(), tmp[0].max() + 1)), on=[0], how=\"right\")\n",
    "            tmp_np = tmp[['latDeg', 'lngDeg']].to_numpy()\n",
    "            nan_idxs = tmp[tmp[\"millisSinceGpsEpoch\"].isnull()].index.to_list()\n",
    "            tmp_np = tmp_np.reshape(1, len(tmp_np), 2)\n",
    "            smoothed = self.kf.smooth(tmp_np).states.mean\n",
    "            smoothed = np.delete(smoothed, list(nan_idxs), 1)\n",
    "            df.loc[cond, 'latDeg' + suffix] = smoothed[0, :, 0]\n",
    "            df.loc[cond, 'lngDeg' + suffix] = smoothed[0, :, 1] \n",
    "\n",
    "def mean_with_other_phones(df):\n",
    "    \"\"\"\n",
    "    https://www.kaggle.com/bpetrb/adaptive-gauss-phone-mean\n",
    "    \"\"\"\n",
    "    collections_list = df[['collectionName']].drop_duplicates().to_numpy()\n",
    "\n",
    "    for collection in collections_list:\n",
    "        phone_list = df[df['collectionName'].to_list() == collection][['phoneName']].drop_duplicates().to_numpy()\n",
    "\n",
    "        phone_data = {}\n",
    "        corrections = {}\n",
    "        for phone in phone_list:\n",
    "            cond = np.logical_and(df['collectionName'] == collection[0], df['phoneName'] == phone[0]).to_list()\n",
    "            phone_data[phone[0]] = df[cond][['millisSinceGpsEpoch', 'latDeg', 'lngDeg']].to_numpy()\n",
    "\n",
    "        for current in phone_data:\n",
    "            correction = np.ones(phone_data[current].shape, dtype=np.float)\n",
    "            correction[:, 1:] = phone_data[current][:, 1:]\n",
    "\n",
    "            # Telephones data don't complitely match by time, so - interpolate.\n",
    "            for other in phone_data:\n",
    "                if other == current:\n",
    "                    continue\n",
    "\n",
    "                loc = interp1d(phone_data[other][:, 0],\n",
    "                               phone_data[other][:, 1:],\n",
    "                               axis=0,\n",
    "                               kind='linear',\n",
    "                               copy=False,\n",
    "                               bounds_error=None,\n",
    "                               fill_value='extrapolate',\n",
    "                               assume_sorted=True)\n",
    "\n",
    "                start_idx = 0\n",
    "                stop_idx = 0\n",
    "                for idx, val in enumerate(phone_data[current][:, 0]):\n",
    "                    if val < phone_data[other][0, 0]:\n",
    "                        start_idx = idx\n",
    "                    if val < phone_data[other][-1, 0]:\n",
    "                        stop_idx = idx\n",
    "\n",
    "                if stop_idx - start_idx > 0:\n",
    "                    correction[start_idx:stop_idx, 0] += 1\n",
    "                    correction[start_idx:stop_idx, 1:] += loc(phone_data[current][start_idx:stop_idx, 0])\n",
    "\n",
    "            correction[:, 1] /= correction[:, 0]\n",
    "            correction[:, 2] /= correction[:, 0]\n",
    "\n",
    "            corrections[current] = correction.copy()\n",
    "\n",
    "        for phone in phone_list:\n",
    "            cond = np.logical_and(df['collectionName'] == collection[0], df['phoneName'] == phone[0]).to_list()\n",
    "\n",
    "            df.loc[cond, ['latDeg', 'lngDeg']] = corrections[phone[0]][:, 1:]\n",
    "\n",
    "    return df"
   ]
  },
  {
   "cell_type": "code",
   "execution_count": 5,
   "id": "7629d411",
   "metadata": {
    "execution": {
     "iopub.execute_input": "2021-08-04T06:37:10.545044Z",
     "iopub.status.busy": "2021-08-04T06:37:10.544501Z",
     "iopub.status.idle": "2021-08-04T06:37:10.548379Z",
     "shell.execute_reply": "2021-08-04T06:37:10.547901Z",
     "shell.execute_reply.started": "2021-08-04T02:43:42.177966Z"
    },
    "papermill": {
     "duration": 0.059868,
     "end_time": "2021-08-04T06:37:10.548481",
     "exception": false,
     "start_time": "2021-08-04T06:37:10.488613",
     "status": "completed"
    },
    "tags": []
   },
   "outputs": [],
   "source": [
    "def parse_gnsslog(data_dir, output_dir):\n",
    "    header_of_table_named = {\n",
    "        \"UncalMag\":\n",
    "            \"utcTimeMillis,elapsedRealtimeNanos,UncalMagXMicroT,UncalMagYMicroT,UncalMagZMicroT\\n\",\n",
    "        \"UncalAccel\":\n",
    "            \"utcTimeMillis,elapsedRealtimeNanos,UncalAccelXMps2,UncalAccelYMps2,UncalAccelZMps2\\n\",\n",
    "        \"UncalGyro\":\n",
    "            \"utcTimeMillis,elapsedRealtimeNanos,UncalGyroXRadPerSec,UncalGyroYRadPerSec,UncalGyroZRadPerSec\\n\",\n",
    "        \"Status\":\n",
    "            \"UnixTimeMillis,SignalCount,SignalIndex,ConstellationType,Svid,CarrierFrequencyHz,Cn0DbHz,\"\n",
    "            \"AzimuthDegrees,ElevationDegrees,UsedInFix,HasAlmanacData,HasEphemerisData\\n\",\n",
    "        \"Raw\":\n",
    "            \"utcTimeMillis,TimeNanos,LeapSecond,TimeUncertaintyNanos,FullBiasNanos,BiasNanos,BiasUncertaintyNanos,\"\n",
    "            \"DriftNanosPerSecond,DriftUncertaintyNanosPerSecond,HardwareClockDiscontinuityCount,\"\n",
    "            \"Svid,TimeOffsetNanos,State,ReceivedSvTimeNanos,ReceivedSvTimeUncertaintyNanos,Cn0DbHz,\"\n",
    "            \"PseudorangeRateMetersPerSecond,PseudorangeRateUncertaintyMetersPerSecond,AccumulatedDeltaRangeState,\"\n",
    "            \"AccumulatedDeltaRangeMeters,AccumulatedDeltaRangeUncertaintyMeters,CarrierFrequencyHz,CarrierCycles,\"\n",
    "            \"CarrierPhase,CarrierPhaseUncertainty,MultipathIndicator,SnrInDb,ConstellationType,AgcDb\\n\",\n",
    "        \"Fix\":\n",
    "            \"Provider,LatitudeDegrees,LongitudeDegrees,AltitudeMeters,SpeedMps,AccuracyMeters,BearingDegrees,\"\n",
    "            \"UnixTimeMillis,SpeedAccuracyMps,BearingAccuracyDegrees\\n\"\n",
    "    }\n",
    "#     for part in [\"train\", \"test\"]:\n",
    "    for part in [\"test\"]:\n",
    "        print(part, \"gnsslog parsing ...\")\n",
    "        for file_name in Path(data_dir / part).rglob(\"*GnssLog.txt\"):\n",
    "            print(file_name)\n",
    "            with open(str(file_name)) as f_open:\n",
    "                datalines = f_open.readlines()\n",
    "            f_named = {}\n",
    "            for f_name in header_of_table_named.keys():\n",
    "                dir_pth = Path('/'.join(str(file_name.parent).split(\"/\")[-3:]))\n",
    "                Path(dir_pth.parent.parent).mkdir(exist_ok=True)\n",
    "                Path(dir_pth.parent).mkdir(exist_ok=True)\n",
    "                Path(dir_pth).mkdir(exist_ok=True)\n",
    "                output_filename = dir_pth / (f_name + \".csv\")\n",
    "                if not (output_filename).exists():\n",
    "                    f_named[f_name] = open(output_filename, \"w\")\n",
    "            if f_named:\n",
    "                collectionName = file_name.parent.parent.name\n",
    "                phoneName = file_name.parent.name\n",
    "                for f_name, f in f_named.items():\n",
    "                    f.write(\"collectionName,phoneName,\" + header_of_table_named[f_name])\n",
    "                for dataline in tqdm(datalines):\n",
    "                    for f_name in f_named.keys():\n",
    "                        if dataline.startswith(f_name):\n",
    "                            f_named[f_name].write(collectionName)\n",
    "                            f_named[f_name].write(',')\n",
    "                            f_named[f_name].write(phoneName)\n",
    "                            f_named[f_name].write(',')\n",
    "                            f_named[f_name].write(dataline[len(f_name) + 1:])\n",
    "                            break\n",
    "                for f in f_named.values():\n",
    "                    f.close()\n",
    "    print(\"finish\")"
   ]
  },
  {
   "cell_type": "code",
   "execution_count": 6,
   "id": "608d1d0e",
   "metadata": {
    "execution": {
     "iopub.execute_input": "2021-08-04T06:37:10.673475Z",
     "iopub.status.busy": "2021-08-04T06:37:10.657616Z",
     "iopub.status.idle": "2021-08-04T06:42:52.414889Z",
     "shell.execute_reply": "2021-08-04T06:42:52.415901Z",
     "shell.execute_reply.started": "2021-08-04T02:43:46.258183Z"
    },
    "papermill": {
     "duration": 341.822627,
     "end_time": "2021-08-04T06:42:52.416157",
     "exception": false,
     "start_time": "2021-08-04T06:37:10.593530",
     "status": "completed"
    },
    "tags": []
   },
   "outputs": [
    {
     "name": "stdout",
     "output_type": "stream",
     "text": [
      "test gnsslog parsing ...\n",
      "../input/google-smartphone-decimeter-challenge/test/2021-04-29-US-MTV-2/SamsungS20Ultra/SamsungS20Ultra_GnssLog.txt\n"
     ]
    },
    {
     "name": "stderr",
     "output_type": "stream",
     "text": [
      "100%|██████████| 812203/812203 [00:01<00:00, 505961.07it/s]\n"
     ]
    },
    {
     "name": "stdout",
     "output_type": "stream",
     "text": [
      "../input/google-smartphone-decimeter-challenge/test/2021-04-29-US-MTV-2/Pixel5/Pixel5_GnssLog.txt\n"
     ]
    },
    {
     "name": "stderr",
     "output_type": "stream",
     "text": [
      "100%|██████████| 691517/691517 [00:01<00:00, 487102.77it/s]\n"
     ]
    },
    {
     "name": "stdout",
     "output_type": "stream",
     "text": [
      "../input/google-smartphone-decimeter-challenge/test/2021-04-29-US-MTV-2/Pixel4/Pixel4_GnssLog.txt\n"
     ]
    },
    {
     "name": "stderr",
     "output_type": "stream",
     "text": [
      "100%|██████████| 715309/715309 [00:01<00:00, 441280.71it/s]\n"
     ]
    },
    {
     "name": "stdout",
     "output_type": "stream",
     "text": [
      "../input/google-smartphone-decimeter-challenge/test/2021-04-08-US-MTV-1/SamsungS20Ultra/SamsungS20Ultra_GnssLog.txt\n"
     ]
    },
    {
     "name": "stderr",
     "output_type": "stream",
     "text": [
      "100%|██████████| 509069/509069 [00:01<00:00, 488185.73it/s]\n"
     ]
    },
    {
     "name": "stdout",
     "output_type": "stream",
     "text": [
      "../input/google-smartphone-decimeter-challenge/test/2021-04-08-US-MTV-1/Pixel5/Pixel5_GnssLog.txt\n"
     ]
    },
    {
     "name": "stderr",
     "output_type": "stream",
     "text": [
      "100%|██████████| 544633/544633 [00:01<00:00, 347570.02it/s]\n"
     ]
    },
    {
     "name": "stdout",
     "output_type": "stream",
     "text": [
      "../input/google-smartphone-decimeter-challenge/test/2021-04-08-US-MTV-1/Pixel4/Pixel4_GnssLog.txt\n"
     ]
    },
    {
     "name": "stderr",
     "output_type": "stream",
     "text": [
      "100%|██████████| 429404/429404 [00:00<00:00, 490383.32it/s]\n"
     ]
    },
    {
     "name": "stdout",
     "output_type": "stream",
     "text": [
      "../input/google-smartphone-decimeter-challenge/test/2021-04-08-US-MTV-1/Pixel4Modded/Pixel4Modded_GnssLog.txt\n"
     ]
    },
    {
     "name": "stderr",
     "output_type": "stream",
     "text": [
      "100%|██████████| 423067/423067 [00:00<00:00, 458756.41it/s]\n"
     ]
    },
    {
     "name": "stdout",
     "output_type": "stream",
     "text": [
      "../input/google-smartphone-decimeter-challenge/test/2021-04-29-US-SJC-3/SamsungS20Ultra/SamsungS20Ultra_GnssLog.txt\n"
     ]
    },
    {
     "name": "stderr",
     "output_type": "stream",
     "text": [
      "100%|██████████| 944311/944311 [00:02<00:00, 468934.63it/s]\n"
     ]
    },
    {
     "name": "stdout",
     "output_type": "stream",
     "text": [
      "../input/google-smartphone-decimeter-challenge/test/2021-04-29-US-SJC-3/Pixel4/Pixel4_GnssLog.txt\n"
     ]
    },
    {
     "name": "stderr",
     "output_type": "stream",
     "text": [
      "100%|██████████| 870881/870881 [00:01<00:00, 460265.09it/s]\n"
     ]
    },
    {
     "name": "stdout",
     "output_type": "stream",
     "text": [
      "../input/google-smartphone-decimeter-challenge/test/2020-06-04-US-MTV-2/Pixel4XL/Pixel4XL_GnssLog.txt\n"
     ]
    },
    {
     "name": "stderr",
     "output_type": "stream",
     "text": [
      "100%|██████████| 1731330/1731330 [00:03<00:00, 442683.63it/s]\n"
     ]
    },
    {
     "name": "stdout",
     "output_type": "stream",
     "text": [
      "../input/google-smartphone-decimeter-challenge/test/2020-06-04-US-MTV-2/Pixel4XLModded/Pixel4XLModded_GnssLog.txt\n"
     ]
    },
    {
     "name": "stderr",
     "output_type": "stream",
     "text": [
      "100%|██████████| 1729443/1729443 [00:04<00:00, 401749.54it/s]\n"
     ]
    },
    {
     "name": "stdout",
     "output_type": "stream",
     "text": [
      "../input/google-smartphone-decimeter-challenge/test/2020-06-04-US-MTV-2/Pixel4/Pixel4_GnssLog.txt\n"
     ]
    },
    {
     "name": "stderr",
     "output_type": "stream",
     "text": [
      "100%|██████████| 1713350/1713350 [00:03<00:00, 438841.01it/s]\n"
     ]
    },
    {
     "name": "stdout",
     "output_type": "stream",
     "text": [
      "../input/google-smartphone-decimeter-challenge/test/2021-04-21-US-MTV-1/Pixel4/Pixel4_GnssLog.txt\n"
     ]
    },
    {
     "name": "stderr",
     "output_type": "stream",
     "text": [
      "100%|██████████| 663523/663523 [00:01<00:00, 411161.96it/s]\n"
     ]
    },
    {
     "name": "stdout",
     "output_type": "stream",
     "text": [
      "../input/google-smartphone-decimeter-challenge/test/2021-04-21-US-MTV-1/Pixel4Modded/Pixel4Modded_GnssLog.txt\n"
     ]
    },
    {
     "name": "stderr",
     "output_type": "stream",
     "text": [
      "100%|██████████| 639921/639921 [00:01<00:00, 489872.77it/s]\n"
     ]
    },
    {
     "name": "stdout",
     "output_type": "stream",
     "text": [
      "../input/google-smartphone-decimeter-challenge/test/2021-03-16-US-MTV-2/SamsungS20Ultra/SamsungS20Ultra_GnssLog.txt\n"
     ]
    },
    {
     "name": "stderr",
     "output_type": "stream",
     "text": [
      "100%|██████████| 1114149/1114149 [00:02<00:00, 497915.84it/s]\n"
     ]
    },
    {
     "name": "stdout",
     "output_type": "stream",
     "text": [
      "../input/google-smartphone-decimeter-challenge/test/2021-03-16-US-MTV-2/Pixel4Modded/Pixel4Modded_GnssLog.txt\n"
     ]
    },
    {
     "name": "stderr",
     "output_type": "stream",
     "text": [
      "100%|██████████| 839130/839130 [00:02<00:00, 391533.33it/s]\n"
     ]
    },
    {
     "name": "stdout",
     "output_type": "stream",
     "text": [
      "../input/google-smartphone-decimeter-challenge/test/2021-04-28-US-MTV-2/SamsungS20Ultra/SamsungS20Ultra_GnssLog.txt\n"
     ]
    },
    {
     "name": "stderr",
     "output_type": "stream",
     "text": [
      "100%|██████████| 823915/823915 [00:01<00:00, 433997.47it/s]\n"
     ]
    },
    {
     "name": "stdout",
     "output_type": "stream",
     "text": [
      "../input/google-smartphone-decimeter-challenge/test/2021-04-28-US-MTV-2/Pixel4/Pixel4_GnssLog.txt\n"
     ]
    },
    {
     "name": "stderr",
     "output_type": "stream",
     "text": [
      "100%|██████████| 778490/778490 [00:01<00:00, 492406.11it/s]\n"
     ]
    },
    {
     "name": "stdout",
     "output_type": "stream",
     "text": [
      "../input/google-smartphone-decimeter-challenge/test/2021-03-16-US-RWC-2/SamsungS20Ultra/SamsungS20Ultra_GnssLog.txt\n"
     ]
    },
    {
     "name": "stderr",
     "output_type": "stream",
     "text": [
      "100%|██████████| 924105/924105 [00:01<00:00, 505199.81it/s]\n"
     ]
    },
    {
     "name": "stdout",
     "output_type": "stream",
     "text": [
      "../input/google-smartphone-decimeter-challenge/test/2021-03-16-US-RWC-2/Pixel4XL/Pixel4XL_GnssLog.txt\n"
     ]
    },
    {
     "name": "stderr",
     "output_type": "stream",
     "text": [
      "100%|██████████| 829930/829930 [00:01<00:00, 455289.03it/s]\n"
     ]
    },
    {
     "name": "stdout",
     "output_type": "stream",
     "text": [
      "../input/google-smartphone-decimeter-challenge/test/2021-03-16-US-RWC-2/Pixel5/Pixel5_GnssLog.txt\n"
     ]
    },
    {
     "name": "stderr",
     "output_type": "stream",
     "text": [
      "100%|██████████| 908309/908309 [00:02<00:00, 427663.75it/s]\n"
     ]
    },
    {
     "name": "stdout",
     "output_type": "stream",
     "text": [
      "../input/google-smartphone-decimeter-challenge/test/2020-05-28-US-MTV-1/Pixel4XL/Pixel4XL_GnssLog.txt\n"
     ]
    },
    {
     "name": "stderr",
     "output_type": "stream",
     "text": [
      "100%|██████████| 865432/865432 [00:01<00:00, 470555.38it/s]\n"
     ]
    },
    {
     "name": "stdout",
     "output_type": "stream",
     "text": [
      "../input/google-smartphone-decimeter-challenge/test/2020-05-28-US-MTV-1/Pixel4/Pixel4_GnssLog.txt\n"
     ]
    },
    {
     "name": "stderr",
     "output_type": "stream",
     "text": [
      "100%|██████████| 809791/809791 [00:01<00:00, 461597.12it/s]\n"
     ]
    },
    {
     "name": "stdout",
     "output_type": "stream",
     "text": [
      "../input/google-smartphone-decimeter-challenge/test/2021-04-26-US-SVL-2/SamsungS20Ultra/SamsungS20Ultra_GnssLog.txt\n"
     ]
    },
    {
     "name": "stderr",
     "output_type": "stream",
     "text": [
      "100%|██████████| 1066798/1066798 [00:02<00:00, 440242.16it/s]\n"
     ]
    },
    {
     "name": "stdout",
     "output_type": "stream",
     "text": [
      "../input/google-smartphone-decimeter-challenge/test/2020-08-03-US-MTV-2/Pixel4XL/Pixel4XL_GnssLog.txt\n"
     ]
    },
    {
     "name": "stderr",
     "output_type": "stream",
     "text": [
      "100%|██████████| 128435/128435 [00:00<00:00, 384004.02it/s]\n"
     ]
    },
    {
     "name": "stdout",
     "output_type": "stream",
     "text": [
      "../input/google-smartphone-decimeter-challenge/test/2020-08-03-US-MTV-2/Mi8/Mi8_GnssLog.txt\n"
     ]
    },
    {
     "name": "stderr",
     "output_type": "stream",
     "text": [
      "100%|██████████| 78163/78163 [00:00<00:00, 348921.20it/s]\n"
     ]
    },
    {
     "name": "stdout",
     "output_type": "stream",
     "text": [
      "../input/google-smartphone-decimeter-challenge/test/2020-08-03-US-MTV-2/Pixel4/Pixel4_GnssLog.txt\n"
     ]
    },
    {
     "name": "stderr",
     "output_type": "stream",
     "text": [
      "100%|██████████| 134920/134920 [00:00<00:00, 390502.21it/s]\n"
     ]
    },
    {
     "name": "stdout",
     "output_type": "stream",
     "text": [
      "../input/google-smartphone-decimeter-challenge/test/2020-08-13-US-MTV-1/Mi8/Mi8_GnssLog.txt\n"
     ]
    },
    {
     "name": "stderr",
     "output_type": "stream",
     "text": [
      "100%|██████████| 103747/103747 [00:00<00:00, 363602.26it/s]\n"
     ]
    },
    {
     "name": "stdout",
     "output_type": "stream",
     "text": [
      "../input/google-smartphone-decimeter-challenge/test/2020-08-13-US-MTV-1/Pixel4/Pixel4_GnssLog.txt\n"
     ]
    },
    {
     "name": "stderr",
     "output_type": "stream",
     "text": [
      "100%|██████████| 131375/131375 [00:00<00:00, 375196.74it/s]\n"
     ]
    },
    {
     "name": "stdout",
     "output_type": "stream",
     "text": [
      "../input/google-smartphone-decimeter-challenge/test/2021-03-25-US-PAO-1/SamsungS20Ultra/SamsungS20Ultra_GnssLog.txt\n"
     ]
    },
    {
     "name": "stderr",
     "output_type": "stream",
     "text": [
      "100%|██████████| 815897/815897 [00:01<00:00, 469551.32it/s]\n"
     ]
    },
    {
     "name": "stdout",
     "output_type": "stream",
     "text": [
      "../input/google-smartphone-decimeter-challenge/test/2021-03-25-US-PAO-1/Pixel5/Pixel5_GnssLog.txt\n"
     ]
    },
    {
     "name": "stderr",
     "output_type": "stream",
     "text": [
      "100%|██████████| 738766/738766 [00:01<00:00, 458408.86it/s]\n"
     ]
    },
    {
     "name": "stdout",
     "output_type": "stream",
     "text": [
      "../input/google-smartphone-decimeter-challenge/test/2021-03-25-US-PAO-1/Mi8/Mi8_GnssLog.txt\n"
     ]
    },
    {
     "name": "stderr",
     "output_type": "stream",
     "text": [
      "100%|██████████| 199886/199886 [00:00<00:00, 357784.12it/s]\n"
     ]
    },
    {
     "name": "stdout",
     "output_type": "stream",
     "text": [
      "../input/google-smartphone-decimeter-challenge/test/2021-03-25-US-PAO-1/Pixel4/Pixel4_GnssLog.txt\n"
     ]
    },
    {
     "name": "stderr",
     "output_type": "stream",
     "text": [
      "100%|██████████| 740563/740563 [00:01<00:00, 452140.75it/s]\n"
     ]
    },
    {
     "name": "stdout",
     "output_type": "stream",
     "text": [
      "../input/google-smartphone-decimeter-challenge/test/2021-03-25-US-PAO-1/Pixel4Modded/Pixel4Modded_GnssLog.txt\n"
     ]
    },
    {
     "name": "stderr",
     "output_type": "stream",
     "text": [
      "100%|██████████| 761436/761436 [00:02<00:00, 343247.30it/s]\n"
     ]
    },
    {
     "name": "stdout",
     "output_type": "stream",
     "text": [
      "../input/google-smartphone-decimeter-challenge/test/2020-06-10-US-MTV-1/Pixel4XL/Pixel4XL_GnssLog.txt\n"
     ]
    },
    {
     "name": "stderr",
     "output_type": "stream",
     "text": [
      "100%|██████████| 1667471/1667471 [00:04<00:00, 394735.33it/s]\n"
     ]
    },
    {
     "name": "stdout",
     "output_type": "stream",
     "text": [
      "../input/google-smartphone-decimeter-challenge/test/2020-06-10-US-MTV-1/Pixel4XLModded/Pixel4XLModded_GnssLog.txt\n"
     ]
    },
    {
     "name": "stderr",
     "output_type": "stream",
     "text": [
      "100%|██████████| 1682145/1682145 [00:03<00:00, 433694.02it/s]\n"
     ]
    },
    {
     "name": "stdout",
     "output_type": "stream",
     "text": [
      "../input/google-smartphone-decimeter-challenge/test/2020-06-10-US-MTV-1/Pixel4/Pixel4_GnssLog.txt\n"
     ]
    },
    {
     "name": "stderr",
     "output_type": "stream",
     "text": [
      "100%|██████████| 1652847/1652847 [00:03<00:00, 414467.54it/s]\n"
     ]
    },
    {
     "name": "stdout",
     "output_type": "stream",
     "text": [
      "../input/google-smartphone-decimeter-challenge/test/2020-06-10-US-MTV-2/Pixel4XL/Pixel4XL_GnssLog.txt\n"
     ]
    },
    {
     "name": "stderr",
     "output_type": "stream",
     "text": [
      "100%|██████████| 1814986/1814986 [00:04<00:00, 450911.95it/s]\n"
     ]
    },
    {
     "name": "stdout",
     "output_type": "stream",
     "text": [
      "../input/google-smartphone-decimeter-challenge/test/2020-06-10-US-MTV-2/Pixel4XLModded/Pixel4XLModded_GnssLog.txt\n"
     ]
    },
    {
     "name": "stderr",
     "output_type": "stream",
     "text": [
      "100%|██████████| 1800427/1800427 [00:04<00:00, 363531.16it/s]\n"
     ]
    },
    {
     "name": "stdout",
     "output_type": "stream",
     "text": [
      "../input/google-smartphone-decimeter-challenge/test/2020-06-10-US-MTV-2/Pixel4/Pixel4_GnssLog.txt\n"
     ]
    },
    {
     "name": "stderr",
     "output_type": "stream",
     "text": [
      "100%|██████████| 1801945/1801945 [00:03<00:00, 468902.65it/s]\n"
     ]
    },
    {
     "name": "stdout",
     "output_type": "stream",
     "text": [
      "../input/google-smartphone-decimeter-challenge/test/2021-04-02-US-SJC-1/Pixel5/Pixel5_GnssLog.txt\n"
     ]
    },
    {
     "name": "stderr",
     "output_type": "stream",
     "text": [
      "100%|██████████| 1058859/1058859 [00:02<00:00, 485612.20it/s]\n"
     ]
    },
    {
     "name": "stdout",
     "output_type": "stream",
     "text": [
      "../input/google-smartphone-decimeter-challenge/test/2021-04-02-US-SJC-1/Pixel4/Pixel4_GnssLog.txt\n"
     ]
    },
    {
     "name": "stderr",
     "output_type": "stream",
     "text": [
      "100%|██████████| 1007891/1007891 [00:02<00:00, 454450.26it/s]\n"
     ]
    },
    {
     "name": "stdout",
     "output_type": "stream",
     "text": [
      "../input/google-smartphone-decimeter-challenge/test/2020-05-28-US-MTV-2/Pixel4XL/Pixel4XL_GnssLog.txt\n"
     ]
    },
    {
     "name": "stderr",
     "output_type": "stream",
     "text": [
      "100%|██████████| 839329/839329 [00:01<00:00, 469949.73it/s]\n"
     ]
    },
    {
     "name": "stdout",
     "output_type": "stream",
     "text": [
      "../input/google-smartphone-decimeter-challenge/test/2020-05-28-US-MTV-2/Pixel4XLModded/Pixel4XLModded_GnssLog.txt\n"
     ]
    },
    {
     "name": "stderr",
     "output_type": "stream",
     "text": [
      "100%|██████████| 534485/534485 [00:01<00:00, 461951.53it/s]\n"
     ]
    },
    {
     "name": "stdout",
     "output_type": "stream",
     "text": [
      "../input/google-smartphone-decimeter-challenge/test/2020-05-28-US-MTV-2/Pixel4/Pixel4_GnssLog.txt\n"
     ]
    },
    {
     "name": "stderr",
     "output_type": "stream",
     "text": [
      "100%|██████████| 846122/846122 [00:01<00:00, 469146.12it/s]\n"
     ]
    },
    {
     "name": "stdout",
     "output_type": "stream",
     "text": [
      "../input/google-smartphone-decimeter-challenge/test/2020-05-15-US-MTV-1/Pixel4XL/Pixel4XL_GnssLog.txt\n"
     ]
    },
    {
     "name": "stderr",
     "output_type": "stream",
     "text": [
      "100%|██████████| 3462080/3462080 [00:09<00:00, 372754.32it/s]\n"
     ]
    },
    {
     "name": "stdout",
     "output_type": "stream",
     "text": [
      "../input/google-smartphone-decimeter-challenge/test/2020-05-15-US-MTV-1/Pixel4/Pixel4_GnssLog.txt\n"
     ]
    },
    {
     "name": "stderr",
     "output_type": "stream",
     "text": [
      "100%|██████████| 3347537/3347537 [00:08<00:00, 397275.05it/s]\n"
     ]
    },
    {
     "name": "stdout",
     "output_type": "stream",
     "text": [
      "../input/google-smartphone-decimeter-challenge/test/2021-04-22-US-SJC-2/SamsungS20Ultra/SamsungS20Ultra_GnssLog.txt\n"
     ]
    },
    {
     "name": "stderr",
     "output_type": "stream",
     "text": [
      "100%|██████████| 1060059/1060059 [00:02<00:00, 450850.51it/s]\n"
     ]
    },
    {
     "name": "stdout",
     "output_type": "stream",
     "text": [
      "finish\n"
     ]
    },
    {
     "name": "stderr",
     "output_type": "stream",
     "text": [
      "0it [00:00, ?it/s]"
     ]
    },
    {
     "name": "stdout",
     "output_type": "stream",
     "text": [
      "Reading *_derived.csv from ../input/google-smartphone-decimeter-challenge/test ...\n"
     ]
    },
    {
     "name": "stderr",
     "output_type": "stream",
     "text": [
      "48it [00:12,  3.90it/s]\n",
      "0it [00:00, ?it/s]"
     ]
    },
    {
     "name": "stdout",
     "output_type": "stream",
     "text": [
      "Reading Raw.csv from test ...\n"
     ]
    },
    {
     "name": "stderr",
     "output_type": "stream",
     "text": [
      "48it [00:16,  2.98it/s]\n",
      "0it [00:00, ?it/s]"
     ]
    },
    {
     "name": "stdout",
     "output_type": "stream",
     "text": [
      "Reading UncalGyro.csv from test ...\n"
     ]
    },
    {
     "name": "stderr",
     "output_type": "stream",
     "text": [
      "48it [00:19,  2.50it/s]\n",
      "0it [00:00, ?it/s]"
     ]
    },
    {
     "name": "stdout",
     "output_type": "stream",
     "text": [
      "Reading UncalMag.csv from test ...\n"
     ]
    },
    {
     "name": "stderr",
     "output_type": "stream",
     "text": [
      "48it [00:10,  4.63it/s]\n",
      "0it [00:00, ?it/s]"
     ]
    },
    {
     "name": "stdout",
     "output_type": "stream",
     "text": [
      "Reading UncalAccel.csv from test ...\n"
     ]
    },
    {
     "name": "stderr",
     "output_type": "stream",
     "text": [
      "48it [00:19,  2.52it/s]\n",
      "100%|██████████| 48/48 [00:45<00:00,  1.06it/s]\n"
     ]
    }
   ],
   "source": [
    "DATA_DIR = Path(\"../input/google-smartphone-decimeter-challenge\")\n",
    "OUTPUT_DIR = Path(\"./\")\n",
    "\n",
    "# 读取\n",
    "# gt_data = get_union(DATA_DIR / \"train\", \"ground_truth.csv\")\n",
    "# train_data = pd.read_csv(DATA_DIR / \"baseline_locations_train.csv\")\n",
    "test_data = pd.read_csv(DATA_DIR / \"baseline_locations_test.csv\")\n",
    "\n",
    "parse_gnsslog(DATA_DIR, OUTPUT_DIR)\n",
    "\n",
    "# 手机类别\n",
    "idx_of_phonename = {phoneName: idx for idx, phoneName in enumerate(test_data.phoneName.drop_duplicates().to_list())}\n",
    "test_data[\"phoneCat\"] = test_data[\"phoneName\"].map(idx_of_phonename)\n",
    "\n",
    "\n",
    "def data_processing(data):\n",
    "    # 时间周期性特征\n",
    "    data[[\"month\", \"day\"]] = data['collectionName'].str.split('-', expand=True)[[1, 2]]\n",
    "    data[\"ratio_of_year\"] = (30 * (data.month.astype(int) - 1) + data.day.astype(int)) / 365\n",
    "\n",
    "    # 相对于相邻帧平均值的差值的绝对值\n",
    "    offsets = [1, 2, 3, 4, 5]\n",
    "    groups = data[[\"phone\", \"latDeg\", \"lngDeg\"]].groupby(\"phone\")\n",
    "    for offset in offsets:\n",
    "        data[[\"mean_latDeg+-\" + str(offset), \"mean_lngDeg+-\" + str(offset)]] = \\\n",
    "            groups.rolling(window=3, min_periods=2, center=True).mean().values\n",
    "        data[\"latDeg_mean_delta_\" + str(offset)] = np.abs(data[\"mean_latDeg+-\" + str(offset)] - data[\"latDeg\"])\n",
    "        data[\"lngDeg_mean_delta_\" + str(offset)] = np.abs(data[\"mean_lngDeg+-\" + str(offset)] - data[\"lngDeg\"])\n",
    "\n",
    "    # 添加前后差值特征\n",
    "    data[[\"latDeg-1\", \"lngDeg-1\"]] = groups.shift(1)\n",
    "    data[[\"latDeg+1\", \"lngDeg+1\"]] = groups.shift(-1)\n",
    "    data[\"latDeg_pre_increment\"] = data[\"latDeg\"] - data[\"latDeg-1\"]\n",
    "    data[\"lngDeg_pre_increment\"] = data[\"lngDeg\"] - data[\"lngDeg-1\"]\n",
    "    data[\"latDeg_post_increment\"] = data[\"latDeg+1\"] - data[\"latDeg\"]\n",
    "    data[\"lngDeg_post_increment\"] = data[\"lngDeg+1\"] - data[\"lngDeg\"]\n",
    "    data[\"dist_pre\"] = calc_haversine(data[\"latDeg\"], data[\"lngDeg\"], data[\"latDeg-1\"], data[\"lngDeg-1\"])\n",
    "    data[\"dist_post\"] = calc_haversine(data[\"latDeg\"], data[\"lngDeg\"], data[\"latDeg+1\"], data[\"lngDeg+1\"])\n",
    "\n",
    "    # 没有前一帧，用后一帧来代替\n",
    "    nan_idxs = data[data.latDeg_pre_increment.isnull()].index\n",
    "    data.loc[nan_idxs, [\"latDeg_pre_increment\", \"lngDeg_pre_increment\", \"dist_pre\"]] = \\\n",
    "        data.loc[nan_idxs + 1, [\"latDeg_pre_increment\", \"lngDeg_pre_increment\", \"dist_pre\"]].values\n",
    "    nan_idxs = data[data.latDeg_post_increment.isnull()].index\n",
    "    data.loc[nan_idxs, [\"latDeg_post_increment\", \"lngDeg_post_increment\", \"dist_post\"]] = \\\n",
    "        data.loc[nan_idxs - 1, [\"latDeg_post_increment\", \"lngDeg_post_increment\", \"dist_post\"]].values\n",
    "\n",
    "    # 添加前后差值绝对均值特征\n",
    "    data[\"latDeg_pre_post_mean_abs_delta\"] = (np.abs(data[\"latDeg_pre_increment\"]) +\n",
    "                                              np.abs(data[\"latDeg_post_increment\"])) / 2\n",
    "    data[\"lngDeg_pre_post_mean_abs_delta\"] = (np.abs(data[\"lngDeg_pre_increment\"]) +\n",
    "                                              np.abs(data[\"lngDeg_post_increment\"])) / 2\n",
    "    data[\"pre_post_mean_abs_dist\"] = (np.abs(data[\"dist_pre\"]) + np.abs(data[\"dist_post\"])) / 2\n",
    "\n",
    "    # 同一时间不同设备的统计数值\n",
    "    col_names = [\"latDeg\", \"lngDeg\", \"heightAboveWgs84EllipsoidM\"]\n",
    "    fn_names = [\"max\", \"min\", \"mean\", \"sum\", \"count\"]\n",
    "    groups = data.groupby(\"millisSinceGpsEpoch\")\n",
    "    for fn_name_ in fn_names:\n",
    "        data[[fn_name_ + '_' + col_name + \"_with_same_millisSinceGpsEpoch\" for col_name in col_names]] = \\\n",
    "            groups[col_names].transform(fn_name_).values\n",
    "\n",
    "    # 与同时间所有手机位置均值的距离\n",
    "    data[\"dist_between_baseline_and_phone_mean\"] = calc_haversine(data.latDeg, data.lngDeg,\n",
    "                                                                  data.mean_latDeg_with_same_millisSinceGpsEpoch,\n",
    "                                                                  data.mean_lngDeg_with_same_millisSinceGpsEpoch)\n",
    "\n",
    "data_processing(test_data)\n",
    "test_derived_data = get_union(DATA_DIR / \"test\", \"*_derived.csv\")\n",
    "\n",
    "def derived_data_processing(derived_data, data):\n",
    "    # 添加correctedPrm特征\n",
    "    derived_data[\"correctedPrm\"] = derived_data[\"rawPrM\"] + derived_data[\"satClkBiasM\"] - \\\n",
    "                                   derived_data[\"isrbM\"] - derived_data[\"ionoDelayM\"] - \\\n",
    "                                   derived_data[\"tropoDelayM\"]\n",
    "\n",
    "    # 信号类型与卫星id\n",
    "    derived_data[\"signalType_svid\"] = derived_data[\"signalType\"] + '_' + derived_data[\"svid\"].astype(\"string\")\n",
    "\n",
    "    # 时间对齐\n",
    "    data[\"millisSinceGpsEpoch/1000_round\"] = np.round(data[\"millisSinceGpsEpoch\"] / 1000).astype(np.int64)\n",
    "    derived_data[\"millisSinceGpsEpoch/1000_round\"] = np.round(derived_data[\"millisSinceGpsEpoch\"] / 1000).astype(\n",
    "        np.int64)\n",
    "\n",
    "    # data和derived_data合并\n",
    "    groups = derived_data.groupby([\"collectionName\", \"phoneName\", \"millisSinceGpsEpoch/1000_round\"])\n",
    "    data = data.merge(\n",
    "        groups[\"signalType_svid\"].agg(lambda group: group.values),\n",
    "        on=[\"collectionName\", \"phoneName\", \"millisSinceGpsEpoch/1000_round\"], how=\"left\"\n",
    "    )\n",
    "    data = data.merge(\n",
    "        groups[[\"correctedPrm\", \"rawPrUncM\", \"satClkDriftMps\"]].mean().rename(columns={\n",
    "            \"correctedPrm\": \"correctedPrm_avg\",\n",
    "            \"rawPrUncM\": \"rawPrUncM_avg\",\n",
    "            \"satClkDriftMps\": \"satClkDriftMps_avg\"\n",
    "        }),\n",
    "        on=[\"collectionName\", \"phoneName\", \"millisSinceGpsEpoch/1000_round\"], how=\"left\"\n",
    "    )\n",
    "    data = data.merge(\n",
    "        groups[[\"correctedPrm\", \"rawPrUncM\", \"satClkDriftMps\"]].std().rename(columns={\n",
    "            \"correctedPrm\": \"correctedPrm_std\",\n",
    "            \"rawPrUncM\": \"rawPrUncM_std\",\n",
    "            \"satClkDriftMps\": \"satClkDriftMps_std\"\n",
    "        }),\n",
    "        on=[\"collectionName\", \"phoneName\", \"millisSinceGpsEpoch/1000_round\"], how=\"left\"\n",
    "    )\n",
    "\n",
    "    return data\n",
    "\n",
    "\n",
    "test_data = derived_data_processing(test_derived_data, test_data)\n",
    "del test_derived_data\n",
    "gc.collect()\n",
    "\n",
    "# 分桶去null\n",
    "train_data = pd.read_csv('../input/bucket-traindata/train_data.csv')\n",
    "num_buckets = 20\n",
    "attr_names = [\"correctedPrm\", \"rawPrUncM\", \"satClkDriftMps\"]\n",
    "concat_data = pd.concat([train_data, test_data])\n",
    "# concat_data = test_data\n",
    "for fn_name in [\"avg\", \"std\"]:\n",
    "    for attr_name in attr_names:\n",
    "        concat_data[attr_name + '_' + fn_name + \"_bucketized\"] = pd.qcut(concat_data[attr_name + '_' + fn_name],\n",
    "                                                                  num_buckets, labels=False)\n",
    "        concat_data.loc[concat_data[attr_name + '_' + fn_name + \"_bucketized\"].isnull(),\n",
    "                 attr_name + '_' + fn_name + \"_bucketized\"] = num_buckets\n",
    "        concat_data[attr_name + '_' + fn_name + \"_bucketized\"] = \\\n",
    "            concat_data[attr_name + '_' + fn_name + \"_bucketized\"].astype(np.int64)\n",
    "        test_data[attr_name + '_' + fn_name + \"_bucketized\"] = \\\n",
    "            concat_data[-len(test_data):][attr_name + '_' + fn_name + \"_bucketized\"]\n",
    "\n",
    "\n",
    "test_raw_data = get_union(OUTPUT_DIR / \"test\", \"Raw.csv\")\n",
    "\n",
    "\n",
    "def raw_data_processing(raw_data, data):\n",
    "    raw_data[\"millisSinceGpsEpoch\"] = np.round((raw_data.TimeNanos - raw_data.FullBiasNanos) / 1000000).\\\n",
    "        astype(np.int64)\n",
    "    raw_data[\"millisSinceGpsEpoch/1000_round\"] = np.round(raw_data[\"millisSinceGpsEpoch\"] / 1000).astype(np.int64)\n",
    "    groups = raw_data.groupby([\"collectionName\", \"phoneName\", \"millisSinceGpsEpoch/1000_round\"])\n",
    "    data = data.merge(\n",
    "        groups[[\"Cn0DbHz\", \"BiasUncertaintyNanos\"]].mean().rename(columns={\n",
    "            \"Cn0DbHz\": \"Cn0DbHz_avg\",\n",
    "            \"BiasUncertaintyNanos\": \"BiasUncertaintyNanos_avg\",\n",
    "        }),\n",
    "        on=[\"collectionName\", \"phoneName\", \"millisSinceGpsEpoch/1000_round\"], how=\"left\"\n",
    "    )\n",
    "    data = data.merge(\n",
    "        groups[[\"Cn0DbHz\", \"BiasUncertaintyNanos\"]].std().rename(columns={\n",
    "            \"Cn0DbHz\": \"Cn0DbHz_std\",\n",
    "            \"BiasUncertaintyNanos\": \"BiasUncertaintyNanos_std\",\n",
    "        }),\n",
    "        on=[\"collectionName\", \"phoneName\", \"millisSinceGpsEpoch/1000_round\"], how=\"left\"\n",
    "    )\n",
    "    data = data.merge(\n",
    "        groups[\"utcTimeMillis\"].first(),\n",
    "        on=[\"collectionName\", \"phoneName\", \"millisSinceGpsEpoch/1000_round\"], how=\"left\"\n",
    "    )\n",
    "    return data\n",
    "\n",
    "\n",
    "test_data = raw_data_processing(test_raw_data, test_data)\n",
    "del test_raw_data\n",
    "gc.collect()\n",
    "\n",
    "test_gyro_data = get_union(OUTPUT_DIR / \"test\", \"UncalGyro.csv\")\n",
    "test_mag_data = get_union(OUTPUT_DIR / \"test\", \"UncalMag.csv\")\n",
    "test_accel_data = get_union(OUTPUT_DIR / \"test\", \"UncalAccel.csv\")\n",
    "\n",
    "def sensor_data_processing(gyro_data, mag_data, accel_data, data):\n",
    "    data[\"utcTimeMillis/1000_round\"] = np.round(data.utcTimeMillis / 1000).astype(np.int64)\n",
    "    axises = ['X', 'Y', 'Z']\n",
    "    prefix_suffix_df_dicts = [\n",
    "        {\"prefix\": \"UncalAccel\", \"suffix\": \"Mps2\", \"sensor_data\": accel_data},\n",
    "        {\"prefix\": \"UncalGyro\", \"suffix\": \"RadPerSec\", \"sensor_data\": gyro_data},\n",
    "        {\"prefix\": \"UncalMag\", \"suffix\": \"MicroT\", \"sensor_data\": mag_data}\n",
    "    ]\n",
    "    for prefix_suffix_df_dict in prefix_suffix_df_dicts:\n",
    "        prefix = prefix_suffix_df_dict[\"prefix\"]\n",
    "        suffix = prefix_suffix_df_dict[\"suffix\"]\n",
    "        sensor_data = prefix_suffix_df_dict[\"sensor_data\"]\n",
    "        sensor_data[\"utcTimeMillis\"] = sensor_data.utcTimeMillis.astype(np.int64)\n",
    "        sensor_data[\"utcTimeMillis/1000_round\"] = np.round(sensor_data.utcTimeMillis / 1000).astype(np.int64)\n",
    "        groups = sensor_data.groupby([\"collectionName\", \"phoneName\", \"utcTimeMillis/1000_round\"])\n",
    "        data = data.merge(groups[[prefix + axis + suffix for axis in axises]].mean().rename(columns={\n",
    "            prefix + axis + suffix: prefix + axis + suffix + \"_avg\" for axis in axises\n",
    "        }), on=[\"collectionName\", \"phoneName\", \"utcTimeMillis/1000_round\"], how=\"left\")\n",
    "        data = data.merge(groups[[prefix + axis + suffix for axis in axises]].std().rename(columns={\n",
    "            prefix + axis + suffix: prefix + axis + suffix + \"_std\" for axis in axises\n",
    "        }), on=[\"collectionName\", \"phoneName\", \"utcTimeMillis/1000_round\"], how=\"left\")\n",
    "\n",
    "    col_names = [\n",
    "        \"UncalAccelXMps2_avg\",\n",
    "        \"UncalAccelYMps2_avg\",\n",
    "        \"UncalAccelZMps2_avg\",\n",
    "        \"UncalAccelXMps2_std\",\n",
    "        \"UncalAccelYMps2_std\",\n",
    "        \"UncalAccelZMps2_std\",\n",
    "        \"UncalGyroXRadPerSec_avg\",\n",
    "        \"UncalGyroYRadPerSec_avg\",\n",
    "        \"UncalGyroZRadPerSec_avg\",\n",
    "        \"UncalGyroXRadPerSec_std\",\n",
    "        \"UncalGyroYRadPerSec_std\",\n",
    "        \"UncalGyroZRadPerSec_std\",\n",
    "        \"UncalMagXMicroT_avg\",\n",
    "        \"UncalMagYMicroT_avg\",\n",
    "        \"UncalMagZMicroT_avg\",\n",
    "        \"UncalMagXMicroT_std\",\n",
    "        \"UncalMagYMicroT_std\",\n",
    "        \"UncalMagZMicroT_std\"\n",
    "    ]\n",
    "    groups = data.groupby([\"collectionName\", \"phoneName\"])\n",
    "    data[[col_name + \"+1\" for col_name in col_names]] = groups[col_names].shift(-1)\n",
    "\n",
    "    nan_idxs = data[data[\"UncalAccelXMps2_avg+1\"].isnull()].index\n",
    "    data.loc[nan_idxs, [col_name + \"+1\" for col_name in col_names]] = data.loc[nan_idxs, col_names].values\n",
    "\n",
    "    data[\"ratio\"] = (data[\"utcTimeMillis\"] % 1000) / 1000\n",
    "    data[col_names] = data[col_names].values * (1 - data[\"ratio\"]).values.reshape(-1, 1) + \\\n",
    "        data[[col_name + \"+1\" for col_name in col_names]].values * data[\"ratio\"].values.reshape(-1, 1)\n",
    "\n",
    "    return data\n",
    "\n",
    "test_data = sensor_data_processing(test_gyro_data, test_mag_data, test_accel_data, test_data)\n",
    "del test_gyro_data\n",
    "del test_mag_data\n",
    "del test_accel_data\n",
    "gc.collect()\n",
    "\n",
    "\n",
    "# 卡尔曼相关特征\n",
    "kf = KF()\n",
    "kf.apply_kf_smoothing(test_data, suffix=\"_kf\")\n",
    "\n",
    "def add_kf_features(data):\n",
    "    data[\"dist_between_base_and_kf\"] = calc_haversine(data.latDeg, data.lngDeg, data.latDeg_kf, data.lngDeg_kf)\n",
    "    data[\"base_kf_lat_delta\"] = data[\"latDeg\"] - data[\"latDeg_kf\"]\n",
    "    data[\"base_kf_lng_delta\"] = data[\"lngDeg\"] - data[\"lngDeg_kf\"]\n",
    "    data[\"abs_base_kf_lng_delta\"] = abs(data[\"lngDeg\"] - data[\"lngDeg_kf\"])\n",
    "    data[\"abs_base_kf_lat_delta\"] = abs(data[\"latDeg\"] - data[\"latDeg_kf\"])\n",
    "\n",
    "add_kf_features(test_data)\n",
    "\n",
    "# 缺失值均值填充\n",
    "col_names_ = [\n",
    "    \"UncalAccelXMps2_avg\",\n",
    "    \"UncalAccelYMps2_avg\",\n",
    "    \"UncalAccelZMps2_avg\",\n",
    "    \"UncalAccelXMps2_std\",\n",
    "    \"UncalAccelYMps2_std\",\n",
    "    \"UncalAccelZMps2_std\",\n",
    "    \"UncalGyroXRadPerSec_avg\",\n",
    "    \"UncalGyroYRadPerSec_avg\",\n",
    "    \"UncalGyroZRadPerSec_avg\",\n",
    "    \"UncalGyroXRadPerSec_std\",\n",
    "    \"UncalGyroYRadPerSec_std\",\n",
    "    \"UncalGyroZRadPerSec_std\",\n",
    "    \"UncalMagXMicroT_avg\",\n",
    "    \"UncalMagYMicroT_avg\",\n",
    "    \"UncalMagZMicroT_avg\",\n",
    "    \"UncalMagXMicroT_std\",\n",
    "    \"UncalMagYMicroT_std\",\n",
    "    \"UncalMagZMicroT_std\"\n",
    "]\n",
    "\n",
    "test_data[col_names_] = test_data[col_names_].fillna(test_data[col_names_].mean())\n",
    "\n"
   ]
  },
  {
   "cell_type": "code",
   "execution_count": 7,
   "id": "707043fe",
   "metadata": {
    "execution": {
     "iopub.execute_input": "2021-08-04T06:42:53.327167Z",
     "iopub.status.busy": "2021-08-04T06:42:53.326273Z",
     "iopub.status.idle": "2021-08-04T06:42:53.328532Z",
     "shell.execute_reply": "2021-08-04T06:42:53.328915Z",
     "shell.execute_reply.started": "2021-08-04T02:49:22.520177Z"
    },
    "papermill": {
     "duration": 0.43443,
     "end_time": "2021-08-04T06:42:53.329056",
     "exception": false,
     "start_time": "2021-08-04T06:42:52.894626",
     "status": "completed"
    },
    "tags": []
   },
   "outputs": [],
   "source": [
    "check_random()"
   ]
  },
  {
   "cell_type": "code",
   "execution_count": 8,
   "id": "c73dcac5",
   "metadata": {
    "execution": {
     "iopub.execute_input": "2021-08-04T06:42:54.181770Z",
     "iopub.status.busy": "2021-08-04T06:42:54.181042Z",
     "iopub.status.idle": "2021-08-04T06:42:54.184542Z",
     "shell.execute_reply": "2021-08-04T06:42:54.184068Z",
     "shell.execute_reply.started": "2021-08-04T01:27:52.974003Z"
    },
    "papermill": {
     "duration": 0.43161,
     "end_time": "2021-08-04T06:42:54.184656",
     "exception": false,
     "start_time": "2021-08-04T06:42:53.753046",
     "status": "completed"
    },
    "tags": []
   },
   "outputs": [],
   "source": [
    "# test_data"
   ]
  },
  {
   "cell_type": "code",
   "execution_count": 9,
   "id": "9642c8cf",
   "metadata": {
    "execution": {
     "iopub.execute_input": "2021-08-04T06:42:55.057385Z",
     "iopub.status.busy": "2021-08-04T06:42:55.055716Z",
     "iopub.status.idle": "2021-08-04T06:42:55.058005Z",
     "shell.execute_reply": "2021-08-04T06:42:55.058423Z",
     "shell.execute_reply.started": "2021-08-04T02:49:22.531922Z"
    },
    "papermill": {
     "duration": 0.439943,
     "end_time": "2021-08-04T06:42:55.058556",
     "exception": false,
     "start_time": "2021-08-04T06:42:54.618613",
     "status": "completed"
    },
    "tags": []
   },
   "outputs": [],
   "source": [
    "cat_cols = [\n",
    "    'correctedPrm_avg_bucketized',\n",
    "    'rawPrUncM_avg_bucketized',\n",
    "    'satClkDriftMps_avg_bucketized',\n",
    "    'correctedPrm_std_bucketized',\n",
    "    'rawPrUncM_std_bucketized',\n",
    "    'satClkDriftMps_std_bucketized',\n",
    "    \"phoneCat\"\n",
    "]\n",
    "\n",
    "numerical_cols = [\n",
    "     'latDeg',\n",
    "     'lngDeg',\n",
    "     'heightAboveWgs84EllipsoidM',\n",
    "     'ratio_of_year',\n",
    "     'mean_latDeg+-1',\n",
    "     'mean_lngDeg+-1',\n",
    "     'latDeg_mean_delta_1',\n",
    "     'lngDeg_mean_delta_1',\n",
    "     'mean_latDeg+-2',\n",
    "     'mean_lngDeg+-2',\n",
    "     'latDeg_mean_delta_2',\n",
    "     'lngDeg_mean_delta_2',\n",
    "     'mean_latDeg+-3',\n",
    "     'mean_lngDeg+-3',\n",
    "     'latDeg_mean_delta_3',\n",
    "     'lngDeg_mean_delta_3',\n",
    "     'mean_latDeg+-4',\n",
    "     'mean_lngDeg+-4',\n",
    "     'latDeg_mean_delta_4',\n",
    "     'lngDeg_mean_delta_4',\n",
    "     'mean_latDeg+-5',\n",
    "     'mean_lngDeg+-5',\n",
    "     'latDeg_mean_delta_5',\n",
    "     'lngDeg_mean_delta_5',\n",
    "     'latDeg_pre_increment',\n",
    "     'lngDeg_pre_increment',\n",
    "     'latDeg_post_increment',\n",
    "     'lngDeg_post_increment',\n",
    "     'dist_pre',\n",
    "     'dist_post',\n",
    "     'latDeg_pre_post_mean_abs_delta',\n",
    "     'lngDeg_pre_post_mean_abs_delta',\n",
    "     'pre_post_mean_abs_dist',\n",
    "     'max_latDeg_with_same_millisSinceGpsEpoch',\n",
    "     'max_lngDeg_with_same_millisSinceGpsEpoch',\n",
    "     'max_heightAboveWgs84EllipsoidM_with_same_millisSinceGpsEpoch',\n",
    "     'min_latDeg_with_same_millisSinceGpsEpoch',\n",
    "     'min_lngDeg_with_same_millisSinceGpsEpoch',\n",
    "     'min_heightAboveWgs84EllipsoidM_with_same_millisSinceGpsEpoch',\n",
    "     'mean_latDeg_with_same_millisSinceGpsEpoch',\n",
    "     'mean_lngDeg_with_same_millisSinceGpsEpoch',\n",
    "     'mean_heightAboveWgs84EllipsoidM_with_same_millisSinceGpsEpoch',\n",
    "     'sum_latDeg_with_same_millisSinceGpsEpoch',\n",
    "     'sum_lngDeg_with_same_millisSinceGpsEpoch',\n",
    "     'sum_heightAboveWgs84EllipsoidM_with_same_millisSinceGpsEpoch',\n",
    "     'count_latDeg_with_same_millisSinceGpsEpoch',\n",
    "     'dist_between_baseline_and_phone_mean',\n",
    "     'Cn0DbHz_avg',\n",
    "     'BiasUncertaintyNanos_avg',\n",
    "     'Cn0DbHz_std',\n",
    "     'BiasUncertaintyNanos_std',\n",
    "     'UncalAccelXMps2_avg',\n",
    "     'UncalAccelYMps2_avg',\n",
    "     'UncalAccelZMps2_avg',\n",
    "     'UncalAccelXMps2_std',\n",
    "     'UncalAccelYMps2_std',\n",
    "     'UncalAccelZMps2_std',\n",
    "     'UncalGyroXRadPerSec_avg',\n",
    "     'UncalGyroYRadPerSec_avg',\n",
    "     'UncalGyroZRadPerSec_avg',\n",
    "     'UncalGyroXRadPerSec_std',\n",
    "     'UncalGyroYRadPerSec_std',\n",
    "     'UncalGyroZRadPerSec_std',\n",
    "     'UncalMagXMicroT_avg',\n",
    "     'UncalMagYMicroT_avg',\n",
    "     'UncalMagZMicroT_avg',\n",
    "     'UncalMagXMicroT_std',\n",
    "     'UncalMagYMicroT_std',\n",
    "     'UncalMagZMicroT_std',\n",
    "     'latDeg_kf',\n",
    "     'lngDeg_kf',\n",
    "     'dist_between_base_and_kf',\n",
    "     'base_kf_lat_delta',\n",
    "     'base_kf_lng_delta',\n",
    "     'abs_base_kf_lng_delta',\n",
    "     'abs_base_kf_lat_delta'\n",
    "]\n",
    "\n",
    "feature_cols = [\n",
    "     'latDeg',\n",
    "     'lngDeg',\n",
    "     'heightAboveWgs84EllipsoidM',\n",
    "     'phoneCat',\n",
    "     'ratio_of_year',\n",
    "     'mean_latDeg+-1',\n",
    "     'mean_lngDeg+-1',\n",
    "     'latDeg_mean_delta_1',\n",
    "     'lngDeg_mean_delta_1',\n",
    "     'mean_latDeg+-2',\n",
    "     'mean_lngDeg+-2',\n",
    "     'latDeg_mean_delta_2',\n",
    "     'lngDeg_mean_delta_2',\n",
    "     'mean_latDeg+-3',\n",
    "     'mean_lngDeg+-3',\n",
    "     'latDeg_mean_delta_3',\n",
    "     'lngDeg_mean_delta_3',\n",
    "     'mean_latDeg+-4',\n",
    "     'mean_lngDeg+-4',\n",
    "     'latDeg_mean_delta_4',\n",
    "     'lngDeg_mean_delta_4',\n",
    "     'mean_latDeg+-5',\n",
    "     'mean_lngDeg+-5',\n",
    "     'latDeg_mean_delta_5',\n",
    "     'lngDeg_mean_delta_5',\n",
    "     'latDeg_pre_increment',\n",
    "     'lngDeg_pre_increment',\n",
    "     'latDeg_post_increment',\n",
    "     'lngDeg_post_increment',\n",
    "     'dist_pre',\n",
    "     'dist_post',\n",
    "     'latDeg_pre_post_mean_abs_delta',\n",
    "     'lngDeg_pre_post_mean_abs_delta',\n",
    "     'pre_post_mean_abs_dist',\n",
    "     'max_latDeg_with_same_millisSinceGpsEpoch',\n",
    "     'max_lngDeg_with_same_millisSinceGpsEpoch',\n",
    "     'max_heightAboveWgs84EllipsoidM_with_same_millisSinceGpsEpoch',\n",
    "     'min_latDeg_with_same_millisSinceGpsEpoch',\n",
    "     'min_lngDeg_with_same_millisSinceGpsEpoch',\n",
    "     'min_heightAboveWgs84EllipsoidM_with_same_millisSinceGpsEpoch',\n",
    "     'mean_latDeg_with_same_millisSinceGpsEpoch',\n",
    "     'mean_lngDeg_with_same_millisSinceGpsEpoch',\n",
    "     'mean_heightAboveWgs84EllipsoidM_with_same_millisSinceGpsEpoch',\n",
    "     'sum_latDeg_with_same_millisSinceGpsEpoch',\n",
    "     'sum_lngDeg_with_same_millisSinceGpsEpoch',\n",
    "     'sum_heightAboveWgs84EllipsoidM_with_same_millisSinceGpsEpoch',\n",
    "     'count_latDeg_with_same_millisSinceGpsEpoch',\n",
    "     'dist_between_baseline_and_phone_mean',\n",
    "     'correctedPrm_avg_bucketized',\n",
    "     'rawPrUncM_avg_bucketized',\n",
    "     'satClkDriftMps_avg_bucketized',\n",
    "     'correctedPrm_std_bucketized',\n",
    "     'rawPrUncM_std_bucketized',\n",
    "     'satClkDriftMps_std_bucketized',\n",
    "     'Cn0DbHz_avg',\n",
    "     'BiasUncertaintyNanos_avg',\n",
    "     'Cn0DbHz_std',\n",
    "     'BiasUncertaintyNanos_std',\n",
    "     'UncalAccelXMps2_avg',\n",
    "     'UncalAccelYMps2_avg',\n",
    "     'UncalAccelZMps2_avg',\n",
    "     'UncalAccelXMps2_std',\n",
    "     'UncalAccelYMps2_std',\n",
    "     'UncalAccelZMps2_std',\n",
    "     'UncalGyroXRadPerSec_avg',\n",
    "     'UncalGyroYRadPerSec_avg',\n",
    "     'UncalGyroZRadPerSec_avg',\n",
    "     'UncalGyroXRadPerSec_std',\n",
    "     'UncalGyroYRadPerSec_std',\n",
    "     'UncalGyroZRadPerSec_std',\n",
    "     'UncalMagXMicroT_avg',\n",
    "     'UncalMagYMicroT_avg',\n",
    "     'UncalMagZMicroT_avg',\n",
    "     'UncalMagXMicroT_std',\n",
    "     'UncalMagYMicroT_std',\n",
    "     'UncalMagZMicroT_std',\n",
    "     'latDeg_kf',\n",
    "     'lngDeg_kf',\n",
    "     'dist_between_base_and_kf',\n",
    "     'base_kf_lat_delta',\n",
    "     'base_kf_lng_delta',\n",
    "     'abs_base_kf_lng_delta',\n",
    "     'abs_base_kf_lat_delta'\n",
    "]"
   ]
  },
  {
   "cell_type": "code",
   "execution_count": 10,
   "id": "7847c5d1",
   "metadata": {
    "execution": {
     "iopub.execute_input": "2021-08-04T06:42:55.938722Z",
     "iopub.status.busy": "2021-08-04T06:42:55.937539Z",
     "iopub.status.idle": "2021-08-04T06:42:56.680505Z",
     "shell.execute_reply": "2021-08-04T06:42:56.680917Z",
     "shell.execute_reply.started": "2021-08-04T02:49:22.548925Z"
    },
    "papermill": {
     "duration": 1.198625,
     "end_time": "2021-08-04T06:42:56.681080",
     "exception": false,
     "start_time": "2021-08-04T06:42:55.482455",
     "status": "completed"
    },
    "tags": []
   },
   "outputs": [],
   "source": [
    "test = test_data[feature_cols]\n",
    "\n",
    "test_num = test[numerical_cols]\n",
    "\n",
    "test_cat_one_hot_1 = pd.get_dummies(test[[cat_cols[0]]].astype('str'))\n",
    "test_cat_one_hot_2 = pd.get_dummies(test[[cat_cols[1]]].astype('str'))\n",
    "test_cat_one_hot_3 = pd.get_dummies(test[[cat_cols[2]]].astype('str'))\n",
    "test_cat_one_hot_4 = pd.get_dummies(test[[cat_cols[3]]].astype('str'))\n",
    "test_cat_one_hot_5 = pd.get_dummies(test[[cat_cols[4]]].astype('str'))\n",
    "test_cat_one_hot_6 = pd.get_dummies(test[[cat_cols[5]]].astype('str'))\n",
    "test_cat_one_hot_7 = pd.get_dummies(test[[cat_cols[6]]].astype('str'))"
   ]
  },
  {
   "cell_type": "code",
   "execution_count": 11,
   "id": "ee150886",
   "metadata": {
    "execution": {
     "iopub.execute_input": "2021-08-04T06:42:57.532183Z",
     "iopub.status.busy": "2021-08-04T06:42:57.531636Z",
     "iopub.status.idle": "2021-08-04T06:42:57.586635Z",
     "shell.execute_reply": "2021-08-04T06:42:57.585538Z",
     "shell.execute_reply.started": "2021-08-04T02:49:23.398559Z"
    },
    "papermill": {
     "duration": 0.482237,
     "end_time": "2021-08-04T06:42:57.586777",
     "exception": false,
     "start_time": "2021-08-04T06:42:57.104540",
     "status": "completed"
    },
    "tags": []
   },
   "outputs": [],
   "source": [
    "from sklearn import preprocessing\n",
    "# ss = preprocessing.StandardScaler()\n",
    "ss = joblib.load('../input/ssssssss/ss.pkl')\n",
    "test_num = ss.transform(test_num)"
   ]
  },
  {
   "cell_type": "code",
   "execution_count": 12,
   "id": "f28c03d0",
   "metadata": {
    "execution": {
     "iopub.execute_input": "2021-08-04T06:42:58.447922Z",
     "iopub.status.busy": "2021-08-04T06:42:58.447259Z",
     "iopub.status.idle": "2021-08-04T06:42:58.450244Z",
     "shell.execute_reply": "2021-08-04T06:42:58.450646Z",
     "shell.execute_reply.started": "2021-08-04T02:49:23.454398Z"
    },
    "papermill": {
     "duration": 0.434933,
     "end_time": "2021-08-04T06:42:58.450774",
     "exception": false,
     "start_time": "2021-08-04T06:42:58.015841",
     "status": "completed"
    },
    "tags": []
   },
   "outputs": [
    {
     "data": {
      "text/plain": [
       "array([[-0.18031011,  0.4050528 , -0.6437015 , ..., -0.44753414,\n",
       "         0.3872363 ,  0.04404465],\n",
       "       [-0.1800925 ,  0.40514187, -0.65774996, ..., -0.14794978,\n",
       "         0.08708674,  0.08119901],\n",
       "       [-0.18001512,  0.40515064, -0.65630573, ...,  0.00692914,\n",
       "        -0.05482815,  0.09850579],\n",
       "       ...,\n",
       "       [-1.17258624,  1.63775955, -0.29432811, ...,  0.00786696,\n",
       "        -0.05388855, -0.03843269],\n",
       "       [-1.17272043,  1.63775887, -0.31559774, ..., -0.02954099,\n",
       "        -0.03154544, -0.00825561],\n",
       "       [-1.1724593 ,  1.63787494, -0.25257661, ...,  0.00688437,\n",
       "        -0.054873  , -0.03731724]])"
      ]
     },
     "execution_count": 12,
     "metadata": {},
     "output_type": "execute_result"
    }
   ],
   "source": [
    "test_num"
   ]
  },
  {
   "cell_type": "code",
   "execution_count": 13,
   "id": "678a1f57",
   "metadata": {
    "execution": {
     "iopub.execute_input": "2021-08-04T06:42:59.301422Z",
     "iopub.status.busy": "2021-08-04T06:42:59.300678Z",
     "iopub.status.idle": "2021-08-04T06:42:59.302987Z",
     "shell.execute_reply": "2021-08-04T06:42:59.303461Z",
     "shell.execute_reply.started": "2021-08-04T02:50:51.680231Z"
    },
    "papermill": {
     "duration": 0.430461,
     "end_time": "2021-08-04T06:42:59.303589",
     "exception": false,
     "start_time": "2021-08-04T06:42:58.873128",
     "status": "completed"
    },
    "tags": []
   },
   "outputs": [],
   "source": [
    "epochs = 200\n",
    "batch_size = 1024\n",
    "learning_rate = 0.005"
   ]
  },
  {
   "cell_type": "code",
   "execution_count": 14,
   "id": "03e94bd4",
   "metadata": {
    "execution": {
     "iopub.execute_input": "2021-08-04T06:43:00.422890Z",
     "iopub.status.busy": "2021-08-04T06:43:00.421835Z",
     "iopub.status.idle": "2021-08-04T06:43:00.424639Z",
     "shell.execute_reply": "2021-08-04T06:43:00.424182Z",
     "shell.execute_reply.started": "2021-08-04T02:50:54.031484Z"
    },
    "papermill": {
     "duration": 0.465844,
     "end_time": "2021-08-04T06:43:00.424779",
     "exception": false,
     "start_time": "2021-08-04T06:42:59.958935",
     "status": "completed"
    },
    "tags": []
   },
   "outputs": [],
   "source": [
    "def r2(y_true, y_pred):\n",
    "    a = K.square(y_pred - y_true)\n",
    "    b = K.sum(a)\n",
    "    c = K.mean(y_true)\n",
    "    d = K.square(y_true - c)\n",
    "    e = K.sum(d)\n",
    "    f = 1 - b / e\n",
    "    return f \n",
    "\n",
    "def my_loss(y_true, y_pred):\n",
    "    loss_less = 1.0 \n",
    "    loss_more = 2.0 \n",
    "    \n",
    "    error = y_pred - y_true\n",
    "    error_fix = tf.where(tf.greater(y_pred, y_true), error * loss_less, - error * loss_more)\n",
    "    mae_fix = K.mean(error_fix)\n",
    "    return mae_fix\n",
    "\n",
    "def check_random(SEED=2021):\n",
    "    os.environ['TF_DETERMINISTIC_OPS'] = '1'\n",
    "    os.environ['PYTHONHASHSEED'] = str(SEED)\n",
    "    random.seed(SEED)\n",
    "    np.random.seed(SEED)\n",
    "    tf.random.set_seed(SEED)\n",
    "\n",
    "def nns(x, hidden_units, activation, dropout_rates):\n",
    "    for i in range(len(hidden_units)):\n",
    "        x = Dense(hidden_units[i])(x)\n",
    "        x = BatchNormalization()(x)\n",
    "        x = Activation(activation[i])(x)\n",
    "        x = Dropout(dropout_rates[i + 1])(x)\n",
    "    return x     \n",
    "\n",
    "def create_nn_model_new(num_cols, cat_cols_list, output_dim, learning_rate):\n",
    "    inp = Input(shape=(num_cols,))\n",
    "\n",
    "    inp_cat1 = Input(shape=(cat_cols_list[0],))\n",
    "    inp_cat2 = Input(shape=(cat_cols_list[1],))\n",
    "    inp_cat3 = Input(shape=(cat_cols_list[2],))\n",
    "    inp_cat4 = Input(shape=(cat_cols_list[3],))\n",
    "    inp_cat5 = Input(shape=(cat_cols_list[4],))\n",
    "    inp_cat6 = Input(shape=(cat_cols_list[5],))\n",
    "    inp_cat7 = Input(shape=(cat_cols_list[6],))\n",
    "\n",
    "    dense_cats = []\n",
    "    dense_cats.append(Dense(50)(inp_cat1))\n",
    "    dense_cats.append(Dense(50)(inp_cat2))\n",
    "    dense_cats.append(Dense(50)(inp_cat3))\n",
    "    dense_cats.append(Dense(50)(inp_cat4))\n",
    "    dense_cats.append(Dense(50)(inp_cat5))\n",
    "    dense_cats.append(Dense(50)(inp_cat6))\n",
    "    dense_cats.append(Dense(50)(inp_cat7))\n",
    "    \n",
    "    x = Concatenate(axis=-1)(dense_cats + [inp])\n",
    "    x = Dense(512)(x)\n",
    "    x = Activation(relu)(x)\n",
    "    \n",
    "    x = Dense(512)(x)\n",
    "    x = Activation(relu)(x)\n",
    "    \n",
    "    x = Dense(256)(x)\n",
    "    x = Activation(relu)(x)\n",
    "    \n",
    "    x = Dense(128)(x)\n",
    "    x = Activation(relu)(x)\n",
    "    \n",
    "    x = Dense(64)(x)\n",
    "\n",
    "    out = Dense(output_dim)(x)\n",
    "\n",
    "    model = Model(inputs=[inp, \n",
    "                        inp_cat1, inp_cat2, \n",
    "                        inp_cat3, inp_cat4,\n",
    "                        inp_cat5, inp_cat6, \n",
    "                        inp_cat7], outputs=out)\n",
    "    model.compile(\n",
    "        optimizer=AdamW(learning_rate=learning_rate, weight_decay=0.0001),\n",
    "        loss=[my_loss],\n",
    "        metrics=['mae', 'mse', r2]\n",
    "    )\n",
    "\n",
    "    return model"
   ]
  },
  {
   "cell_type": "code",
   "execution_count": 15,
   "id": "632d161e",
   "metadata": {
    "execution": {
     "iopub.execute_input": "2021-08-04T06:43:01.327989Z",
     "iopub.status.busy": "2021-08-04T06:43:01.327357Z",
     "iopub.status.idle": "2021-08-04T06:43:03.476584Z",
     "shell.execute_reply": "2021-08-04T06:43:03.477287Z",
     "shell.execute_reply.started": "2021-08-04T02:50:57.424458Z"
    },
    "papermill": {
     "duration": 2.582468,
     "end_time": "2021-08-04T06:43:03.477488",
     "exception": false,
     "start_time": "2021-08-04T06:43:00.895020",
     "status": "completed"
    },
    "tags": []
   },
   "outputs": [
    {
     "name": "stdout",
     "output_type": "stream",
     "text": [
      "Model: \"model\"\n",
      "__________________________________________________________________________________________________\n",
      "Layer (type)                    Output Shape         Param #     Connected to                     \n",
      "==================================================================================================\n",
      "input_2 (InputLayer)            [(None, 21)]         0                                            \n",
      "__________________________________________________________________________________________________\n",
      "input_3 (InputLayer)            [(None, 21)]         0                                            \n",
      "__________________________________________________________________________________________________\n",
      "input_4 (InputLayer)            [(None, 21)]         0                                            \n",
      "__________________________________________________________________________________________________\n",
      "input_5 (InputLayer)            [(None, 21)]         0                                            \n",
      "__________________________________________________________________________________________________\n",
      "input_6 (InputLayer)            [(None, 21)]         0                                            \n",
      "__________________________________________________________________________________________________\n",
      "input_7 (InputLayer)            [(None, 21)]         0                                            \n",
      "__________________________________________________________________________________________________\n",
      "input_8 (InputLayer)            [(None, 7)]          0                                            \n",
      "__________________________________________________________________________________________________\n",
      "dense (Dense)                   (None, 50)           1100        input_2[0][0]                    \n",
      "__________________________________________________________________________________________________\n",
      "dense_1 (Dense)                 (None, 50)           1100        input_3[0][0]                    \n",
      "__________________________________________________________________________________________________\n",
      "dense_2 (Dense)                 (None, 50)           1100        input_4[0][0]                    \n",
      "__________________________________________________________________________________________________\n",
      "dense_3 (Dense)                 (None, 50)           1100        input_5[0][0]                    \n",
      "__________________________________________________________________________________________________\n",
      "dense_4 (Dense)                 (None, 50)           1100        input_6[0][0]                    \n",
      "__________________________________________________________________________________________________\n",
      "dense_5 (Dense)                 (None, 50)           1100        input_7[0][0]                    \n",
      "__________________________________________________________________________________________________\n",
      "dense_6 (Dense)                 (None, 50)           400         input_8[0][0]                    \n",
      "__________________________________________________________________________________________________\n",
      "input_1 (InputLayer)            [(None, 76)]         0                                            \n",
      "__________________________________________________________________________________________________\n",
      "concatenate (Concatenate)       (None, 426)          0           dense[0][0]                      \n",
      "                                                                 dense_1[0][0]                    \n",
      "                                                                 dense_2[0][0]                    \n",
      "                                                                 dense_3[0][0]                    \n",
      "                                                                 dense_4[0][0]                    \n",
      "                                                                 dense_5[0][0]                    \n",
      "                                                                 dense_6[0][0]                    \n",
      "                                                                 input_1[0][0]                    \n",
      "__________________________________________________________________________________________________\n",
      "dense_7 (Dense)                 (None, 512)          218624      concatenate[0][0]                \n",
      "__________________________________________________________________________________________________\n",
      "activation (Activation)         (None, 512)          0           dense_7[0][0]                    \n",
      "__________________________________________________________________________________________________\n",
      "dense_8 (Dense)                 (None, 512)          262656      activation[0][0]                 \n",
      "__________________________________________________________________________________________________\n",
      "activation_1 (Activation)       (None, 512)          0           dense_8[0][0]                    \n",
      "__________________________________________________________________________________________________\n",
      "dense_9 (Dense)                 (None, 256)          131328      activation_1[0][0]               \n",
      "__________________________________________________________________________________________________\n",
      "activation_2 (Activation)       (None, 256)          0           dense_9[0][0]                    \n",
      "__________________________________________________________________________________________________\n",
      "dense_10 (Dense)                (None, 128)          32896       activation_2[0][0]               \n",
      "__________________________________________________________________________________________________\n",
      "activation_3 (Activation)       (None, 128)          0           dense_10[0][0]                   \n",
      "__________________________________________________________________________________________________\n",
      "dense_11 (Dense)                (None, 64)           8256        activation_3[0][0]               \n",
      "__________________________________________________________________________________________________\n",
      "dense_12 (Dense)                (None, 1)            65          dense_11[0][0]                   \n",
      "==================================================================================================\n",
      "Total params: 660,825\n",
      "Trainable params: 660,825\n",
      "Non-trainable params: 0\n",
      "__________________________________________________________________________________________________\n"
     ]
    }
   ],
   "source": [
    "ann_dis = create_nn_model_new(test_num.shape[-1], [21, 21, 21, 21, 21, 21, 7], 1, learning_rate)\n",
    "ann_dis.summary()\n",
    "ann_dis.load_weights('../input/test-model/dis_ann.hdf5')"
   ]
  },
  {
   "cell_type": "code",
   "execution_count": 16,
   "id": "eb5421a3",
   "metadata": {
    "execution": {
     "iopub.execute_input": "2021-08-04T06:43:04.338839Z",
     "iopub.status.busy": "2021-08-04T06:43:04.337902Z",
     "iopub.status.idle": "2021-08-04T06:43:04.514227Z",
     "shell.execute_reply": "2021-08-04T06:43:04.514612Z",
     "shell.execute_reply.started": "2021-08-04T02:51:03.284653Z"
    },
    "papermill": {
     "duration": 0.6111,
     "end_time": "2021-08-04T06:43:04.514764",
     "exception": false,
     "start_time": "2021-08-04T06:43:03.903664",
     "status": "completed"
    },
    "tags": []
   },
   "outputs": [
    {
     "name": "stdout",
     "output_type": "stream",
     "text": [
      "Model: \"model_1\"\n",
      "__________________________________________________________________________________________________\n",
      "Layer (type)                    Output Shape         Param #     Connected to                     \n",
      "==================================================================================================\n",
      "input_10 (InputLayer)           [(None, 21)]         0                                            \n",
      "__________________________________________________________________________________________________\n",
      "input_11 (InputLayer)           [(None, 21)]         0                                            \n",
      "__________________________________________________________________________________________________\n",
      "input_12 (InputLayer)           [(None, 21)]         0                                            \n",
      "__________________________________________________________________________________________________\n",
      "input_13 (InputLayer)           [(None, 21)]         0                                            \n",
      "__________________________________________________________________________________________________\n",
      "input_14 (InputLayer)           [(None, 21)]         0                                            \n",
      "__________________________________________________________________________________________________\n",
      "input_15 (InputLayer)           [(None, 21)]         0                                            \n",
      "__________________________________________________________________________________________________\n",
      "input_16 (InputLayer)           [(None, 7)]          0                                            \n",
      "__________________________________________________________________________________________________\n",
      "dense_13 (Dense)                (None, 50)           1100        input_10[0][0]                   \n",
      "__________________________________________________________________________________________________\n",
      "dense_14 (Dense)                (None, 50)           1100        input_11[0][0]                   \n",
      "__________________________________________________________________________________________________\n",
      "dense_15 (Dense)                (None, 50)           1100        input_12[0][0]                   \n",
      "__________________________________________________________________________________________________\n",
      "dense_16 (Dense)                (None, 50)           1100        input_13[0][0]                   \n",
      "__________________________________________________________________________________________________\n",
      "dense_17 (Dense)                (None, 50)           1100        input_14[0][0]                   \n",
      "__________________________________________________________________________________________________\n",
      "dense_18 (Dense)                (None, 50)           1100        input_15[0][0]                   \n",
      "__________________________________________________________________________________________________\n",
      "dense_19 (Dense)                (None, 50)           400         input_16[0][0]                   \n",
      "__________________________________________________________________________________________________\n",
      "input_9 (InputLayer)            [(None, 76)]         0                                            \n",
      "__________________________________________________________________________________________________\n",
      "concatenate_1 (Concatenate)     (None, 426)          0           dense_13[0][0]                   \n",
      "                                                                 dense_14[0][0]                   \n",
      "                                                                 dense_15[0][0]                   \n",
      "                                                                 dense_16[0][0]                   \n",
      "                                                                 dense_17[0][0]                   \n",
      "                                                                 dense_18[0][0]                   \n",
      "                                                                 dense_19[0][0]                   \n",
      "                                                                 input_9[0][0]                    \n",
      "__________________________________________________________________________________________________\n",
      "dense_20 (Dense)                (None, 512)          218624      concatenate_1[0][0]              \n",
      "__________________________________________________________________________________________________\n",
      "activation_4 (Activation)       (None, 512)          0           dense_20[0][0]                   \n",
      "__________________________________________________________________________________________________\n",
      "dense_21 (Dense)                (None, 512)          262656      activation_4[0][0]               \n",
      "__________________________________________________________________________________________________\n",
      "activation_5 (Activation)       (None, 512)          0           dense_21[0][0]                   \n",
      "__________________________________________________________________________________________________\n",
      "dense_22 (Dense)                (None, 256)          131328      activation_5[0][0]               \n",
      "__________________________________________________________________________________________________\n",
      "activation_6 (Activation)       (None, 256)          0           dense_22[0][0]                   \n",
      "__________________________________________________________________________________________________\n",
      "dense_23 (Dense)                (None, 128)          32896       activation_6[0][0]               \n",
      "__________________________________________________________________________________________________\n",
      "activation_7 (Activation)       (None, 128)          0           dense_23[0][0]                   \n",
      "__________________________________________________________________________________________________\n",
      "dense_24 (Dense)                (None, 64)           8256        activation_7[0][0]               \n",
      "__________________________________________________________________________________________________\n",
      "dense_25 (Dense)                (None, 1)            65          dense_24[0][0]                   \n",
      "==================================================================================================\n",
      "Total params: 660,825\n",
      "Trainable params: 660,825\n",
      "Non-trainable params: 0\n",
      "__________________________________________________________________________________________________\n"
     ]
    }
   ],
   "source": [
    "ann_speed = create_nn_model_new(test_num.shape[-1], [21, 21, 21, 21, 21, 21, 7], 1, learning_rate)\n",
    "ann_speed.summary()\n",
    "ann_speed.load_weights('../input/test-model/speed_ann.hdf5')"
   ]
  },
  {
   "cell_type": "code",
   "execution_count": 17,
   "id": "00312de6",
   "metadata": {
    "execution": {
     "iopub.execute_input": "2021-08-04T06:43:05.398091Z",
     "iopub.status.busy": "2021-08-04T06:43:05.397589Z",
     "iopub.status.idle": "2021-08-04T06:43:14.631259Z",
     "shell.execute_reply": "2021-08-04T06:43:14.630781Z",
     "shell.execute_reply.started": "2021-08-04T02:51:07.078096Z"
    },
    "papermill": {
     "duration": 9.663381,
     "end_time": "2021-08-04T06:43:14.631392",
     "exception": false,
     "start_time": "2021-08-04T06:43:04.968011",
     "status": "completed"
    },
    "tags": []
   },
   "outputs": [],
   "source": [
    "pred_dis = ann_dis.predict([test_num, \n",
    "                            test_cat_one_hot_1, test_cat_one_hot_2, test_cat_one_hot_3, \n",
    "                            test_cat_one_hot_4, test_cat_one_hot_5, test_cat_one_hot_6 ,test_cat_one_hot_7])\n",
    "pred_speed = ann_speed.predict([test_num, \n",
    "                            test_cat_one_hot_1, test_cat_one_hot_2, test_cat_one_hot_3, \n",
    "                            test_cat_one_hot_4, test_cat_one_hot_5, test_cat_one_hot_6 ,test_cat_one_hot_7])"
   ]
  },
  {
   "cell_type": "code",
   "execution_count": 18,
   "id": "e57f74f7",
   "metadata": {
    "execution": {
     "iopub.execute_input": "2021-08-04T06:43:15.487898Z",
     "iopub.status.busy": "2021-08-04T06:43:15.486796Z",
     "iopub.status.idle": "2021-08-04T06:43:15.490016Z",
     "shell.execute_reply": "2021-08-04T06:43:15.490420Z",
     "shell.execute_reply.started": "2021-08-04T02:51:15.979932Z"
    },
    "papermill": {
     "duration": 0.433142,
     "end_time": "2021-08-04T06:43:15.490555",
     "exception": false,
     "start_time": "2021-08-04T06:43:15.057413",
     "status": "completed"
    },
    "tags": []
   },
   "outputs": [],
   "source": [
    "test['pred_dist_between_baseline_and_truth'] = pred_dis\n",
    "test['pred_speed_between_baseline_and_truth'] = pred_speed"
   ]
  },
  {
   "cell_type": "code",
   "execution_count": 19,
   "id": "24954ef0",
   "metadata": {
    "execution": {
     "iopub.execute_input": "2021-08-04T06:43:16.386120Z",
     "iopub.status.busy": "2021-08-04T06:43:16.385572Z",
     "iopub.status.idle": "2021-08-04T06:43:16.410684Z",
     "shell.execute_reply": "2021-08-04T06:43:16.410198Z",
     "shell.execute_reply.started": "2021-08-04T02:51:15.989163Z"
    },
    "papermill": {
     "duration": 0.495752,
     "end_time": "2021-08-04T06:43:16.410811",
     "exception": false,
     "start_time": "2021-08-04T06:43:15.915059",
     "status": "completed"
    },
    "tags": []
   },
   "outputs": [
    {
     "data": {
      "text/html": [
       "<div>\n",
       "<style scoped>\n",
       "    .dataframe tbody tr th:only-of-type {\n",
       "        vertical-align: middle;\n",
       "    }\n",
       "\n",
       "    .dataframe tbody tr th {\n",
       "        vertical-align: top;\n",
       "    }\n",
       "\n",
       "    .dataframe thead th {\n",
       "        text-align: right;\n",
       "    }\n",
       "</style>\n",
       "<table border=\"1\" class=\"dataframe\">\n",
       "  <thead>\n",
       "    <tr style=\"text-align: right;\">\n",
       "      <th></th>\n",
       "      <th>pred_dist_between_baseline_and_truth</th>\n",
       "      <th>pred_speed_between_baseline_and_truth</th>\n",
       "    </tr>\n",
       "  </thead>\n",
       "  <tbody>\n",
       "    <tr>\n",
       "      <th>count</th>\n",
       "      <td>91486.000000</td>\n",
       "      <td>91486.000000</td>\n",
       "    </tr>\n",
       "    <tr>\n",
       "      <th>mean</th>\n",
       "      <td>3.768844</td>\n",
       "      <td>2.599115</td>\n",
       "    </tr>\n",
       "    <tr>\n",
       "      <th>std</th>\n",
       "      <td>4.195992</td>\n",
       "      <td>4.431914</td>\n",
       "    </tr>\n",
       "    <tr>\n",
       "      <th>min</th>\n",
       "      <td>0.876034</td>\n",
       "      <td>0.145333</td>\n",
       "    </tr>\n",
       "    <tr>\n",
       "      <th>25%</th>\n",
       "      <td>1.729072</td>\n",
       "      <td>0.896066</td>\n",
       "    </tr>\n",
       "    <tr>\n",
       "      <th>50%</th>\n",
       "      <td>2.535623</td>\n",
       "      <td>1.484980</td>\n",
       "    </tr>\n",
       "    <tr>\n",
       "      <th>75%</th>\n",
       "      <td>4.449728</td>\n",
       "      <td>2.805116</td>\n",
       "    </tr>\n",
       "    <tr>\n",
       "      <th>max</th>\n",
       "      <td>397.660675</td>\n",
       "      <td>357.005249</td>\n",
       "    </tr>\n",
       "  </tbody>\n",
       "</table>\n",
       "</div>"
      ],
      "text/plain": [
       "       pred_dist_between_baseline_and_truth  pred_speed_between_baseline_and_truth\n",
       "count                          91486.000000                           91486.000000\n",
       "mean                               3.768844                               2.599115\n",
       "std                                4.195992                               4.431914\n",
       "min                                0.876034                               0.145333\n",
       "25%                                1.729072                               0.896066\n",
       "50%                                2.535623                               1.484980\n",
       "75%                                4.449728                               2.805116\n",
       "max                              397.660675                             357.005249"
      ]
     },
     "execution_count": 19,
     "metadata": {},
     "output_type": "execute_result"
    }
   ],
   "source": [
    "test[['pred_dist_between_baseline_and_truth', 'pred_speed_between_baseline_and_truth']].describe()"
   ]
  },
  {
   "cell_type": "markdown",
   "id": "693d302c",
   "metadata": {
    "papermill": {
     "duration": 0.427223,
     "end_time": "2021-08-04T06:43:17.306272",
     "exception": false,
     "start_time": "2021-08-04T06:43:16.879049",
     "status": "completed"
    },
    "tags": []
   },
   "source": [
    "# 分三次融合处理"
   ]
  },
  {
   "cell_type": "markdown",
   "id": "ae18904c",
   "metadata": {
    "papermill": {
     "duration": 0.425559,
     "end_time": "2021-08-04T06:43:18.156537",
     "exception": false,
     "start_time": "2021-08-04T06:43:17.730978",
     "status": "completed"
    },
    "tags": []
   },
   "source": [
    "## 1.lgb 7.125 14.25 16 13"
   ]
  },
  {
   "cell_type": "code",
   "execution_count": 20,
   "id": "ac259439",
   "metadata": {
    "execution": {
     "iopub.execute_input": "2021-08-04T06:43:19.016701Z",
     "iopub.status.busy": "2021-08-04T06:43:19.015526Z",
     "iopub.status.idle": "2021-08-04T06:43:19.055304Z",
     "shell.execute_reply": "2021-08-04T06:43:19.054835Z",
     "shell.execute_reply.started": "2021-08-04T03:35:13.371732Z"
    },
    "papermill": {
     "duration": 0.470008,
     "end_time": "2021-08-04T06:43:19.055433",
     "exception": false,
     "start_time": "2021-08-04T06:43:18.585425",
     "status": "completed"
    },
    "tags": []
   },
   "outputs": [],
   "source": [
    "test_data_lgb = test_data.copy()"
   ]
  },
  {
   "cell_type": "code",
   "execution_count": 21,
   "id": "19f1131f",
   "metadata": {
    "execution": {
     "iopub.execute_input": "2021-08-04T06:43:19.916559Z",
     "iopub.status.busy": "2021-08-04T06:43:19.915966Z",
     "iopub.status.idle": "2021-08-04T06:43:19.919844Z",
     "shell.execute_reply": "2021-08-04T06:43:19.919448Z",
     "shell.execute_reply.started": "2021-08-04T03:35:15.570646Z"
    },
    "papermill": {
     "duration": 0.434839,
     "end_time": "2021-08-04T06:43:19.919956",
     "exception": false,
     "start_time": "2021-08-04T06:43:19.485117",
     "status": "completed"
    },
    "tags": []
   },
   "outputs": [],
   "source": [
    "th_speed_normal = (6.75 + 7.5) / 2 \n",
    "th_dist_normal = (13.5 + 15) / 2\n",
    "# th_speed_normal = 6\n",
    "# th_dist_normal = 12"
   ]
  },
  {
   "cell_type": "code",
   "execution_count": 22,
   "id": "b2cbfad9",
   "metadata": {
    "execution": {
     "iopub.execute_input": "2021-08-04T06:43:20.781621Z",
     "iopub.status.busy": "2021-08-04T06:43:20.780980Z",
     "iopub.status.idle": "2021-08-04T06:43:20.866056Z",
     "shell.execute_reply": "2021-08-04T06:43:20.865577Z",
     "shell.execute_reply.started": "2021-08-04T03:35:18.265139Z"
    },
    "papermill": {
     "duration": 0.520583,
     "end_time": "2021-08-04T06:43:20.866238",
     "exception": false,
     "start_time": "2021-08-04T06:43:20.345655",
     "status": "completed"
    },
    "tags": []
   },
   "outputs": [],
   "source": [
    "regression = test_data_lgb.loc[((test['pred_dist_between_baseline_and_truth'] <= th_dist_normal) & (test['pred_speed_between_baseline_and_truth'] <= th_speed_normal))].copy()"
   ]
  },
  {
   "cell_type": "code",
   "execution_count": 23,
   "id": "a1de03de",
   "metadata": {
    "execution": {
     "iopub.execute_input": "2021-08-04T06:43:21.977825Z",
     "iopub.status.busy": "2021-08-04T06:43:21.977284Z",
     "iopub.status.idle": "2021-08-04T06:43:22.237312Z",
     "shell.execute_reply": "2021-08-04T06:43:22.237896Z",
     "shell.execute_reply.started": "2021-08-04T03:35:24.370349Z"
    },
    "papermill": {
     "duration": 0.936284,
     "end_time": "2021-08-04T06:43:22.238071",
     "exception": false,
     "start_time": "2021-08-04T06:43:21.301787",
     "status": "completed"
    },
    "tags": []
   },
   "outputs": [],
   "source": [
    "model_lat = joblib.load('../input/lgb-regression-after-keras-ann-dist-speed/model_lat.pkl')\n",
    "model_lng = joblib.load('../input/lgb-regression-after-keras-ann-dist-speed/model_lng.pkl')"
   ]
  },
  {
   "cell_type": "code",
   "execution_count": 24,
   "id": "263db3d4",
   "metadata": {
    "execution": {
     "iopub.execute_input": "2021-08-04T06:43:23.117205Z",
     "iopub.status.busy": "2021-08-04T06:43:23.115963Z",
     "iopub.status.idle": "2021-08-04T06:43:29.018741Z",
     "shell.execute_reply": "2021-08-04T06:43:29.019377Z",
     "shell.execute_reply.started": "2021-08-04T03:35:31.35298Z"
    },
    "papermill": {
     "duration": 6.352489,
     "end_time": "2021-08-04T06:43:29.019564",
     "exception": false,
     "start_time": "2021-08-04T06:43:22.667075",
     "status": "completed"
    },
    "tags": []
   },
   "outputs": [],
   "source": [
    "dis_lat = model_lat.predict(regression[feature_cols])\n",
    "dis_lng = model_lng.predict(regression[feature_cols])"
   ]
  },
  {
   "cell_type": "code",
   "execution_count": 25,
   "id": "d8269efa",
   "metadata": {
    "execution": {
     "iopub.execute_input": "2021-08-04T06:43:29.978490Z",
     "iopub.status.busy": "2021-08-04T06:43:29.977675Z",
     "iopub.status.idle": "2021-08-04T06:43:29.987888Z",
     "shell.execute_reply": "2021-08-04T06:43:29.987489Z",
     "shell.execute_reply.started": "2021-08-04T03:35:46.424983Z"
    },
    "papermill": {
     "duration": 0.507931,
     "end_time": "2021-08-04T06:43:29.988001",
     "exception": false,
     "start_time": "2021-08-04T06:43:29.480070",
     "status": "completed"
    },
    "tags": []
   },
   "outputs": [],
   "source": [
    "test_data_lgb.loc[((test['pred_dist_between_baseline_and_truth'] <= th_dist_normal) & (test['pred_speed_between_baseline_and_truth'] <= th_speed_normal)), 'latDeg'] -= dis_lat\n",
    "test_data_lgb.loc[((test['pred_dist_between_baseline_and_truth'] <= th_dist_normal) & (test['pred_speed_between_baseline_and_truth'] <= th_speed_normal)), 'lngDeg'] -= dis_lng"
   ]
  },
  {
   "cell_type": "code",
   "execution_count": 26,
   "id": "6194426e",
   "metadata": {
    "execution": {
     "iopub.execute_input": "2021-08-04T06:43:30.905059Z",
     "iopub.status.busy": "2021-08-04T06:43:30.904432Z",
     "iopub.status.idle": "2021-08-04T06:43:30.908952Z",
     "shell.execute_reply": "2021-08-04T06:43:30.908477Z",
     "shell.execute_reply.started": "2021-08-04T02:31:31.435209Z"
    },
    "papermill": {
     "duration": 0.463432,
     "end_time": "2021-08-04T06:43:30.909081",
     "exception": false,
     "start_time": "2021-08-04T06:43:30.445649",
     "status": "completed"
    },
    "tags": []
   },
   "outputs": [],
   "source": [
    "# tmp = test_data_lgb.copy()\n",
    "# th_speed_abnormal = 16\n",
    "# th_dist_abnormal = 13\n",
    "# print(len(tmp.loc[((test['pred_dist_between_baseline_and_truth'] > th_dist_abnormal) | (test['pred_speed_between_baseline_and_truth'] > th_speed_abnormal)), :]))\n"
   ]
  },
  {
   "cell_type": "code",
   "execution_count": 27,
   "id": "98207403",
   "metadata": {
    "execution": {
     "iopub.execute_input": "2021-08-04T06:43:31.835828Z",
     "iopub.status.busy": "2021-08-04T06:43:31.834663Z",
     "iopub.status.idle": "2021-08-04T06:43:31.886034Z",
     "shell.execute_reply": "2021-08-04T06:43:31.885560Z",
     "shell.execute_reply.started": "2021-08-04T03:35:49.675664Z"
    },
    "papermill": {
     "duration": 0.514433,
     "end_time": "2021-08-04T06:43:31.886197",
     "exception": false,
     "start_time": "2021-08-04T06:43:31.371764",
     "status": "completed"
    },
    "tags": []
   },
   "outputs": [
    {
     "name": "stdout",
     "output_type": "stream",
     "text": [
      "2606\n"
     ]
    }
   ],
   "source": [
    "kf = KF()\n",
    "\n",
    "tmp = test_data_lgb.copy()\n",
    "\n",
    "th_speed_abnormal = 16\n",
    "th_dist_abnormal = 13\n",
    "\n",
    "# th_speed_abnormal = th_speed_normal\n",
    "# th_dist_abnormal = th_dist_normal\n",
    "\n",
    "print(len(tmp.loc[((test['pred_dist_between_baseline_and_truth'] > th_dist_abnormal) | (test['pred_speed_between_baseline_and_truth'] > th_speed_abnormal)), :]))\n",
    "tmp.loc[((test['pred_dist_between_baseline_and_truth'] > th_dist_abnormal) | (test['pred_speed_between_baseline_and_truth'] > th_speed_abnormal)), ['latDeg', 'lngDeg']] = np.nan"
   ]
  },
  {
   "cell_type": "code",
   "execution_count": 28,
   "id": "c9063a22",
   "metadata": {
    "execution": {
     "iopub.execute_input": "2021-08-04T06:43:33.061183Z",
     "iopub.status.busy": "2021-08-04T06:43:33.060161Z",
     "iopub.status.idle": "2021-08-04T06:44:21.481225Z",
     "shell.execute_reply": "2021-08-04T06:44:21.480285Z",
     "shell.execute_reply.started": "2021-08-04T03:35:52.212255Z"
    },
    "papermill": {
     "duration": 49.134752,
     "end_time": "2021-08-04T06:44:21.481373",
     "exception": false,
     "start_time": "2021-08-04T06:43:32.346621",
     "status": "completed"
    },
    "tags": []
   },
   "outputs": [
    {
     "name": "stderr",
     "output_type": "stream",
     "text": [
      "100%|██████████| 48/48 [00:42<00:00,  1.12it/s]\n"
     ]
    }
   ],
   "source": [
    "kf.apply_kf_smoothing(tmp, \"\")\n",
    "smoothed_tmp = mean_with_other_phones(tmp)"
   ]
  },
  {
   "cell_type": "code",
   "execution_count": 29,
   "id": "6bc114b0",
   "metadata": {
    "execution": {
     "iopub.execute_input": "2021-08-04T06:44:22.366770Z",
     "iopub.status.busy": "2021-08-04T06:44:22.366137Z",
     "iopub.status.idle": "2021-08-04T06:44:22.538883Z",
     "shell.execute_reply": "2021-08-04T06:44:22.538264Z",
     "shell.execute_reply.started": "2021-08-04T03:36:40.451061Z"
    },
    "papermill": {
     "duration": 0.617693,
     "end_time": "2021-08-04T06:44:22.539017",
     "exception": false,
     "start_time": "2021-08-04T06:44:21.921324",
     "status": "completed"
    },
    "tags": []
   },
   "outputs": [],
   "source": [
    "data_sub = pd.read_csv('../input/google-smartphone-decimeter-challenge' + '/' + 'sample_submission.csv')\n",
    "df_sub_lgb_best = data_sub[['phone', 'millisSinceGpsEpoch']].merge(smoothed_tmp[['phone', 'millisSinceGpsEpoch', 'latDeg', 'lngDeg']], on=['phone', 'millisSinceGpsEpoch'], how='inner')"
   ]
  },
  {
   "cell_type": "code",
   "execution_count": 30,
   "id": "5528f822",
   "metadata": {
    "execution": {
     "iopub.execute_input": "2021-08-04T06:44:23.418822Z",
     "iopub.status.busy": "2021-08-04T06:44:23.418278Z",
     "iopub.status.idle": "2021-08-04T06:44:23.422239Z",
     "shell.execute_reply": "2021-08-04T06:44:23.421774Z",
     "shell.execute_reply.started": "2021-08-04T01:29:03.968988Z"
    },
    "papermill": {
     "duration": 0.445445,
     "end_time": "2021-08-04T06:44:23.422355",
     "exception": false,
     "start_time": "2021-08-04T06:44:22.976910",
     "status": "completed"
    },
    "tags": []
   },
   "outputs": [],
   "source": [
    "# df_sub.to_csv(\"./submission1.csv\", index=False)"
   ]
  },
  {
   "cell_type": "code",
   "execution_count": 31,
   "id": "b4c97b46",
   "metadata": {
    "execution": {
     "iopub.execute_input": "2021-08-04T06:44:24.309109Z",
     "iopub.status.busy": "2021-08-04T06:44:24.308577Z",
     "iopub.status.idle": "2021-08-04T06:44:24.313766Z",
     "shell.execute_reply": "2021-08-04T06:44:24.313358Z",
     "shell.execute_reply.started": "2021-08-04T03:36:40.646628Z"
    },
    "papermill": {
     "duration": 0.455165,
     "end_time": "2021-08-04T06:44:24.313880",
     "exception": false,
     "start_time": "2021-08-04T06:44:23.858715",
     "status": "completed"
    },
    "tags": []
   },
   "outputs": [
    {
     "data": {
      "text/html": [
       "<div>\n",
       "<style scoped>\n",
       "    .dataframe tbody tr th:only-of-type {\n",
       "        vertical-align: middle;\n",
       "    }\n",
       "\n",
       "    .dataframe tbody tr th {\n",
       "        vertical-align: top;\n",
       "    }\n",
       "\n",
       "    .dataframe thead th {\n",
       "        text-align: right;\n",
       "    }\n",
       "</style>\n",
       "<table border=\"1\" class=\"dataframe\">\n",
       "  <thead>\n",
       "    <tr style=\"text-align: right;\">\n",
       "      <th></th>\n",
       "      <th>phone</th>\n",
       "      <th>millisSinceGpsEpoch</th>\n",
       "      <th>latDeg</th>\n",
       "      <th>lngDeg</th>\n",
       "    </tr>\n",
       "  </thead>\n",
       "  <tbody>\n",
       "    <tr>\n",
       "      <th>0</th>\n",
       "      <td>2020-05-15-US-MTV-1_Pixel4</td>\n",
       "      <td>1273608785432</td>\n",
       "      <td>37.416577</td>\n",
       "      <td>-122.082019</td>\n",
       "    </tr>\n",
       "    <tr>\n",
       "      <th>1</th>\n",
       "      <td>2020-05-15-US-MTV-1_Pixel4</td>\n",
       "      <td>1273608786432</td>\n",
       "      <td>37.416588</td>\n",
       "      <td>-122.082043</td>\n",
       "    </tr>\n",
       "    <tr>\n",
       "      <th>2</th>\n",
       "      <td>2020-05-15-US-MTV-1_Pixel4</td>\n",
       "      <td>1273608787432</td>\n",
       "      <td>37.416597</td>\n",
       "      <td>-122.082058</td>\n",
       "    </tr>\n",
       "    <tr>\n",
       "      <th>3</th>\n",
       "      <td>2020-05-15-US-MTV-1_Pixel4</td>\n",
       "      <td>1273608788432</td>\n",
       "      <td>37.416602</td>\n",
       "      <td>-122.082066</td>\n",
       "    </tr>\n",
       "    <tr>\n",
       "      <th>4</th>\n",
       "      <td>2020-05-15-US-MTV-1_Pixel4</td>\n",
       "      <td>1273608789432</td>\n",
       "      <td>37.416606</td>\n",
       "      <td>-122.082069</td>\n",
       "    </tr>\n",
       "    <tr>\n",
       "      <th>...</th>\n",
       "      <td>...</td>\n",
       "      <td>...</td>\n",
       "      <td>...</td>\n",
       "      <td>...</td>\n",
       "    </tr>\n",
       "    <tr>\n",
       "      <th>91481</th>\n",
       "      <td>2021-04-29-US-SJC-3_SamsungS20Ultra</td>\n",
       "      <td>1303763185000</td>\n",
       "      <td>37.334561</td>\n",
       "      <td>-121.899392</td>\n",
       "    </tr>\n",
       "    <tr>\n",
       "      <th>91482</th>\n",
       "      <td>2021-04-29-US-SJC-3_SamsungS20Ultra</td>\n",
       "      <td>1303763186000</td>\n",
       "      <td>37.334562</td>\n",
       "      <td>-121.899384</td>\n",
       "    </tr>\n",
       "    <tr>\n",
       "      <th>91483</th>\n",
       "      <td>2021-04-29-US-SJC-3_SamsungS20Ultra</td>\n",
       "      <td>1303763187000</td>\n",
       "      <td>37.334564</td>\n",
       "      <td>-121.899375</td>\n",
       "    </tr>\n",
       "    <tr>\n",
       "      <th>91484</th>\n",
       "      <td>2021-04-29-US-SJC-3_SamsungS20Ultra</td>\n",
       "      <td>1303763188000</td>\n",
       "      <td>37.334566</td>\n",
       "      <td>-121.899367</td>\n",
       "    </tr>\n",
       "    <tr>\n",
       "      <th>91485</th>\n",
       "      <td>2021-04-29-US-SJC-3_SamsungS20Ultra</td>\n",
       "      <td>1303763189000</td>\n",
       "      <td>37.334570</td>\n",
       "      <td>-121.899358</td>\n",
       "    </tr>\n",
       "  </tbody>\n",
       "</table>\n",
       "<p>91486 rows × 4 columns</p>\n",
       "</div>"
      ],
      "text/plain": [
       "                                     phone  millisSinceGpsEpoch     latDeg      lngDeg\n",
       "0               2020-05-15-US-MTV-1_Pixel4        1273608785432  37.416577 -122.082019\n",
       "1               2020-05-15-US-MTV-1_Pixel4        1273608786432  37.416588 -122.082043\n",
       "2               2020-05-15-US-MTV-1_Pixel4        1273608787432  37.416597 -122.082058\n",
       "3               2020-05-15-US-MTV-1_Pixel4        1273608788432  37.416602 -122.082066\n",
       "4               2020-05-15-US-MTV-1_Pixel4        1273608789432  37.416606 -122.082069\n",
       "...                                    ...                  ...        ...         ...\n",
       "91481  2021-04-29-US-SJC-3_SamsungS20Ultra        1303763185000  37.334561 -121.899392\n",
       "91482  2021-04-29-US-SJC-3_SamsungS20Ultra        1303763186000  37.334562 -121.899384\n",
       "91483  2021-04-29-US-SJC-3_SamsungS20Ultra        1303763187000  37.334564 -121.899375\n",
       "91484  2021-04-29-US-SJC-3_SamsungS20Ultra        1303763188000  37.334566 -121.899367\n",
       "91485  2021-04-29-US-SJC-3_SamsungS20Ultra        1303763189000  37.334570 -121.899358\n",
       "\n",
       "[91486 rows x 4 columns]"
      ]
     },
     "execution_count": 31,
     "metadata": {},
     "output_type": "execute_result"
    }
   ],
   "source": [
    "df_sub_lgb_best"
   ]
  },
  {
   "cell_type": "markdown",
   "id": "4587cdaa",
   "metadata": {
    "papermill": {
     "duration": 0.441567,
     "end_time": "2021-08-04T06:44:25.205889",
     "exception": false,
     "start_time": "2021-08-04T06:44:24.764322",
     "status": "completed"
    },
    "tags": []
   },
   "source": [
    "## lgb 16 12 16 13"
   ]
  },
  {
   "cell_type": "code",
   "execution_count": 32,
   "id": "2faa06f2",
   "metadata": {
    "execution": {
     "iopub.execute_input": "2021-08-04T06:44:26.090362Z",
     "iopub.status.busy": "2021-08-04T06:44:26.089263Z",
     "iopub.status.idle": "2021-08-04T06:44:26.131804Z",
     "shell.execute_reply": "2021-08-04T06:44:26.131369Z",
     "shell.execute_reply.started": "2021-08-04T03:37:04.970622Z"
    },
    "papermill": {
     "duration": 0.486728,
     "end_time": "2021-08-04T06:44:26.131928",
     "exception": false,
     "start_time": "2021-08-04T06:44:25.645200",
     "status": "completed"
    },
    "tags": []
   },
   "outputs": [],
   "source": [
    "test_data_forest = test_data.copy()"
   ]
  },
  {
   "cell_type": "code",
   "execution_count": 33,
   "id": "406ac716",
   "metadata": {
    "execution": {
     "iopub.execute_input": "2021-08-04T06:44:27.020925Z",
     "iopub.status.busy": "2021-08-04T06:44:27.020089Z",
     "iopub.status.idle": "2021-08-04T06:44:27.022465Z",
     "shell.execute_reply": "2021-08-04T06:44:27.022970Z",
     "shell.execute_reply.started": "2021-08-04T03:37:07.580145Z"
    },
    "papermill": {
     "duration": 0.445645,
     "end_time": "2021-08-04T06:44:27.023120",
     "exception": false,
     "start_time": "2021-08-04T06:44:26.577475",
     "status": "completed"
    },
    "tags": []
   },
   "outputs": [],
   "source": [
    "th_speed_normal = 16\n",
    "th_dist_normal = 12"
   ]
  },
  {
   "cell_type": "code",
   "execution_count": 34,
   "id": "6a12f330",
   "metadata": {
    "execution": {
     "iopub.execute_input": "2021-08-04T06:44:28.162617Z",
     "iopub.status.busy": "2021-08-04T06:44:28.161727Z",
     "iopub.status.idle": "2021-08-04T06:44:28.251827Z",
     "shell.execute_reply": "2021-08-04T06:44:28.251371Z",
     "shell.execute_reply.started": "2021-08-04T03:37:12.132211Z"
    },
    "papermill": {
     "duration": 0.698505,
     "end_time": "2021-08-04T06:44:28.251961",
     "exception": false,
     "start_time": "2021-08-04T06:44:27.553456",
     "status": "completed"
    },
    "tags": []
   },
   "outputs": [],
   "source": [
    "regression = test_data_forest.loc[((test['pred_dist_between_baseline_and_truth'] <= th_dist_normal) & (test['pred_speed_between_baseline_and_truth'] <= th_speed_normal))].copy()"
   ]
  },
  {
   "cell_type": "code",
   "execution_count": 35,
   "id": "6781a9a6",
   "metadata": {
    "execution": {
     "iopub.execute_input": "2021-08-04T06:44:29.135315Z",
     "iopub.status.busy": "2021-08-04T06:44:29.134741Z",
     "iopub.status.idle": "2021-08-04T06:44:29.343506Z",
     "shell.execute_reply": "2021-08-04T06:44:29.344019Z",
     "shell.execute_reply.started": "2021-08-04T03:37:14.512563Z"
    },
    "papermill": {
     "duration": 0.652305,
     "end_time": "2021-08-04T06:44:29.344222",
     "exception": false,
     "start_time": "2021-08-04T06:44:28.691917",
     "status": "completed"
    },
    "tags": []
   },
   "outputs": [],
   "source": [
    "model_lat_forest = joblib.load('../input/fork-of-lgb-regression-16-12-16-13/model_lat_16_12_16_13.pkl')\n",
    "model_lng_forest = joblib.load('../input/fork-of-lgb-regression-16-12-16-13/model_lng_16_12_16_13.pkl')"
   ]
  },
  {
   "cell_type": "code",
   "execution_count": 36,
   "id": "9a21e535",
   "metadata": {
    "execution": {
     "iopub.execute_input": "2021-08-04T06:44:30.247476Z",
     "iopub.status.busy": "2021-08-04T06:44:30.246276Z",
     "iopub.status.idle": "2021-08-04T06:44:34.818004Z",
     "shell.execute_reply": "2021-08-04T06:44:34.818567Z",
     "shell.execute_reply.started": "2021-08-04T03:37:16.031134Z"
    },
    "papermill": {
     "duration": 5.033424,
     "end_time": "2021-08-04T06:44:34.818762",
     "exception": false,
     "start_time": "2021-08-04T06:44:29.785338",
     "status": "completed"
    },
    "tags": []
   },
   "outputs": [],
   "source": [
    "dis_lat = model_lat_forest.predict(regression[feature_cols])\n",
    "dis_lng = model_lng_forest.predict(regression[feature_cols])"
   ]
  },
  {
   "cell_type": "code",
   "execution_count": 37,
   "id": "e0bfc8b0",
   "metadata": {
    "execution": {
     "iopub.execute_input": "2021-08-04T06:44:35.773530Z",
     "iopub.status.busy": "2021-08-04T06:44:35.772645Z",
     "iopub.status.idle": "2021-08-04T06:44:35.781947Z",
     "shell.execute_reply": "2021-08-04T06:44:35.782326Z",
     "shell.execute_reply.started": "2021-08-04T03:37:20.464475Z"
    },
    "papermill": {
     "duration": 0.48681,
     "end_time": "2021-08-04T06:44:35.782466",
     "exception": false,
     "start_time": "2021-08-04T06:44:35.295656",
     "status": "completed"
    },
    "tags": []
   },
   "outputs": [],
   "source": [
    "test_data_forest.loc[((test['pred_dist_between_baseline_and_truth'] <= th_dist_normal) & (test['pred_speed_between_baseline_and_truth'] <= th_speed_normal)), 'latDeg'] -= dis_lat\n",
    "test_data_forest.loc[((test['pred_dist_between_baseline_and_truth'] <= th_dist_normal) & (test['pred_speed_between_baseline_and_truth'] <= th_speed_normal)), 'lngDeg'] -= dis_lng"
   ]
  },
  {
   "cell_type": "code",
   "execution_count": 38,
   "id": "65b2473c",
   "metadata": {
    "execution": {
     "iopub.execute_input": "2021-08-04T06:44:36.733726Z",
     "iopub.status.busy": "2021-08-04T06:44:36.732562Z",
     "iopub.status.idle": "2021-08-04T06:44:36.781860Z",
     "shell.execute_reply": "2021-08-04T06:44:36.781069Z",
     "shell.execute_reply.started": "2021-08-04T03:37:23.226789Z"
    },
    "papermill": {
     "duration": 0.526718,
     "end_time": "2021-08-04T06:44:36.782043",
     "exception": false,
     "start_time": "2021-08-04T06:44:36.255325",
     "status": "completed"
    },
    "tags": []
   },
   "outputs": [
    {
     "name": "stdout",
     "output_type": "stream",
     "text": [
      "2606\n"
     ]
    }
   ],
   "source": [
    "kf = KF()\n",
    "\n",
    "tmp = test_data_forest.copy()\n",
    "\n",
    "th_speed_abnormal = 16\n",
    "th_dist_abnormal = 13\n",
    "\n",
    "# th_speed_abnormal = th_speed_normal\n",
    "# th_dist_abnormal = th_dist_normal\n",
    "\n",
    "print(len(tmp.loc[((test['pred_dist_between_baseline_and_truth'] > th_dist_abnormal) | (test['pred_speed_between_baseline_and_truth'] > th_speed_abnormal)), :]))\n",
    "tmp.loc[((test['pred_dist_between_baseline_and_truth'] > th_dist_abnormal) | (test['pred_speed_between_baseline_and_truth'] > th_speed_abnormal)), ['latDeg', 'lngDeg']] = np.nan"
   ]
  },
  {
   "cell_type": "code",
   "execution_count": 39,
   "id": "b9d33aeb",
   "metadata": {
    "execution": {
     "iopub.execute_input": "2021-08-04T06:44:37.740725Z",
     "iopub.status.busy": "2021-08-04T06:44:37.739871Z",
     "iopub.status.idle": "2021-08-04T06:45:26.549921Z",
     "shell.execute_reply": "2021-08-04T06:45:26.548943Z",
     "shell.execute_reply.started": "2021-08-04T03:37:25.490444Z"
    },
    "papermill": {
     "duration": 49.292729,
     "end_time": "2021-08-04T06:45:26.550080",
     "exception": false,
     "start_time": "2021-08-04T06:44:37.257351",
     "status": "completed"
    },
    "tags": []
   },
   "outputs": [
    {
     "name": "stderr",
     "output_type": "stream",
     "text": [
      "100%|██████████| 48/48 [00:43<00:00,  1.10it/s]\n"
     ]
    }
   ],
   "source": [
    "kf.apply_kf_smoothing(tmp, \"\")\n",
    "smoothed_tmp = mean_with_other_phones(tmp)"
   ]
  },
  {
   "cell_type": "code",
   "execution_count": 40,
   "id": "f2f869c3",
   "metadata": {
    "execution": {
     "iopub.execute_input": "2021-08-04T06:45:27.506822Z",
     "iopub.status.busy": "2021-08-04T06:45:27.505992Z",
     "iopub.status.idle": "2021-08-04T06:45:27.564197Z",
     "shell.execute_reply": "2021-08-04T06:45:27.565132Z",
     "shell.execute_reply.started": "2021-08-04T03:38:16.466307Z"
    },
    "papermill": {
     "duration": 0.554536,
     "end_time": "2021-08-04T06:45:27.565367",
     "exception": false,
     "start_time": "2021-08-04T06:45:27.010831",
     "status": "completed"
    },
    "tags": []
   },
   "outputs": [],
   "source": [
    "data_sub1 = data_sub.copy()\n",
    "df_sub_forest = data_sub1[['phone', 'millisSinceGpsEpoch']].merge(smoothed_tmp[['phone', 'millisSinceGpsEpoch', 'latDeg', 'lngDeg']], on=['phone', 'millisSinceGpsEpoch'], how='inner')"
   ]
  },
  {
   "cell_type": "code",
   "execution_count": 41,
   "id": "552e7c38",
   "metadata": {
    "execution": {
     "iopub.execute_input": "2021-08-04T06:45:28.911067Z",
     "iopub.status.busy": "2021-08-04T06:45:28.910091Z",
     "iopub.status.idle": "2021-08-04T06:45:28.915248Z",
     "shell.execute_reply": "2021-08-04T06:45:28.914662Z",
     "shell.execute_reply.started": "2021-08-04T03:38:16.511814Z"
    },
    "papermill": {
     "duration": 0.595324,
     "end_time": "2021-08-04T06:45:28.915388",
     "exception": false,
     "start_time": "2021-08-04T06:45:28.320064",
     "status": "completed"
    },
    "tags": []
   },
   "outputs": [
    {
     "data": {
      "text/html": [
       "<div>\n",
       "<style scoped>\n",
       "    .dataframe tbody tr th:only-of-type {\n",
       "        vertical-align: middle;\n",
       "    }\n",
       "\n",
       "    .dataframe tbody tr th {\n",
       "        vertical-align: top;\n",
       "    }\n",
       "\n",
       "    .dataframe thead th {\n",
       "        text-align: right;\n",
       "    }\n",
       "</style>\n",
       "<table border=\"1\" class=\"dataframe\">\n",
       "  <thead>\n",
       "    <tr style=\"text-align: right;\">\n",
       "      <th></th>\n",
       "      <th>phone</th>\n",
       "      <th>millisSinceGpsEpoch</th>\n",
       "      <th>latDeg</th>\n",
       "      <th>lngDeg</th>\n",
       "    </tr>\n",
       "  </thead>\n",
       "  <tbody>\n",
       "    <tr>\n",
       "      <th>0</th>\n",
       "      <td>2020-05-15-US-MTV-1_Pixel4</td>\n",
       "      <td>1273608785432</td>\n",
       "      <td>37.416579</td>\n",
       "      <td>-122.082018</td>\n",
       "    </tr>\n",
       "    <tr>\n",
       "      <th>1</th>\n",
       "      <td>2020-05-15-US-MTV-1_Pixel4</td>\n",
       "      <td>1273608786432</td>\n",
       "      <td>37.416589</td>\n",
       "      <td>-122.082042</td>\n",
       "    </tr>\n",
       "    <tr>\n",
       "      <th>2</th>\n",
       "      <td>2020-05-15-US-MTV-1_Pixel4</td>\n",
       "      <td>1273608787432</td>\n",
       "      <td>37.416596</td>\n",
       "      <td>-122.082058</td>\n",
       "    </tr>\n",
       "    <tr>\n",
       "      <th>3</th>\n",
       "      <td>2020-05-15-US-MTV-1_Pixel4</td>\n",
       "      <td>1273608788432</td>\n",
       "      <td>37.416600</td>\n",
       "      <td>-122.082067</td>\n",
       "    </tr>\n",
       "    <tr>\n",
       "      <th>4</th>\n",
       "      <td>2020-05-15-US-MTV-1_Pixel4</td>\n",
       "      <td>1273608789432</td>\n",
       "      <td>37.416603</td>\n",
       "      <td>-122.082072</td>\n",
       "    </tr>\n",
       "    <tr>\n",
       "      <th>...</th>\n",
       "      <td>...</td>\n",
       "      <td>...</td>\n",
       "      <td>...</td>\n",
       "      <td>...</td>\n",
       "    </tr>\n",
       "    <tr>\n",
       "      <th>91481</th>\n",
       "      <td>2021-04-29-US-SJC-3_SamsungS20Ultra</td>\n",
       "      <td>1303763185000</td>\n",
       "      <td>37.334560</td>\n",
       "      <td>-121.899391</td>\n",
       "    </tr>\n",
       "    <tr>\n",
       "      <th>91482</th>\n",
       "      <td>2021-04-29-US-SJC-3_SamsungS20Ultra</td>\n",
       "      <td>1303763186000</td>\n",
       "      <td>37.334561</td>\n",
       "      <td>-121.899382</td>\n",
       "    </tr>\n",
       "    <tr>\n",
       "      <th>91483</th>\n",
       "      <td>2021-04-29-US-SJC-3_SamsungS20Ultra</td>\n",
       "      <td>1303763187000</td>\n",
       "      <td>37.334564</td>\n",
       "      <td>-121.899374</td>\n",
       "    </tr>\n",
       "    <tr>\n",
       "      <th>91484</th>\n",
       "      <td>2021-04-29-US-SJC-3_SamsungS20Ultra</td>\n",
       "      <td>1303763188000</td>\n",
       "      <td>37.334566</td>\n",
       "      <td>-121.899366</td>\n",
       "    </tr>\n",
       "    <tr>\n",
       "      <th>91485</th>\n",
       "      <td>2021-04-29-US-SJC-3_SamsungS20Ultra</td>\n",
       "      <td>1303763189000</td>\n",
       "      <td>37.334570</td>\n",
       "      <td>-121.899357</td>\n",
       "    </tr>\n",
       "  </tbody>\n",
       "</table>\n",
       "<p>91486 rows × 4 columns</p>\n",
       "</div>"
      ],
      "text/plain": [
       "                                     phone  millisSinceGpsEpoch     latDeg      lngDeg\n",
       "0               2020-05-15-US-MTV-1_Pixel4        1273608785432  37.416579 -122.082018\n",
       "1               2020-05-15-US-MTV-1_Pixel4        1273608786432  37.416589 -122.082042\n",
       "2               2020-05-15-US-MTV-1_Pixel4        1273608787432  37.416596 -122.082058\n",
       "3               2020-05-15-US-MTV-1_Pixel4        1273608788432  37.416600 -122.082067\n",
       "4               2020-05-15-US-MTV-1_Pixel4        1273608789432  37.416603 -122.082072\n",
       "...                                    ...                  ...        ...         ...\n",
       "91481  2021-04-29-US-SJC-3_SamsungS20Ultra        1303763185000  37.334560 -121.899391\n",
       "91482  2021-04-29-US-SJC-3_SamsungS20Ultra        1303763186000  37.334561 -121.899382\n",
       "91483  2021-04-29-US-SJC-3_SamsungS20Ultra        1303763187000  37.334564 -121.899374\n",
       "91484  2021-04-29-US-SJC-3_SamsungS20Ultra        1303763188000  37.334566 -121.899366\n",
       "91485  2021-04-29-US-SJC-3_SamsungS20Ultra        1303763189000  37.334570 -121.899357\n",
       "\n",
       "[91486 rows x 4 columns]"
      ]
     },
     "execution_count": 41,
     "metadata": {},
     "output_type": "execute_result"
    }
   ],
   "source": [
    "df_sub_forest"
   ]
  },
  {
   "cell_type": "markdown",
   "id": "3337a534",
   "metadata": {
    "papermill": {
     "duration": 0.469398,
     "end_time": "2021-08-04T06:45:29.856794",
     "exception": false,
     "start_time": "2021-08-04T06:45:29.387396",
     "status": "completed"
    },
    "tags": []
   },
   "source": [
    "## lgb 16 13 16 13"
   ]
  },
  {
   "cell_type": "code",
   "execution_count": 42,
   "id": "a286bde3",
   "metadata": {
    "execution": {
     "iopub.execute_input": "2021-08-04T06:45:30.788454Z",
     "iopub.status.busy": "2021-08-04T06:45:30.787278Z",
     "iopub.status.idle": "2021-08-04T06:45:30.827544Z",
     "shell.execute_reply": "2021-08-04T06:45:30.827073Z",
     "shell.execute_reply.started": "2021-08-04T03:38:23.821545Z"
    },
    "papermill": {
     "duration": 0.499464,
     "end_time": "2021-08-04T06:45:30.827670",
     "exception": false,
     "start_time": "2021-08-04T06:45:30.328206",
     "status": "completed"
    },
    "tags": []
   },
   "outputs": [],
   "source": [
    "test_data_lgbworse = test_data.copy()"
   ]
  },
  {
   "cell_type": "code",
   "execution_count": 43,
   "id": "a45306a8",
   "metadata": {
    "execution": {
     "iopub.execute_input": "2021-08-04T06:45:31.738426Z",
     "iopub.status.busy": "2021-08-04T06:45:31.737847Z",
     "iopub.status.idle": "2021-08-04T06:45:31.741979Z",
     "shell.execute_reply": "2021-08-04T06:45:31.741512Z",
     "shell.execute_reply.started": "2021-08-04T03:38:26.339968Z"
    },
    "papermill": {
     "duration": 0.461199,
     "end_time": "2021-08-04T06:45:31.742089",
     "exception": false,
     "start_time": "2021-08-04T06:45:31.280890",
     "status": "completed"
    },
    "tags": []
   },
   "outputs": [],
   "source": [
    "th_speed_normal = 16\n",
    "th_dist_normal = 13"
   ]
  },
  {
   "cell_type": "code",
   "execution_count": 44,
   "id": "a05da90c",
   "metadata": {
    "execution": {
     "iopub.execute_input": "2021-08-04T06:45:32.690356Z",
     "iopub.status.busy": "2021-08-04T06:45:32.689512Z",
     "iopub.status.idle": "2021-08-04T06:45:32.776626Z",
     "shell.execute_reply": "2021-08-04T06:45:32.776123Z",
     "shell.execute_reply.started": "2021-08-04T03:38:28.810839Z"
    },
    "papermill": {
     "duration": 0.581454,
     "end_time": "2021-08-04T06:45:32.776758",
     "exception": false,
     "start_time": "2021-08-04T06:45:32.195304",
     "status": "completed"
    },
    "tags": []
   },
   "outputs": [],
   "source": [
    "regression = test_data_lgbworse.loc[((test['pred_dist_between_baseline_and_truth'] <= th_dist_normal) & (test['pred_speed_between_baseline_and_truth'] <= th_speed_normal))].copy()"
   ]
  },
  {
   "cell_type": "code",
   "execution_count": 45,
   "id": "9dd3c442",
   "metadata": {
    "execution": {
     "iopub.execute_input": "2021-08-04T06:45:33.882436Z",
     "iopub.status.busy": "2021-08-04T06:45:33.881692Z",
     "iopub.status.idle": "2021-08-04T06:45:34.031682Z",
     "shell.execute_reply": "2021-08-04T06:45:34.032281Z",
     "shell.execute_reply.started": "2021-08-04T03:38:32.219394Z"
    },
    "papermill": {
     "duration": 0.802991,
     "end_time": "2021-08-04T06:45:34.032449",
     "exception": false,
     "start_time": "2021-08-04T06:45:33.229458",
     "status": "completed"
    },
    "tags": []
   },
   "outputs": [],
   "source": [
    "model_lat_lgbworse = joblib.load('../input/lgb-regression-16-13-16-13/model_lat_16_13_16_13.pkl')\n",
    "model_lng_lgbworse = joblib.load('../input/lgb-regression-16-13-16-13/model_lng_16_13_16_13.pkl')"
   ]
  },
  {
   "cell_type": "code",
   "execution_count": 46,
   "id": "9f143716",
   "metadata": {
    "execution": {
     "iopub.execute_input": "2021-08-04T06:45:34.971335Z",
     "iopub.status.busy": "2021-08-04T06:45:34.970083Z",
     "iopub.status.idle": "2021-08-04T06:45:39.852415Z",
     "shell.execute_reply": "2021-08-04T06:45:39.852828Z",
     "shell.execute_reply.started": "2021-08-04T03:38:35.547393Z"
    },
    "papermill": {
     "duration": 5.355487,
     "end_time": "2021-08-04T06:45:39.853001",
     "exception": false,
     "start_time": "2021-08-04T06:45:34.497514",
     "status": "completed"
    },
    "tags": []
   },
   "outputs": [],
   "source": [
    "dis_lat = model_lat_lgbworse.predict(regression[feature_cols])\n",
    "dis_lng = model_lng_lgbworse.predict(regression[feature_cols])"
   ]
  },
  {
   "cell_type": "code",
   "execution_count": 47,
   "id": "d55f1a48",
   "metadata": {
    "execution": {
     "iopub.execute_input": "2021-08-04T06:45:40.791084Z",
     "iopub.status.busy": "2021-08-04T06:45:40.790223Z",
     "iopub.status.idle": "2021-08-04T06:45:40.800663Z",
     "shell.execute_reply": "2021-08-04T06:45:40.800252Z",
     "shell.execute_reply.started": "2021-08-04T03:38:41.859492Z"
    },
    "papermill": {
     "duration": 0.493785,
     "end_time": "2021-08-04T06:45:40.800778",
     "exception": false,
     "start_time": "2021-08-04T06:45:40.306993",
     "status": "completed"
    },
    "tags": []
   },
   "outputs": [],
   "source": [
    "test_data_lgbworse.loc[((test['pred_dist_between_baseline_and_truth'] <= th_dist_normal) & (test['pred_speed_between_baseline_and_truth'] <= th_speed_normal)), 'latDeg'] -= dis_lat\n",
    "test_data_lgbworse.loc[((test['pred_dist_between_baseline_and_truth'] <= th_dist_normal) & (test['pred_speed_between_baseline_and_truth'] <= th_speed_normal)), 'lngDeg'] -= dis_lng"
   ]
  },
  {
   "cell_type": "code",
   "execution_count": 48,
   "id": "ee0e301e",
   "metadata": {
    "execution": {
     "iopub.execute_input": "2021-08-04T06:45:41.779336Z",
     "iopub.status.busy": "2021-08-04T06:45:41.778170Z",
     "iopub.status.idle": "2021-08-04T06:45:41.825990Z",
     "shell.execute_reply": "2021-08-04T06:45:41.825513Z",
     "shell.execute_reply.started": "2021-08-04T03:38:41.877278Z"
    },
    "papermill": {
     "duration": 0.542217,
     "end_time": "2021-08-04T06:45:41.826128",
     "exception": false,
     "start_time": "2021-08-04T06:45:41.283911",
     "status": "completed"
    },
    "tags": []
   },
   "outputs": [
    {
     "name": "stdout",
     "output_type": "stream",
     "text": [
      "2606\n"
     ]
    }
   ],
   "source": [
    "kf = KF()\n",
    "\n",
    "tmp = test_data_lgbworse.copy()\n",
    "\n",
    "th_speed_abnormal = 16\n",
    "th_dist_abnormal = 13\n",
    "\n",
    "# th_speed_abnormal = th_speed_normal\n",
    "# th_dist_abnormal = th_dist_normal\n",
    "\n",
    "print(len(tmp.loc[((test['pred_dist_between_baseline_and_truth'] > th_dist_abnormal) | (test['pred_speed_between_baseline_and_truth'] > th_speed_abnormal)), :]))\n",
    "tmp.loc[((test['pred_dist_between_baseline_and_truth'] > th_dist_abnormal) | (test['pred_speed_between_baseline_and_truth'] > th_speed_abnormal)), ['latDeg', 'lngDeg']] = np.nan"
   ]
  },
  {
   "cell_type": "code",
   "execution_count": 49,
   "id": "48acb5a4",
   "metadata": {
    "execution": {
     "iopub.execute_input": "2021-08-04T06:45:42.811851Z",
     "iopub.status.busy": "2021-08-04T06:45:42.811008Z",
     "iopub.status.idle": "2021-08-04T06:46:34.669606Z",
     "shell.execute_reply": "2021-08-04T06:46:34.669086Z",
     "shell.execute_reply.started": "2021-08-04T03:38:45.49821Z"
    },
    "papermill": {
     "duration": 52.356923,
     "end_time": "2021-08-04T06:46:34.669753",
     "exception": false,
     "start_time": "2021-08-04T06:45:42.312830",
     "status": "completed"
    },
    "tags": []
   },
   "outputs": [
    {
     "name": "stderr",
     "output_type": "stream",
     "text": [
      "100%|██████████| 48/48 [00:46<00:00,  1.03it/s]\n"
     ]
    }
   ],
   "source": [
    "kf.apply_kf_smoothing(tmp, \"\")\n",
    "smoothed_tmp = mean_with_other_phones(tmp)"
   ]
  },
  {
   "cell_type": "code",
   "execution_count": 50,
   "id": "09899b97",
   "metadata": {
    "execution": {
     "iopub.execute_input": "2021-08-04T06:46:35.676874Z",
     "iopub.status.busy": "2021-08-04T06:46:35.676215Z",
     "iopub.status.idle": "2021-08-04T06:46:35.719948Z",
     "shell.execute_reply": "2021-08-04T06:46:35.719504Z",
     "shell.execute_reply.started": "2021-08-04T03:39:33.349405Z"
    },
    "papermill": {
     "duration": 0.546975,
     "end_time": "2021-08-04T06:46:35.720071",
     "exception": false,
     "start_time": "2021-08-04T06:46:35.173096",
     "status": "completed"
    },
    "tags": []
   },
   "outputs": [],
   "source": [
    "data_sub2 = data_sub.copy()\n",
    "df_sub_lgbworse = data_sub2[['phone', 'millisSinceGpsEpoch']].merge(smoothed_tmp[['phone', 'millisSinceGpsEpoch', 'latDeg', 'lngDeg']], on=['phone', 'millisSinceGpsEpoch'], how='inner')"
   ]
  },
  {
   "cell_type": "code",
   "execution_count": 51,
   "id": "0b1d0b3d",
   "metadata": {
    "execution": {
     "iopub.execute_input": "2021-08-04T06:46:36.732833Z",
     "iopub.status.busy": "2021-08-04T06:46:36.732133Z",
     "iopub.status.idle": "2021-08-04T06:46:36.735564Z",
     "shell.execute_reply": "2021-08-04T06:46:36.736016Z",
     "shell.execute_reply.started": "2021-08-04T03:39:33.394928Z"
    },
    "papermill": {
     "duration": 0.515211,
     "end_time": "2021-08-04T06:46:36.736188",
     "exception": false,
     "start_time": "2021-08-04T06:46:36.220977",
     "status": "completed"
    },
    "tags": []
   },
   "outputs": [
    {
     "data": {
      "text/html": [
       "<div>\n",
       "<style scoped>\n",
       "    .dataframe tbody tr th:only-of-type {\n",
       "        vertical-align: middle;\n",
       "    }\n",
       "\n",
       "    .dataframe tbody tr th {\n",
       "        vertical-align: top;\n",
       "    }\n",
       "\n",
       "    .dataframe thead th {\n",
       "        text-align: right;\n",
       "    }\n",
       "</style>\n",
       "<table border=\"1\" class=\"dataframe\">\n",
       "  <thead>\n",
       "    <tr style=\"text-align: right;\">\n",
       "      <th></th>\n",
       "      <th>phone</th>\n",
       "      <th>millisSinceGpsEpoch</th>\n",
       "      <th>latDeg</th>\n",
       "      <th>lngDeg</th>\n",
       "    </tr>\n",
       "  </thead>\n",
       "  <tbody>\n",
       "    <tr>\n",
       "      <th>0</th>\n",
       "      <td>2020-05-15-US-MTV-1_Pixel4</td>\n",
       "      <td>1273608785432</td>\n",
       "      <td>37.416577</td>\n",
       "      <td>-122.082018</td>\n",
       "    </tr>\n",
       "    <tr>\n",
       "      <th>1</th>\n",
       "      <td>2020-05-15-US-MTV-1_Pixel4</td>\n",
       "      <td>1273608786432</td>\n",
       "      <td>37.416588</td>\n",
       "      <td>-122.082043</td>\n",
       "    </tr>\n",
       "    <tr>\n",
       "      <th>2</th>\n",
       "      <td>2020-05-15-US-MTV-1_Pixel4</td>\n",
       "      <td>1273608787432</td>\n",
       "      <td>37.416596</td>\n",
       "      <td>-122.082058</td>\n",
       "    </tr>\n",
       "    <tr>\n",
       "      <th>3</th>\n",
       "      <td>2020-05-15-US-MTV-1_Pixel4</td>\n",
       "      <td>1273608788432</td>\n",
       "      <td>37.416600</td>\n",
       "      <td>-122.082067</td>\n",
       "    </tr>\n",
       "    <tr>\n",
       "      <th>4</th>\n",
       "      <td>2020-05-15-US-MTV-1_Pixel4</td>\n",
       "      <td>1273608789432</td>\n",
       "      <td>37.416603</td>\n",
       "      <td>-122.082071</td>\n",
       "    </tr>\n",
       "    <tr>\n",
       "      <th>...</th>\n",
       "      <td>...</td>\n",
       "      <td>...</td>\n",
       "      <td>...</td>\n",
       "      <td>...</td>\n",
       "    </tr>\n",
       "    <tr>\n",
       "      <th>91481</th>\n",
       "      <td>2021-04-29-US-SJC-3_SamsungS20Ultra</td>\n",
       "      <td>1303763185000</td>\n",
       "      <td>37.334560</td>\n",
       "      <td>-121.899390</td>\n",
       "    </tr>\n",
       "    <tr>\n",
       "      <th>91482</th>\n",
       "      <td>2021-04-29-US-SJC-3_SamsungS20Ultra</td>\n",
       "      <td>1303763186000</td>\n",
       "      <td>37.334562</td>\n",
       "      <td>-121.899381</td>\n",
       "    </tr>\n",
       "    <tr>\n",
       "      <th>91483</th>\n",
       "      <td>2021-04-29-US-SJC-3_SamsungS20Ultra</td>\n",
       "      <td>1303763187000</td>\n",
       "      <td>37.334564</td>\n",
       "      <td>-121.899373</td>\n",
       "    </tr>\n",
       "    <tr>\n",
       "      <th>91484</th>\n",
       "      <td>2021-04-29-US-SJC-3_SamsungS20Ultra</td>\n",
       "      <td>1303763188000</td>\n",
       "      <td>37.334567</td>\n",
       "      <td>-121.899365</td>\n",
       "    </tr>\n",
       "    <tr>\n",
       "      <th>91485</th>\n",
       "      <td>2021-04-29-US-SJC-3_SamsungS20Ultra</td>\n",
       "      <td>1303763189000</td>\n",
       "      <td>37.334572</td>\n",
       "      <td>-121.899356</td>\n",
       "    </tr>\n",
       "  </tbody>\n",
       "</table>\n",
       "<p>91486 rows × 4 columns</p>\n",
       "</div>"
      ],
      "text/plain": [
       "                                     phone  millisSinceGpsEpoch     latDeg      lngDeg\n",
       "0               2020-05-15-US-MTV-1_Pixel4        1273608785432  37.416577 -122.082018\n",
       "1               2020-05-15-US-MTV-1_Pixel4        1273608786432  37.416588 -122.082043\n",
       "2               2020-05-15-US-MTV-1_Pixel4        1273608787432  37.416596 -122.082058\n",
       "3               2020-05-15-US-MTV-1_Pixel4        1273608788432  37.416600 -122.082067\n",
       "4               2020-05-15-US-MTV-1_Pixel4        1273608789432  37.416603 -122.082071\n",
       "...                                    ...                  ...        ...         ...\n",
       "91481  2021-04-29-US-SJC-3_SamsungS20Ultra        1303763185000  37.334560 -121.899390\n",
       "91482  2021-04-29-US-SJC-3_SamsungS20Ultra        1303763186000  37.334562 -121.899381\n",
       "91483  2021-04-29-US-SJC-3_SamsungS20Ultra        1303763187000  37.334564 -121.899373\n",
       "91484  2021-04-29-US-SJC-3_SamsungS20Ultra        1303763188000  37.334567 -121.899365\n",
       "91485  2021-04-29-US-SJC-3_SamsungS20Ultra        1303763189000  37.334572 -121.899356\n",
       "\n",
       "[91486 rows x 4 columns]"
      ]
     },
     "execution_count": 51,
     "metadata": {},
     "output_type": "execute_result"
    }
   ],
   "source": [
    "df_sub_lgbworse"
   ]
  },
  {
   "cell_type": "code",
   "execution_count": 52,
   "id": "7eaef720",
   "metadata": {
    "execution": {
     "iopub.execute_input": "2021-08-04T06:46:37.771942Z",
     "iopub.status.busy": "2021-08-04T06:46:37.770962Z",
     "iopub.status.idle": "2021-08-04T06:46:37.773892Z",
     "shell.execute_reply": "2021-08-04T06:46:37.773443Z",
     "shell.execute_reply.started": "2021-08-04T01:30:02.752739Z"
    },
    "papermill": {
     "duration": 0.525476,
     "end_time": "2021-08-04T06:46:37.774017",
     "exception": false,
     "start_time": "2021-08-04T06:46:37.248541",
     "status": "completed"
    },
    "tags": []
   },
   "outputs": [],
   "source": [
    "# df_sub2 = df_sub.copy()\n",
    "# df_sub2['latDeg'] = (df_sub['latDeg'] **2 * 0.5 + df_sub1['latDeg'] **2 * 0.5)**0.5\n",
    "# df_sub2['lngDeg'] = -(df_sub['lngDeg'] **2 * 0.5 + df_sub1['lngDeg'] **2 * 0.5)**0.5"
   ]
  },
  {
   "cell_type": "markdown",
   "id": "e945c060",
   "metadata": {
    "papermill": {
     "duration": 0.472879,
     "end_time": "2021-08-04T06:46:38.752414",
     "exception": false,
     "start_time": "2021-08-04T06:46:38.279535",
     "status": "completed"
    },
    "tags": []
   },
   "source": [
    "# blend 融合"
   ]
  },
  {
   "cell_type": "code",
   "execution_count": 53,
   "id": "0ef8a135",
   "metadata": {
    "execution": {
     "iopub.execute_input": "2021-08-04T06:46:39.884460Z",
     "iopub.status.busy": "2021-08-04T06:46:39.883662Z",
     "iopub.status.idle": "2021-08-04T06:46:39.887017Z",
     "shell.execute_reply": "2021-08-04T06:46:39.887609Z",
     "shell.execute_reply.started": "2021-08-04T03:40:03.370542Z"
    },
    "papermill": {
     "duration": 0.669303,
     "end_time": "2021-08-04T06:46:39.887802",
     "exception": false,
     "start_time": "2021-08-04T06:46:39.218499",
     "status": "completed"
    },
    "tags": []
   },
   "outputs": [],
   "source": [
    "# gsdc_position_shift = pd.read_csv('./结果保存/5.002.csv')\n",
    "# gsdc_phones_mean_prediction = pd.read_csv('./结果保存/4.936.csv')\n",
    "# google_smartphone_decimeter_challenge = pd.read_csv('./结果保存/4.970.csv')\n",
    "gsdc_position_shift = df_sub_forest\n",
    "gsdc_phones_mean_prediction = df_sub_lgb_best\n",
    "google_smartphone_decimeter_challenge = df_sub_lgbworse"
   ]
  },
  {
   "cell_type": "code",
   "execution_count": 54,
   "id": "db1e7431",
   "metadata": {
    "execution": {
     "iopub.execute_input": "2021-08-04T06:46:41.230215Z",
     "iopub.status.busy": "2021-08-04T06:46:41.229421Z",
     "iopub.status.idle": "2021-08-04T06:46:41.242707Z",
     "shell.execute_reply": "2021-08-04T06:46:41.243666Z",
     "shell.execute_reply.started": "2021-08-04T03:40:11.739637Z"
    },
    "papermill": {
     "duration": 0.837415,
     "end_time": "2021-08-04T06:46:41.243853",
     "exception": false,
     "start_time": "2021-08-04T06:46:40.406438",
     "status": "completed"
    },
    "tags": []
   },
   "outputs": [],
   "source": [
    "blend_weights_lat = {\n",
    "    \"gsdc-phones-mean-prediction\": (7.5 + 7.625) / 2 + 0.0625 + 0.0625/2 - 0.0625/4 + 2*0.0625/8,\n",
    "    \"device-eda-interpolate-by-removing-device-en-ja\":  (2.25 + 2.5) / 2 + (2.25 + 2.5) / 4,\n",
    "    \"gsdc-position-shift\":  0.75 - 0.125,\n",
    "}\n",
    "\n",
    "\n",
    "blend_weights_long = {\n",
    "    \"gsdc-phones-mean-prediction\": (7.5 + 7.625) / 2 + 0.0625  + 0.0625/2 - 0.0625/4 + 0.0625/8,\n",
    "    \"device-eda-interpolate-by-removing-device-en-ja\":(2.25 + 2.5) / 2 + (2.25 + 2.5) / 4,\n",
    "    \"gsdc-position-shift\": 0.75 - 0.125,\n",
    "}\n",
    "\n",
    "\n",
    "lat_norm = sum(blend_weights_lat.values())\n",
    "long_norm = sum(blend_weights_long.values())\n",
    "\n",
    "blend = gsdc_phones_mean_prediction\n",
    "# blend['millisSinceGpsEpoch'] = (\n",
    "#     gsdc_position_shift['millisSinceGpsEpoch'] * blend_weights[\"gsdc-position-shift\"]/norm +\n",
    "#     gsdc_phones_mean_prediction['millisSinceGpsEpoch'] * blend_weights[\"gsdc-phones-mean-prediction\"]/norm +\n",
    "#     google_smartphone_decimeter_challenge['millisSinceGpsEpoch'] * blend_weights[\"device-eda-interpolate-by-removing-device-en-ja\"]/norm\n",
    "# )\n",
    "\n",
    "\n",
    "blend['latDeg'] = (\n",
    "    gsdc_position_shift['latDeg'] **2 * blend_weights_lat[\"gsdc-position-shift\"]/lat_norm +\n",
    "    gsdc_phones_mean_prediction['latDeg'] **2 * blend_weights_lat[\"gsdc-phones-mean-prediction\"]/lat_norm +\n",
    "    google_smartphone_decimeter_challenge['latDeg']**2  * blend_weights_lat[\"device-eda-interpolate-by-removing-device-en-ja\"]/lat_norm \n",
    ")**0.5\n",
    "\n",
    "blend['lngDeg'] = (\n",
    "    gsdc_position_shift['lngDeg'] * blend_weights_long[\"gsdc-position-shift\"]/long_norm +\n",
    "    gsdc_phones_mean_prediction['lngDeg'] * blend_weights_long[\"gsdc-phones-mean-prediction\"]/long_norm +\n",
    "    google_smartphone_decimeter_challenge['lngDeg'] * blend_weights_long[\"device-eda-interpolate-by-removing-device-en-ja\"]/long_norm \n",
    ")"
   ]
  },
  {
   "cell_type": "markdown",
   "id": "0c00ae86",
   "metadata": {
    "papermill": {
     "duration": 0.465596,
     "end_time": "2021-08-04T06:46:42.278871",
     "exception": false,
     "start_time": "2021-08-04T06:46:41.813275",
     "status": "completed"
    },
    "tags": []
   },
   "source": [
    "## 最终输出"
   ]
  },
  {
   "cell_type": "code",
   "execution_count": 55,
   "id": "17e9067b",
   "metadata": {
    "execution": {
     "iopub.execute_input": "2021-08-04T06:46:43.213190Z",
     "iopub.status.busy": "2021-08-04T06:46:43.212513Z",
     "iopub.status.idle": "2021-08-04T06:46:43.781018Z",
     "shell.execute_reply": "2021-08-04T06:46:43.780535Z",
     "shell.execute_reply.started": "2021-08-04T03:40:14.979056Z"
    },
    "papermill": {
     "duration": 1.036941,
     "end_time": "2021-08-04T06:46:43.781192",
     "exception": false,
     "start_time": "2021-08-04T06:46:42.744251",
     "status": "completed"
    },
    "tags": []
   },
   "outputs": [],
   "source": [
    "blend.to_csv(\"submission.csv\", index=False)"
   ]
  },
  {
   "cell_type": "code",
   "execution_count": 56,
   "id": "634ce45f",
   "metadata": {
    "execution": {
     "iopub.execute_input": "2021-08-04T06:46:44.753942Z",
     "iopub.status.busy": "2021-08-04T06:46:44.753038Z",
     "iopub.status.idle": "2021-08-04T06:46:44.757675Z",
     "shell.execute_reply": "2021-08-04T06:46:44.757266Z",
     "shell.execute_reply.started": "2021-08-04T03:40:29.305197Z"
    },
    "papermill": {
     "duration": 0.509258,
     "end_time": "2021-08-04T06:46:44.757792",
     "exception": false,
     "start_time": "2021-08-04T06:46:44.248534",
     "status": "completed"
    },
    "tags": []
   },
   "outputs": [
    {
     "data": {
      "text/html": [
       "<div>\n",
       "<style scoped>\n",
       "    .dataframe tbody tr th:only-of-type {\n",
       "        vertical-align: middle;\n",
       "    }\n",
       "\n",
       "    .dataframe tbody tr th {\n",
       "        vertical-align: top;\n",
       "    }\n",
       "\n",
       "    .dataframe thead th {\n",
       "        text-align: right;\n",
       "    }\n",
       "</style>\n",
       "<table border=\"1\" class=\"dataframe\">\n",
       "  <thead>\n",
       "    <tr style=\"text-align: right;\">\n",
       "      <th></th>\n",
       "      <th>phone</th>\n",
       "      <th>millisSinceGpsEpoch</th>\n",
       "      <th>latDeg</th>\n",
       "      <th>lngDeg</th>\n",
       "    </tr>\n",
       "  </thead>\n",
       "  <tbody>\n",
       "    <tr>\n",
       "      <th>0</th>\n",
       "      <td>2020-05-15-US-MTV-1_Pixel4</td>\n",
       "      <td>1273608785432</td>\n",
       "      <td>37.416577</td>\n",
       "      <td>-122.082019</td>\n",
       "    </tr>\n",
       "    <tr>\n",
       "      <th>1</th>\n",
       "      <td>2020-05-15-US-MTV-1_Pixel4</td>\n",
       "      <td>1273608786432</td>\n",
       "      <td>37.416588</td>\n",
       "      <td>-122.082043</td>\n",
       "    </tr>\n",
       "    <tr>\n",
       "      <th>2</th>\n",
       "      <td>2020-05-15-US-MTV-1_Pixel4</td>\n",
       "      <td>1273608787432</td>\n",
       "      <td>37.416597</td>\n",
       "      <td>-122.082058</td>\n",
       "    </tr>\n",
       "    <tr>\n",
       "      <th>3</th>\n",
       "      <td>2020-05-15-US-MTV-1_Pixel4</td>\n",
       "      <td>1273608788432</td>\n",
       "      <td>37.416601</td>\n",
       "      <td>-122.082066</td>\n",
       "    </tr>\n",
       "    <tr>\n",
       "      <th>4</th>\n",
       "      <td>2020-05-15-US-MTV-1_Pixel4</td>\n",
       "      <td>1273608789432</td>\n",
       "      <td>37.416605</td>\n",
       "      <td>-122.082070</td>\n",
       "    </tr>\n",
       "    <tr>\n",
       "      <th>...</th>\n",
       "      <td>...</td>\n",
       "      <td>...</td>\n",
       "      <td>...</td>\n",
       "      <td>...</td>\n",
       "    </tr>\n",
       "    <tr>\n",
       "      <th>91481</th>\n",
       "      <td>2021-04-29-US-SJC-3_SamsungS20Ultra</td>\n",
       "      <td>1303763185000</td>\n",
       "      <td>37.334561</td>\n",
       "      <td>-121.899391</td>\n",
       "    </tr>\n",
       "    <tr>\n",
       "      <th>91482</th>\n",
       "      <td>2021-04-29-US-SJC-3_SamsungS20Ultra</td>\n",
       "      <td>1303763186000</td>\n",
       "      <td>37.334562</td>\n",
       "      <td>-121.899383</td>\n",
       "    </tr>\n",
       "    <tr>\n",
       "      <th>91483</th>\n",
       "      <td>2021-04-29-US-SJC-3_SamsungS20Ultra</td>\n",
       "      <td>1303763187000</td>\n",
       "      <td>37.334564</td>\n",
       "      <td>-121.899374</td>\n",
       "    </tr>\n",
       "    <tr>\n",
       "      <th>91484</th>\n",
       "      <td>2021-04-29-US-SJC-3_SamsungS20Ultra</td>\n",
       "      <td>1303763188000</td>\n",
       "      <td>37.334566</td>\n",
       "      <td>-121.899366</td>\n",
       "    </tr>\n",
       "    <tr>\n",
       "      <th>91485</th>\n",
       "      <td>2021-04-29-US-SJC-3_SamsungS20Ultra</td>\n",
       "      <td>1303763189000</td>\n",
       "      <td>37.334571</td>\n",
       "      <td>-121.899357</td>\n",
       "    </tr>\n",
       "  </tbody>\n",
       "</table>\n",
       "<p>91486 rows × 4 columns</p>\n",
       "</div>"
      ],
      "text/plain": [
       "                                     phone  millisSinceGpsEpoch     latDeg      lngDeg\n",
       "0               2020-05-15-US-MTV-1_Pixel4        1273608785432  37.416577 -122.082019\n",
       "1               2020-05-15-US-MTV-1_Pixel4        1273608786432  37.416588 -122.082043\n",
       "2               2020-05-15-US-MTV-1_Pixel4        1273608787432  37.416597 -122.082058\n",
       "3               2020-05-15-US-MTV-1_Pixel4        1273608788432  37.416601 -122.082066\n",
       "4               2020-05-15-US-MTV-1_Pixel4        1273608789432  37.416605 -122.082070\n",
       "...                                    ...                  ...        ...         ...\n",
       "91481  2021-04-29-US-SJC-3_SamsungS20Ultra        1303763185000  37.334561 -121.899391\n",
       "91482  2021-04-29-US-SJC-3_SamsungS20Ultra        1303763186000  37.334562 -121.899383\n",
       "91483  2021-04-29-US-SJC-3_SamsungS20Ultra        1303763187000  37.334564 -121.899374\n",
       "91484  2021-04-29-US-SJC-3_SamsungS20Ultra        1303763188000  37.334566 -121.899366\n",
       "91485  2021-04-29-US-SJC-3_SamsungS20Ultra        1303763189000  37.334571 -121.899357\n",
       "\n",
       "[91486 rows x 4 columns]"
      ]
     },
     "execution_count": 56,
     "metadata": {},
     "output_type": "execute_result"
    }
   ],
   "source": [
    "blend"
   ]
  },
  {
   "cell_type": "code",
   "execution_count": 57,
   "id": "71cca9e0",
   "metadata": {
    "execution": {
     "iopub.execute_input": "2021-08-04T06:46:45.721920Z",
     "iopub.status.busy": "2021-08-04T06:46:45.698512Z",
     "iopub.status.idle": "2021-08-04T06:46:46.684711Z",
     "shell.execute_reply": "2021-08-04T06:46:46.685106Z",
     "shell.execute_reply.started": "2021-08-04T01:30:03.477519Z"
    },
    "papermill": {
     "duration": 1.458164,
     "end_time": "2021-08-04T06:46:46.685300",
     "exception": false,
     "start_time": "2021-08-04T06:46:45.227136",
     "status": "completed"
    },
    "tags": []
   },
   "outputs": [],
   "source": [
    "!rm -rf test"
   ]
  }
 ],
 "metadata": {
  "kernelspec": {
   "display_name": "Python 3",
   "language": "python",
   "name": "python3"
  },
  "language_info": {
   "codemirror_mode": {
    "name": "ipython",
    "version": 3
   },
   "file_extension": ".py",
   "mimetype": "text/x-python",
   "name": "python",
   "nbconvert_exporter": "python",
   "pygments_lexer": "ipython3",
   "version": "3.7.10"
  },
  "papermill": {
   "default_parameters": {},
   "duration": 602.348451,
   "end_time": "2021-08-04T06:46:49.464203",
   "environment_variables": {},
   "exception": null,
   "input_path": "__notebook__.ipynb",
   "output_path": "__notebook__.ipynb",
   "parameters": {},
   "start_time": "2021-08-04T06:36:47.115752",
   "version": "2.3.3"
  }
 },
 "nbformat": 4,
 "nbformat_minor": 5
}
